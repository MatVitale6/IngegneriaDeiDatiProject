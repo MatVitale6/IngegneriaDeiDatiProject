{
 "cells": [
  {
   "cell_type": "code",
   "execution_count": 23,
   "metadata": {},
   "outputs": [],
   "source": [
    "import re\n",
    "def extract_document_id(link):\n",
    "    \"\"\"\n",
    "    Extracts the document ID from an arXiv link.\n",
    "    \n",
    "    Args:\n",
    "        link (str): The arXiv link.\n",
    "        \n",
    "    Returns:\n",
    "        str: The extracted document ID, or None if no ID is found.\n",
    "    \"\"\"\n",
    "    pattern = r\"https://ar5iv\\.labs\\.arxiv\\.org/html/(\\d{4}\\.\\d{5}(v\\d+)?)\"\n",
    "    match = re.search(pattern, link)\n",
    "    if match:\n",
    "        return match.group(1)\n",
    "    return None"
   ]
  },
  {
   "cell_type": "code",
   "execution_count": 26,
   "metadata": {},
   "outputs": [
    {
     "name": "stdout",
     "output_type": "stream",
     "text": [
      "TABLE VI: Federated deep learning approach (CNN) evaluation results for multi-classification with IID and Non-IID data.\n",
      "Table VI presents the evaluation results of the federated deep learning approach (CNN) for multi-classification in federated model performance with the IID and Non-IID data and different numbers of honest clients Khsubscript𝐾ℎK_{h} and malicious clients Kmsubscript𝐾𝑚K_{m}. with a poisoning attack (i.e., α𝛼\\alpha =60%absentpercent60=60\\%) and the number of honest clients is less than the number of malicious clients (i.e., Kh=3subscript𝐾ℎ3K_{h}=3 and Km=7subscript𝐾𝑚7K_{m}=7), we observe that the CNN classifier is affected and give negative results with the three performance metrics, namely, precision, recall, and F1 score.\n",
      "\n"
     ]
    }
   ],
   "source": [
    "import json \n",
    "import os\n",
    "import requests\n",
    "from pprint import pprint\n",
    "\n",
    "API_ENDPOINT = 'http://localhost:8080/search'\n",
    "\n",
    "query = \"precision score on federated learning\"\n",
    "\n",
    "content = {\n",
    "    \"inputString\" : query,\n",
    "    \"resultCount\": 10,\n",
    "    \"resourceType\":\"json\"\n",
    "}\n",
    "\n",
    "tables = requests.post(API_ENDPOINT, data=content)\n",
    "\n",
    "tables = tables.json()\n",
    "\n",
    "with open(\"results.txt\", 'wt') as f:\n",
    "    i = 1\n",
    "    f.write(f\"Query: {query}\\n\\n\")\n",
    "    for table in tables:\n",
    "        caption = table['caption']\n",
    "        references = table['references']\n",
    "        footnotes = table['footnotes']\n",
    "        table_id = table['tableId']\n",
    "\n",
    "        f.write(f\"Table: {extract_document_id(table['link'])}:{table_id}\\n\")\n",
    "        f.write(f\"Caption: {caption}\\n\")\n",
    "        f.write(f\"References: {references}\\n\")\n",
    "        \n",
    "        if footnotes:\n",
    "            f.write(f\"Footnotes: {caption}\\n\")\n",
    "\n",
    "        i += 1\n",
    "\n",
    "        f.write(\"\\n-----------------------------------------\\n\\n\")\n",
    "\n",
    "    print(caption)\n",
    "    print(references)\n",
    "    print(footnotes)"
   ]
  }
 ],
 "metadata": {
  "kernelspec": {
   "display_name": "Python 3",
   "language": "python",
   "name": "python3"
  },
  "language_info": {
   "codemirror_mode": {
    "name": "ipython",
    "version": 3
   },
   "file_extension": ".py",
   "mimetype": "text/x-python",
   "name": "python",
   "nbconvert_exporter": "python",
   "pygments_lexer": "ipython3",
   "version": "3.10.12"
  }
 },
 "nbformat": 4,
 "nbformat_minor": 2
}
