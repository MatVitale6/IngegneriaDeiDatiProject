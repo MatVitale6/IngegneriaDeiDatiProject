{
 "cells": [
  {
   "cell_type": "code",
   "execution_count": 4,
   "metadata": {},
   "outputs": [],
   "source": [
    "import json \n",
    "import os\n",
    "import random\n",
    "from pprint import pprint\n",
    "import re\n",
    "\n",
    "JSON_DIR = '../lucenehw/urls_htmls_tables/all_tables'\n",
    "DEST_DIR = 'improved_json/'"
   ]
  },
  {
   "cell_type": "markdown",
   "metadata": {},
   "source": [
    "### Empty JSON remover\n",
    "This function deletes useless empty json file.\n",
    "It checks if the file is empty or if the only content is a field `INFO` that usually says `\"There are no tables in this article\"`  "
   ]
  },
  {
   "cell_type": "markdown",
   "metadata": {},
   "source": [
    "### Define JSON to sample here\n",
    "Random sampling\n",
    "\n",
    "Rerun multiple times this section to change sampled files, otherwise never run again this section if you're working with this first specific sampled files"
   ]
  },
  {
   "cell_type": "code",
   "execution_count": 54,
   "metadata": {},
   "outputs": [
    {
     "data": {
      "text/plain": [
       "['2407.17788v1.json',\n",
       " '2410.04960.json',\n",
       " '2409.01887v1.json',\n",
       " '2306.03013.json',\n",
       " '2409.11219.json',\n",
       " '2306.05706.json',\n",
       " '2010.12229.json',\n",
       " '2010.07427.json',\n",
       " '2209.00564.json',\n",
       " '2409.16016.json',\n",
       " '2409.09515.json',\n",
       " '2304.04312v1.json',\n",
       " '226_arXiv2407.04925.json',\n",
       " '2108.06912.json',\n",
       " '2010.13058.json',\n",
       " '1806.03724v1.json',\n",
       " '2408.09545.json',\n",
       " '2304.14663.json',\n",
       " '2202.04311.json',\n",
       " '2403.07444.json',\n",
       " '2406.17475v1.json',\n",
       " '2409.13146.json',\n",
       " '287_arXiv2406.03714.json',\n",
       " '2410.04263.json',\n",
       " '2405.03152.json',\n",
       " '2204.09746.json',\n",
       " '2409.12626.json',\n",
       " '2308.11730.json',\n",
       " '2108.10568v1.json',\n",
       " '2402.09795.json',\n",
       " '2401.12438.json',\n",
       " '2101.00191.json',\n",
       " '2406.03423v1.json',\n",
       " '2404.19310.json',\n",
       " '1905.13648v2.json',\n",
       " '2009.00081.json',\n",
       " '2105.02584v1.json',\n",
       " '144_arXiv2406.19215.json',\n",
       " '2408.11271.json',\n",
       " '2403.03075.json',\n",
       " '2406.11580.json',\n",
       " '2409.07793.json',\n",
       " '2405.16472.json',\n",
       " '2312.15608.json',\n",
       " '2312.17029.json',\n",
       " '2111.01322v1.json',\n",
       " '2406.08396.json',\n",
       " '1908.10423v1.json',\n",
       " '2010.00239.json',\n",
       " '2406.07867.json',\n",
       " '2409.09532.json',\n",
       " '2409.01012v1.json',\n",
       " '2008.10808.json',\n",
       " '2011.02050.json',\n",
       " '2408.02575v1.json',\n",
       " '2405.01494.json',\n",
       " '2409.15355.json',\n",
       " '390_arXiv2401.15884.json',\n",
       " '2101.07511.json',\n",
       " '2102.01375.json',\n",
       " '2311.13348.json',\n",
       " '2205.10998.json',\n",
       " '2406.02355.json',\n",
       " '2407.19469v1.json',\n",
       " '2408.12733.json',\n",
       " '2010.00181.json',\n",
       " '2210.02235.json',\n",
       " '2409.11353.json',\n",
       " '183_arXiv2406.05794.json',\n",
       " '2408.14950.json',\n",
       " '2312.10380.json',\n",
       " '2212.00491.json',\n",
       " '2409.07094.json',\n",
       " '2203.13517.json',\n",
       " '139_arXiv2407.00072.json',\n",
       " '2409.15568v1.json',\n",
       " '2308.13298.json',\n",
       " '2409.13221.json',\n",
       " '2111.07480.json',\n",
       " '2105.04780v2.json',\n",
       " '2406.06910.json',\n",
       " '2402.06894.json',\n",
       " '2009.01871.json',\n",
       " '2309.03726v1.json',\n",
       " '2210.03809v2.json',\n",
       " '2404.13340.json',\n",
       " '2304.08847.json',\n",
       " '2407.09219.json',\n",
       " '2209.00946v2.json',\n",
       " '2007.00914.json',\n",
       " '2006.14591.json',\n",
       " '12_arXiv2403.19378.json',\n",
       " '2408.05141.json',\n",
       " '2209.12277.json',\n",
       " '2407.18957v4.json',\n",
       " '2306.10982.json',\n",
       " '2207.04620.json',\n",
       " '2402.07945.json',\n",
       " '2109.05542.json',\n",
       " '2312.03889.json']"
      ]
     },
     "execution_count": 54,
     "metadata": {},
     "output_type": "execute_result"
    }
   ],
   "source": [
    "all_files = [file for file in os.listdir(JSON_DIR) if os.path.isfile(os.path.join(JSON_DIR, file))]\n",
    "\n",
    "sampled_files = random.sample(all_files, min(100, len(all_files)))\n",
    "sampled_files"
   ]
  },
  {
   "cell_type": "code",
   "execution_count": 156,
   "metadata": {},
   "outputs": [],
   "source": [
    "def delete_empty_json(input_path):\n",
    "    try:\n",
    "        with open(input_path, 'r') as infile:\n",
    "            data = json.load(infile)\n",
    "        \n",
    "        if isinstance(data, dict):\n",
    "            if not data or set(data.keys()) == {\"INFO\"}:\n",
    "                os.remove(input_path)\n",
    "                \n",
    "                print(f\"Deleted empty file: {input_path}\")\n",
    "                return \n",
    "    except json.JSONDecodeError as e:\n",
    "        print(f\"Unexpected error in decoding JSON {input_path}, {e}\")\n",
    "    except FileNotFoundError:\n",
    "        print(f\"File not found: {input_path}\")\n",
    "    except Exception as e:\n",
    "        print(f\"Unexpected error in {input_path}, {e}\")"
   ]
  },
  {
   "cell_type": "code",
   "execution_count": 157,
   "metadata": {},
   "outputs": [],
   "source": [
    "# CHANGE THIS TO DESIRED FOLDER\n",
    "for filename in all_files:\n",
    "    delete_empty_json(os.path.join(JSON_DIR, filename))"
   ]
  },
  {
   "cell_type": "markdown",
   "metadata": {},
   "source": [
    "### JSON Fixxer \n",
    "This function correct the bad formatted json, some json has this problem:\n",
    "```json\n",
    "{\n",
    "    ... data here\n",
    "}\n",
    "{\n",
    "    ... data here\n",
    "}\n",
    "{\n",
    "    ...\n",
    "}\n",
    "```\n",
    "\n",
    "when the correct formatting should be:\n",
    "\n",
    "```json\n",
    "{\n",
    "    ... data here\n",
    "    ,\n",
    "    ... data here\n",
    "    ,\n",
    "    ... data here\n",
    "}\n",
    "```\n",
    "\n",
    "So the replacement from `'}{'` to `','` is exactly what the function does"
   ]
  },
  {
   "cell_type": "code",
   "execution_count": null,
   "metadata": {},
   "outputs": [],
   "source": [
    "# Function to easy fix bad formatting of json file\n",
    "def fix_json(input_path, output_path):\n",
    "    try:\n",
    "        with open(input_path, 'r') as file:\n",
    "            content = file.read()\n",
    "        fixed_content = content.replace('}{', ',')\n",
    "        \n",
    "        with open(output_path, 'w') as file:\n",
    "            file.write(fixed_content)\n",
    "        \n",
    "        print(f\"Fixed JSON saved to: {output_path}\")\n",
    "    except Exception as e:\n",
    "        print(f\"Unexpected error in {input_path}, {e}\")\n"
   ]
  },
  {
   "cell_type": "code",
   "execution_count": null,
   "metadata": {},
   "outputs": [],
   "source": [
    "for filename in all_files:\n",
    "    input_file = os.path.join(JSON_DIR, filename)\n",
    "    output_file = os.path.join(JSON_DIR, filename)\n",
    "    try:\n",
    "        with open(input_file, 'rb') as i:\n",
    "            data = json.load(i)\n",
    "    except json.JSONDecodeError as e:\n",
    "        print(f\"error decoding this JSON file: {filename}, {e} \")\n",
    "        fix_json(input_file, output_path=output_file)"
   ]
  },
  {
   "cell_type": "markdown",
   "metadata": {},
   "source": [
    "### JSON Cleaner"
   ]
  },
  {
   "cell_type": "code",
   "execution_count": 71,
   "metadata": {},
   "outputs": [],
   "source": [
    "pattern1 = r\"^(S|A|Ch)[a-zA-Z0-9]*\\d+\\.T[a-zA-Z0-9]*\\d+(\\..*)?$|^global_footnotes$\"\n",
    "pattern2 = r\"^id_table_\\d+$\"\n",
    "pattern3 = r'id=\"(S|A|Ch)[a-zA-Z0-9]*\\d+\\.T[a-zA-Z0-9]*\\d+(\\..*)?\"'\n",
    "pattern4 = r\"^PAPER'S NUMBER OF TABLES$\"\n",
    "number_of_key_removed = 0\n",
    "occ = 0\n",
    "\n",
    "\n",
    "# this function unrolls recursively lists, used for case when data[key]['table'] is a nested list\n",
    "def process_element(element):\n",
    "    if isinstance(element, str):\n",
    "        if not (re.match(pattern1, element) or re.findall(pattern3, element)):\n",
    "            return True\n",
    "    elif isinstance(element, list):\n",
    "        for sub_element in element:\n",
    "            if process_element(sub_element):\n",
    "                return True\n",
    "    return False\n",
    "\n",
    "def process_json(data, filename):\n",
    "    global number_of_key_removed\n",
    "    keys_to_remove = []\n",
    "\n",
    "    for key in data.keys():\n",
    "        if not re.match(pattern1, key) and not re.match(pattern2, key):\n",
    "            keys_to_remove.append(key)\n",
    "            \n",
    "        if re.match(pattern4, key):\n",
    "            keys_to_remove.append(key)\n",
    "\n",
    "        if re.match(pattern2, key):\n",
    "            if isinstance(data[key]['table'], str):\n",
    "                if not re.match(pattern1, data[key]['table']) and not re.findall(pattern3, data[key]['table']):\n",
    "                    keys_to_remove.append(key)\n",
    "\n",
    "            elif isinstance(data[key]['table'], list):\n",
    "                # same thing as before but you're searching in a list\n",
    "                if process_element(data[key]['table']):\n",
    "                    keys_to_remove.append(key)\n",
    "                    \n",
    "    if len(keys_to_remove) > 0:\n",
    "        number_of_key_removed += len(keys_to_remove)\n",
    "        for key in keys_to_remove:\n",
    "            if key in data:\n",
    "                \n",
    "                # !!use this to debug!!\n",
    "                # if key == \"PAPER'S NUMBER OF TABLES\" or key == \"INFO\":\n",
    "                #     del data[key]\n",
    "                #     continue\n",
    "                \n",
    "                # print(f\"file: {filename}\")\n",
    "                # if isinstance(data[key], dict):\n",
    "                #     print(f\"Key to delete: {key}\")\n",
    "                #     print(f\"Value: {data[key]['table']}\")\n",
    "                # else:\n",
    "                #     print(f\"Key to delete: {key}\")\n",
    "                #     print(f\"Value: {data[key]}\")\n",
    "\n",
    "                # input(\"Press enter to delete\")\n",
    "                del data[key]\n",
    "        return True\n",
    "    else:\n",
    "        return False\n",
    "        "
   ]
  },
  {
   "cell_type": "code",
   "execution_count": null,
   "metadata": {},
   "outputs": [
    {
     "name": "stdout",
     "output_type": "stream",
     "text": [
      "4859 files were cleaned, which is f55.28501536010923% of total files\n",
      "15926 keys were removed\n"
     ]
    }
   ],
   "source": [
    "for filename in all_files:\n",
    "    input_file = os.path.join(JSON_DIR, filename)\n",
    "    output_file = os.path.join(DEST_DIR, filename)\n",
    "    with open(input_file, 'rb') as i:\n",
    "        data = json.load(i)\n",
    "\n",
    "        if process_json(data, filename):\n",
    "            occ += 1\n",
    "            if len(data.keys()) > 0:\n",
    "                with open(output_file, 'w') as o:\n",
    "                    json.dump(data, o, indent=2)\n",
    "            else:\n",
    "                os.remove(filename) # ?? check this \n",
    "print(f\"{occ} files were cleaned, which is {occ/len(all_files) * 100}% of total files\")\n",
    "print(f\"{number_of_key_removed} keys were removed\")"
   ]
  },
  {
   "cell_type": "markdown",
   "metadata": {},
   "source": [
    "### Test"
   ]
  },
  {
   "cell_type": "code",
   "execution_count": 52,
   "metadata": {},
   "outputs": [
    {
     "name": "stdout",
     "output_type": "stream",
     "text": [
      "['S2.E1', 'S1.F1', 'A3.E5', 'A3.F4.E1']\n",
      "['id_figure_1']\n",
      "['id=\"S1.F1.5.1.1\"', 'id=\"S3.Ex3.m1.1.2.3.2.1\"']\n",
      "['<table class=\"ltx_tabular ltx_centering ltx_figure_panel ltx_align_middle\" id=\"S1.F1.5\">\\n<tr class=\"ltx_tr\" id=\"S1.F1.5.1\">\\n<td class=\"ltx_td ltx_align_center\"', 'S4.E7', 'A6.EGx1']\n"
     ]
    }
   ],
   "source": [
    "import re\n",
    "\n",
    "string1 = ['S2.E1', 'S1.F1', 'A3.E5', 'A3.F4.E1', 'S12.T1', 'S1.T3.1.2', 'A1.T1', 'Sx4.T5.1.m.2']\n",
    "string2 = ['id_table_1', 'id_figure_1', 'id_table_12']\n",
    "string3 = ['id=\"S1.T1\"', 'id=\"A1.T2\"', 'id=\"S2.T1.1\"', \"<table id=\\\"S5.T2.1\\\"\", \"id=\\\"Sx1.T1.4.4\\\"\", \"id=\\\"S1.F1.5.1.1\\\"\", \"id=\\\"S3.Ex3.m1.1.2.3.2.1\\\"\"]\n",
    "string4 = [\"<table class=\\\"ltx_tabular ltx_centering ltx_figure_panel ltx_align_middle\\\" id=\\\"S1.F1.5\\\">\\n<tr class=\\\"ltx_tr\\\" id=\\\"S1.F1.5.1\\\">\\n<td class=\\\"ltx_td ltx_align_center\\\"\",\n",
    "           \"<table id=\\\"S1.T1.1\\\" class=\\\"ltx_tabular ltx_guessed_headers ltx_align_middle\",\n",
    "           \"S2.T1.1.1\", \"S4.E7\", \"A6.EGx1\"\n",
    "           ]\n",
    "\n",
    "matches1 = [s for s in string1 if not re.match(pattern1, s)]\n",
    "matches2 = [s for s in string2 if not re.match(pattern2, s)]\n",
    "matches3 = [s for s in string3 if not re.findall(pattern3, s)]\n",
    "matches4 = [s for s in string4 if not re.match(pattern1, s) and not re.findall(pattern3, s)]\n",
    "\n",
    "print(matches1)\n",
    "print(matches2)\n",
    "print(matches3)\n",
    "print(matches4)"
   ]
  },
  {
   "cell_type": "code",
   "execution_count": 53,
   "metadata": {},
   "outputs": [
    {
     "name": "stdout",
     "output_type": "stream",
     "text": [
      "Test 'Simple Valid String' passed.\n",
      "Test 'Simple Invalid String' passed.\n",
      "Test 'Valid Nested List' passed.\n",
      "Test 'Nested List with Invalid Element' passed.\n",
      "Test 'Deeply Nested List with Invalid Element' passed.\n",
      "Test 'Valid Element Matching pattern3' passed.\n",
      "Test 'Mixed List with Invalid Element' passed.\n",
      "Test 'Empty List' passed.\n",
      "Test 'List with Only Valid Nested Lists' passed.\n",
      "Test 'List with Deeply Nested Invalid String' passed.\n"
     ]
    }
   ],
   "source": [
    "test_cases = [\n",
    "    (\"Simple Valid String\", \"S5.T2.1\", False),\n",
    "    (\"Simple Invalid String\", \"<table id=\\\"A4.E2.2.m.11\\\"\", True),\n",
    "    (\"Valid Nested List\", [\"S5.T2.1\", \"S6.T3.1\"], False),\n",
    "    (\"Nested List with Invalid Element\", [\"S5.T2.1\", \"invalid_element\"], True),\n",
    "    (\"Deeply Nested List with Invalid Element\", [\"S5.T2.1\", [\"S6.T3.1\", \"invalid_element\"]], True),\n",
    "    (\"Valid Element Matching pattern3\", 'id=\"S5.T2.1\"', False),\n",
    "    (\"Mixed List with Invalid Element\", ['id=\"S5.T2.1\"', \"invalid_element\"], True),\n",
    "    (\"Empty List\", [], False),\n",
    "    (\"List with Only Valid Nested Lists\", [[\"S5.T2.1\", \"S6.T3.1\"], [\"S7.T4.2\", \"S8.T5.3\"]], False),\n",
    "    (\"List with Deeply Nested Invalid String\", [[\"S5.T2.1\", \"S6.T3.1\"], [\"S7.T4.2\", \"invalid_element\"]], True),\n",
    "]\n",
    "\n",
    "for name, element, expected in test_cases:\n",
    "    result = process_element(element)\n",
    "    assert result == expected, f\"Test '{name}' failed: expected {expected}, got {result}\"\n",
    "    print(f\"Test '{name}' passed.\")"
   ]
  },
  {
   "cell_type": "markdown",
   "metadata": {},
   "source": [
    "Empty improved_json folder"
   ]
  },
  {
   "cell_type": "code",
   "execution_count": 10,
   "metadata": {},
   "outputs": [],
   "source": [
    "!rm improved_json/*"
   ]
  }
 ],
 "metadata": {
  "kernelspec": {
   "display_name": "Python 3",
   "language": "python",
   "name": "python3"
  },
  "language_info": {
   "codemirror_mode": {
    "name": "ipython",
    "version": 3
   },
   "file_extension": ".py",
   "mimetype": "text/x-python",
   "name": "python",
   "nbconvert_exporter": "python",
   "pygments_lexer": "ipython3",
   "version": "3.10.12"
  }
 },
 "nbformat": 4,
 "nbformat_minor": 2
}
