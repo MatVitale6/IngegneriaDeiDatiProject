{
 "cells": [
  {
   "cell_type": "markdown",
   "metadata": {},
   "source": [
    "\n",
    "## **Valutazione del Processo di Record Linkage**\n",
    "\n",
    "In questa sezione, introdurremo la valutazione del processo di record linkage utilizzando una ground truth più piccola e generata a mano. La ground truth rappresenta un insieme di dati di riferimento che ci permette di verificare l'accuratezza del nostro processo di record linkage. Utilizzando una ground truth ridotta e creata manualmente, possiamo ottenere una valutazione più precisa e dettagliata delle prestazioni del nostro algoritmo.\n"
   ]
  },
  {
   "cell_type": "code",
   "execution_count": 36,
   "metadata": {},
   "outputs": [],
   "source": [
    "import pandas as pd"
   ]
  },
  {
   "cell_type": "markdown",
   "metadata": {},
   "source": [
    "### Mo il punto é che la ground truth presenta solo alcuni casi, non tutti quindi procediamo a filtrare il dataframe"
   ]
  },
  {
   "cell_type": "code",
   "execution_count": 37,
   "metadata": {},
   "outputs": [],
   "source": [
    "ground_truth = pd.read_csv('../ground_truth.csv')\n",
    "\n",
    "#questo é con il primo metodo di record linkage\n",
    "companies_df1 = pd.read_csv('../record_linkage/deduplicated_companies.csv')\n",
    "\n",
    "#questo é con il secondo metodo di record linkage\n",
    "companies_df2 = pd.read_csv('../record_linkage/deduplicated_companies2.csv')"
   ]
  },
  {
   "cell_type": "markdown",
   "metadata": {},
   "source": [
    "## **Step 1: Filtraggio delle aziende nella Ground Truth**\n",
    "\n",
    "In questa fase, filtriamo il dataset della ground truth per mantenere solo le aziende presenti nei dataset deduplicati. Questo ci permette di confrontare i risultati del record linkage solo con le entità per le quali abbiamo dati verificati.\n"
   ]
  },
  {
   "cell_type": "code",
   "execution_count": 38,
   "metadata": {},
   "outputs": [],
   "source": [
    "from collections import defaultdict\n",
    "\n",
    "# Creiamo un dizionario per raggruppare le aziende duplicate\n",
    "ground_truth_groups = defaultdict(set)\n",
    "\n",
    "for _, row in ground_truth.iterrows():\n",
    "    ground_truth_groups[row['c1.company_name']].add(row['c2.company_name'])\n",
    "    ground_truth_groups[row['c2.company_name']].add(row['c1.company_name'])\n",
    "\n",
    "# Convertiamo i valori in liste\n",
    "ground_truth_sets = [set([key] + list(values)) for key, values in ground_truth_groups.items()]\n",
    "\n"
   ]
  },
  {
   "cell_type": "markdown",
   "metadata": {},
   "source": [
    "## **Step 2: Creazione delle Corrispondenze**\n",
    "\n",
    "Dopo aver filtrato le aziende nella ground truth, estraiamo i record corrispondenti nei dataset deduplicati ottenuti con i due metodi di record linkage. Questo ci consente di valutare le differenze nei risultati prodotti dai due approcci."
   ]
  },
  {
   "cell_type": "code",
   "execution_count": 39,
   "metadata": {},
   "outputs": [],
   "source": [
    "def get_duplicate_groups(df):\n",
    "    groups = defaultdict(set)\n",
    "    for _, row in df.iterrows():\n",
    "        groups[row['company_name']].add(row['company_name'])  # Aggiungiamo se stessi\n",
    "    return [set(values) for values in groups.values()]\n",
    "\n",
    "# Creiamo gruppi dai risultati\n",
    "df1_groups = get_duplicate_groups(companies_df1)\n",
    "df2_groups = get_duplicate_groups(companies_df2)\n"
   ]
  },
  {
   "cell_type": "markdown",
   "metadata": {},
   "source": [
    "## **Step 3: Valutazione della Qualità del Record Linkage**\n",
    "\n",
    "Confrontiamo le corrispondenze trovate nei dataset deduplicati con la ground truth, calcolando metriche di valutazione come precision, recall e F1-score. Questo ci permette di determinare quale metodo di record linkage ha prodotto i risultati più affidabili."
   ]
  },
  {
   "cell_type": "code",
   "execution_count": 40,
   "metadata": {},
   "outputs": [
    {
     "name": "stdout",
     "output_type": "stream",
     "text": [
      "Metodo 1 - Precision: 0.1818, Recall: 0.0566, F1-score: 0.0864\n",
      "Metodo 2 - Precision: 0.0223, Recall: 0.0414, F1-score: 0.0289\n"
     ]
    }
   ],
   "source": [
    "def evaluate_linkage(detected_groups, ground_truth_groups):\n",
    "    true_positives = 0\n",
    "    false_positives = 0\n",
    "    false_negatives = 0\n",
    "\n",
    "    # Calcolare i True Positives\n",
    "    for detected_group in detected_groups:\n",
    "        if any(detected_group & gt for gt in ground_truth_groups):\n",
    "            true_positives += 1\n",
    "        else:\n",
    "            false_positives += 1\n",
    "    \n",
    "    # Calcolare i False Negatives\n",
    "    for gt in ground_truth_groups:\n",
    "        if not any(gt & detected_group for detected_group in detected_groups):\n",
    "            false_negatives += 1\n",
    "    \n",
    "    precision = true_positives / (true_positives + false_positives) if (true_positives + false_positives) > 0 else 0\n",
    "    recall = true_positives / (true_positives + false_negatives) if (true_positives + false_negatives) > 0 else 0\n",
    "    f1_score = 2 * (precision * recall) / (precision + recall) if (precision + recall) > 0 else 0\n",
    "\n",
    "    return precision, recall, f1_score\n",
    "\n",
    "precision1, recall1, f1_1 = evaluate_linkage(df1_groups, ground_truth_sets)\n",
    "precision2, recall2, f1_2 = evaluate_linkage(df2_groups, ground_truth_sets)\n",
    "\n",
    "print(f\"Metodo 1 - Precision: {precision1:.4f}, Recall: {recall1:.4f}, F1-score: {f1_1:.4f}\")\n",
    "print(f\"Metodo 2 - Precision: {precision2:.4f}, Recall: {recall2:.4f}, F1-score: {f1_2:.4f}\")\n",
    "\n"
   ]
  },
  {
   "cell_type": "markdown",
   "metadata": {},
   "source": [
    "## **Step 4: Visualizzazione Grafica**"
   ]
  },
  {
   "cell_type": "code",
   "execution_count": 7,
   "metadata": {},
   "outputs": [
    {
     "data": {
      "image/png": "[encoded data removed]",
      "text/plain": [
       "<Figure size 640x480 with 1 Axes>"
      ]
     },
     "metadata": {},
     "output_type": "display_data"
    }
   ],
   "source": [
    "import matplotlib.pyplot as plt\n",
    "import numpy as np\n",
    "\n",
    "labels = [\"Precision\", \"Recall\", \"F1-score\"]\n",
    "values1 = [precision1, recall1, f1_1]\n",
    "values2 = [precision2, recall2, f1_2]\n",
    "\n",
    "x = np.arange(len(labels))\n",
    "width = 0.3\n",
    "\n",
    "fig, ax = plt.subplots()\n",
    "bars1 = ax.bar(x - width/2, values1, width, label=\"Metodo 1\")\n",
    "bars2 = ax.bar(x + width/2, values2, width, label=\"Metodo 2\")\n",
    "\n",
    "ax.set_xticks(x)\n",
    "ax.set_xticklabels(labels)\n",
    "ax.legend()\n",
    "ax.set_ylabel(\"Score\")\n",
    "ax.set_title(\"Confronto tra i due metodi di Record Linkage\")\n",
    "\n",
    "plt.show()"
   ]
  }
 ],
 "metadata": {
  "kernelspec": {
   "display_name": "base",
   "language": "python",
   "name": "python3"
  },
  "language_info": {
   "codemirror_mode": {
    "name": "ipython",
    "version": 3
   },
   "file_extension": ".py",
   "mimetype": "text/x-python",
   "name": "python",
   "nbconvert_exporter": "python",
   "pygments_lexer": "ipython3",
   "version": "3.9.13"
  }
 },
 "nbformat": 4,
 "nbformat_minor": 2
}
