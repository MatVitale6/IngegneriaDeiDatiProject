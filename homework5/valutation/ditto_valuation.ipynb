{
 "cells": [
  {
   "cell_type": "code",
   "execution_count": 45,
   "metadata": {},
   "outputs": [],
   "source": [
    "import pandas as pd\n",
    "import json\n",
    "\n",
    "# File paths\n",
    "model_output_file = \"/home/hermann/ditto/output/matches.jsonl\"  # Update with your Ditto output file path\n",
    "ground_truth_file = \"../ground_truth.csv\"  # Update with your ground truth file path\n",
    "\n",
    "\n",
    "columns = [\n",
    "    \"c1.company_id\", \"c1.company_name\", \"c1.industry\", \"c1.sector\", \"c1.categories\",\n",
    "    \"c1.company_status\", \"c1.company_type\", \"c1.address\", \"c1.postal_code\", \"c1.city\", \"c1.country\", \"c1.state\",\n",
    "    \"c1.foundation_year\", \"c1.registration_date\", \"c1.website\", \"c1.rank\", \"c1.market_cap_or_valuation\",\n",
    "    \"c1.number_of_employees\", \"c1.ceo\", \"c1.assets\", \"c1.profit_or_net_income\", \"c1.revenue\", \n",
    "    \"c1.share_price\", \"c1.change_1_day\", \"c1.change_1_year\", \"c1.debts\", \"c1.phone\", \"c1.notes_or_description\",\n",
    "    \"c2.company_id\", \"c2.company_name\", \"c2.industry\", \"c2.sector\", \"c2.categories\",\n",
    "    \"c2.company_status\", \"c2.company_type\", \"c2.address\", \"c2.postal_code\", \"c2.city\", \"c2.country\", \"c2.state\",\n",
    "    \"c2.foundation_year\", \"c2.registration_date\", \"c2.website\", \"c2.rank\", \"c2.market_cap_or_valuation\",\n",
    "    \"c2.number_of_employees\", \"c2.ceo\", \"c2.assets\", \"c2.profit_or_net_income\", \"c2.revenue\", \n",
    "    \"c2.share_price\", \"c2.change_1_day\", \"c2.change_1_year\", \"c2.debts\", \"c2.phone\", \"c2.notes_or_description\",\n",
    "    \"similarity_score\", \"is_match\"\n",
    "]\n"
   ]
  },
  {
   "cell_type": "code",
   "execution_count": 30,
   "metadata": {},
   "outputs": [],
   "source": [
    "def process_jsonl(file_path):\n",
    "    data = []\n",
    "    with open(file_path, 'r', encoding='utf-8') as file:\n",
    "        for line in file:\n",
    "            record = json.loads(line)\n",
    "            left = record.get(\"left\", {})\n",
    "            right = record.get(\"right\", {})\n",
    "            \n",
    "            row = {\n",
    "                \"c1.company_id\": left.get(\"company_id\", \"\"),\n",
    "                \"c1.company_name\": left.get(\"company_name\", \"\"),\n",
    "                \"c1.industry\": left.get(\"industry\", \"\"),\n",
    "                \"c1.sector\": left.get(\"sector\", \"\"),\n",
    "                \"c1.categories\": left.get(\"categories\", \"\"),\n",
    "                \"c1.company_status\": left.get(\"company_status\", \"\"),\n",
    "                \"c1.company_type\": left.get(\"company_type\", \"\"),\n",
    "                \"c1.address\": left.get(\"address\", \"\"),\n",
    "                \"c1.postal_code\": left.get(\"postal_code\", \"\"),\n",
    "                \"c1.city\": left.get(\"city\", \"\"),\n",
    "                \"c1.country\": left.get(\"country\", \"\"),\n",
    "                \"c1.state\": left.get(\"state\", \"\"),\n",
    "                \"c1.foundation_year\": left.get(\"foundation_year\", \"\"),\n",
    "                \"c1.registration_date\": left.get(\"registration_date\", \"\"),\n",
    "                \"c1.website\": left.get(\"website\", \"\"),\n",
    "                \"c1.rank\": left.get(\"rank\", \"\"),\n",
    "                \"c1.market_cap_or_valuation\": left.get(\"market_cap_or_valuation\", \"\"),\n",
    "                \"c1.number_of_employees\": left.get(\"number_of_employees\", \"\"),\n",
    "                \"c1.ceo\": left.get(\"ceo\", \"\"),\n",
    "                \"c1.assets\": left.get(\"assets\", \"\"),\n",
    "                \"c1.profit_or_net_income\": left.get(\"profit_or_net_income\", \"\"),\n",
    "                \"c1.revenue\": left.get(\"revenue\", \"\"),\n",
    "                \"c1.share_price\": left.get(\"share_price\", \"\"),\n",
    "                \"c1.change_1_day\": left.get(\"change_1_day\", \"\"),\n",
    "                \"c1.change_1_year\": left.get(\"change_1_year\", \"\"),\n",
    "                \"c1.debts\": left.get(\"debts\", \"\"),\n",
    "                \"c1.phone\": left.get(\"phone\", \"\"),\n",
    "                \"c1.notes_or_description\": left.get(\"notes_or_description\", \"\"),\n",
    "                \"c2.company_id\": right.get(\"company_id\", \"\"),\n",
    "                \"c2.company_name\": right.get(\"company_name\", \"\"),\n",
    "                \"c2.industry\": right.get(\"industry\", \"\"),\n",
    "                \"c2.sector\": right.get(\"sector\", \"\"),\n",
    "                \"c2.categories\": right.get(\"categories\", \"\"),\n",
    "                \"c2.company_status\": right.get(\"company_status\", \"\"),\n",
    "                \"c2.company_type\": right.get(\"company_type\", \"\"),\n",
    "                \"c2.address\": right.get(\"address\", \"\"),\n",
    "                \"c2.postal_code\": right.get(\"postal_code\", \"\"),\n",
    "                \"c2.city\": right.get(\"city\", \"\"),\n",
    "                \"c2.country\": right.get(\"country\", \"\"),\n",
    "                \"c2.state\": right.get(\"state\", \"\"),\n",
    "                \"c2.foundation_year\": right.get(\"foundation_year\", \"\"),\n",
    "                \"c2.registration_date\": right.get(\"registration_date\", \"\"),\n",
    "                \"c2.website\": right.get(\"website\", \"\"),\n",
    "                \"c2.rank\": right.get(\"rank\", \"\"),\n",
    "                \"c2.market_cap_or_valuation\": right.get(\"market_cap_or_valuation\", \"\"),\n",
    "                \"c2.number_of_employees\": right.get(\"number_of_employees\", \"\"),\n",
    "                \"c2.ceo\": right.get(\"ceo\", \"\"),\n",
    "                \"c2.assets\": right.get(\"assets\", \"\"),\n",
    "                \"c2.profit_or_net_income\": right.get(\"profit_or_net_income\", \"\"),\n",
    "                \"c2.revenue\": right.get(\"revenue\", \"\"),\n",
    "                \"c2.share_price\": right.get(\"share_price\", \"\"),\n",
    "                \"c2.change_1_day\": right.get(\"change_1_day\", \"\"),\n",
    "                \"c2.change_1_year\": right.get(\"change_1_year\", \"\"),\n",
    "                \"c2.debts\": right.get(\"debts\", \"\"),\n",
    "                \"c2.phone\": right.get(\"phone\", \"\"),\n",
    "                \"c2.notes_or_description\": right.get(\"notes_or_description\", \"\"),\n",
    "                \"match_confidence\": record.get(\"match_confidence\", \"\"),\n",
    "                \"is_match\": record.get(\"match\", \"\")\n",
    "            }\n",
    "            data.append(row)\n",
    "    \n",
    "    df = pd.DataFrame(data, columns=columns)\n",
    "    return df"
   ]
  },
  {
   "cell_type": "code",
   "execution_count": 46,
   "metadata": {},
   "outputs": [
    {
     "data": {
      "text/plain": [
       "Index(['c1.company_id', 'c1.company_name', 'c1.industry', 'c1.sector',\n",
       "       'c1.categories', 'c1.company_status', 'c1.company_type', 'c1.address',\n",
       "       'c1.postal_code', 'c1.city', 'c1.country', 'c1.state',\n",
       "       'c1.foundation_year', 'c1.registration_date', 'c1.website', 'c1.rank',\n",
       "       'c1.market_cap_or_valuation', 'c1.number_of_employees', 'c1.ceo',\n",
       "       'c1.assets', 'c1.profit_or_net_income', 'c1.revenue', 'c1.share_price',\n",
       "       'c1.change_1_day', 'c1.change_1_year', 'c1.debts', 'c1.phone',\n",
       "       'c1.notes_or_description', 'c2.company_id', 'c2.company_name',\n",
       "       'c2.industry', 'c2.sector', 'c2.categories', 'c2.company_status',\n",
       "       'c2.company_type', 'c2.address', 'c2.postal_code', 'c2.city',\n",
       "       'c2.country', 'c2.state', 'c2.foundation_year', 'c2.registration_date',\n",
       "       'c2.website', 'c2.rank', 'c2.market_cap_or_valuation',\n",
       "       'c2.number_of_employees', 'c2.ceo', 'c2.assets',\n",
       "       'c2.profit_or_net_income', 'c2.revenue', 'c2.share_price',\n",
       "       'c2.change_1_day', 'c2.change_1_year', 'c2.debts', 'c2.phone',\n",
       "       'c2.notes_or_description', 'similarity_score', 'is_match'],\n",
       "      dtype='object')"
      ]
     },
     "metadata": {},
     "output_type": "display_data"
    }
   ],
   "source": [
    "matches_df = process_jsonl(model_output_file)\n",
    "display(matches_df.columns)"
   ]
  },
  {
   "cell_type": "code",
   "execution_count": 47,
   "metadata": {},
   "outputs": [
    {
     "data": {
      "text/plain": [
       "Index(['c1.company_id', 'c1.company_name', 'c1.industry', 'c1.sector',\n",
       "       'c1.categories', 'c1.company_status', 'c1.company_type', 'c1.address',\n",
       "       'c1.postal_code', 'c1.city', 'c1.country', 'c1.state',\n",
       "       'c1.foundation_year', 'c1.registration_date', 'c1.website', 'c1.rank',\n",
       "       'c1.market_cap_or_valuation', 'c1.number_of_employees', 'c1.ceo',\n",
       "       'c1.assets', 'c1.profit_or_net_income', 'c1.revenue', 'c1.share_price',\n",
       "       'c1.change_1_day', 'c1.change_1_year', 'c1.debts', 'c1.phone',\n",
       "       'c1.notes_or_description', 'c2.company_id', 'c2.company_name',\n",
       "       'c2.industry', 'c2.sector', 'c2.categories', 'c2.company_status',\n",
       "       'c2.company_type', 'c2.address', 'c2.postal_code', 'c2.city',\n",
       "       'c2.country', 'c2.state', 'c2.foundation_year', 'c2.registration_date',\n",
       "       'c2.website', 'c2.rank', 'c2.market_cap_or_valuation',\n",
       "       'c2.number_of_employees', 'c2.ceo', 'c2.assets',\n",
       "       'c2.profit_or_net_income', 'c2.revenue', 'c2.share_price',\n",
       "       'c2.change_1_day', 'c2.change_1_year', 'c2.debts', 'c2.phone',\n",
       "       'c2.notes_or_description', 'similarity_score', 'is_match'],\n",
       "      dtype='object')"
      ]
     },
     "metadata": {},
     "output_type": "display_data"
    }
   ],
   "source": [
    "ground_truth_df = pd.read_csv(ground_truth_file)\n",
    "display(ground_truth_df.columns)"
   ]
  },
  {
   "cell_type": "code",
   "execution_count": 49,
   "metadata": {},
   "outputs": [
    {
     "name": "stdout",
     "output_type": "stream",
     "text": [
      "Precision: 0.5459\n",
      "Recall: 0.9640\n",
      "F1 Score: 0.6971\n"
     ]
    }
   ],
   "source": [
    "import pandas as pd\n",
    "from sklearn.metrics import precision_score, recall_score, f1_score\n",
    "\n",
    "\n",
    "# Assicurati che entrambi abbiano la stessa lunghezza\n",
    "assert len(ground_truth_df) == len(matches_df), \"I DataFrame devono avere la stessa lunghezza!\"\n",
    "\n",
    "# Estrai la colonna 'is_match'\n",
    "y_true = ground_truth_df['is_match']\n",
    "y_pred = matches_df['is_match']\n",
    "\n",
    "# Se le colonne contengono stringhe \"True\"/\"False\", convertili in booleani:\n",
    "if y_true.dtype == object:\n",
    "    y_true = y_true.map({'True': True, 'False': False})\n",
    "if y_pred.dtype == object:\n",
    "    y_pred = y_pred.map({'True': True, 'False': False})\n",
    "\n",
    "# Calcola le metriche\n",
    "precision = precision_score(y_true, y_pred)\n",
    "recall = recall_score(y_true, y_pred)\n",
    "f1 = f1_score(y_true, y_pred)\n",
    "\n",
    "print(f\"Precision: {precision:.4f}\")\n",
    "print(f\"Recall: {recall:.4f}\")\n",
    "print(f\"F1 Score: {f1:.4f}\")\n"
   ]
  },
  {
   "cell_type": "code",
   "execution_count": 50,
   "metadata": {},
   "outputs": [
    {
     "data": {
      "image/png": "[encoded data removed]",
      "text/plain": [
       "<Figure size 1000x600 with 1 Axes>"
      ]
     },
     "metadata": {},
     "output_type": "display_data"
    }
   ],
   "source": [
    "import matplotlib.pyplot as plt\n",
    "\n",
    "# Plot Precision, Recall, and F1 Score\n",
    "metrics = ['Precision', 'Recall', 'F1 Score']\n",
    "values = [precision, recall, f1]\n",
    "\n",
    "plt.figure(figsize=(10, 6))\n",
    "plt.bar(metrics, values, color=['blue', 'green', 'red'])\n",
    "plt.ylim(0, 1)\n",
    "plt.ylabel('Score')\n",
    "plt.title('Evaluation Metrics')\n",
    "plt.show()"
   ]
  }
 ],
 "metadata": {
  "kernelspec": {
   "display_name": "ditto_env",
   "language": "python",
   "name": "python3"
  },
  "language_info": {
   "codemirror_mode": {
    "name": "ipython",
    "version": 3
   },
   "file_extension": ".py",
   "mimetype": "text/x-python",
   "name": "python",
   "nbconvert_exporter": "python",
   "pygments_lexer": "ipython3",
   "version": "3.9.21"
  }
 },
 "nbformat": 4,
 "nbformat_minor": 2
}
