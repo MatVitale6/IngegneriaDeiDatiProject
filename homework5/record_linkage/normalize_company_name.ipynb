{
 "cells": [
  {
   "cell_type": "markdown",
   "metadata": {},
   "source": [
    "# **Normalizzazione dei Nomi Aziendali**\n",
    "\n",
    "## **Introduzione**\n",
    "\n",
    "Nel processo di deduplicazione e record linkage, è essenziale normalizzare i nomi aziendali per evitare variazioni dovute a abbreviazioni, formati o errori di battitura. In questa fase, implementiamo una strategia per rendere i nomi uniformi e comparabili.\n",
    "\n",
    "---\n",
    "\n",
    "## **Step 1: Importazione delle Librerie e del DataFrame**"
   ]
  },
  {
   "cell_type": "code",
   "execution_count": 1,
   "metadata": {},
   "outputs": [],
   "source": [
    "import re\n",
    "import pandas as pd\n",
    "import unidecode"
   ]
  },
  {
   "cell_type": "code",
   "execution_count": 8,
   "metadata": {},
   "outputs": [
    {
     "name": "stderr",
     "output_type": "stream",
     "text": [
      "C:\\Users\\matte\\AppData\\Local\\Temp\\ipykernel_6896\\1283801268.py:1: DtypeWarning: Columns (38) have mixed types. Specify dtype option on import or set low_memory=False.\n",
      "  companies_df = pd.read_csv('../o1-mediated/companies_mediated.csv')\n"
     ]
    }
   ],
   "source": [
    "companies_df = pd.read_csv('../o1-mediated/companies_mediated.csv')"
   ]
  },
  {
   "cell_type": "markdown",
   "metadata": {},
   "source": [
    "---\n",
    "\n",
    "## **Step 2: Definizione della Mappa di Sostituzione**\n",
    "Utilizziamo un dizionario per standardizzare suffissi comuni nei nomi aziendali.\n",
    "### **Questo va sicuramente migliorato magari passando tutta la prima colonna a chat**"
   ]
  },
  {
   "cell_type": "code",
   "execution_count": 2,
   "metadata": {},
   "outputs": [],
   "source": [
    "REPLACEMENTS = {\n",
    "    \"&\": \" and \",\n",
    "    \" inc\\.?$\": \" inc\",\n",
    "    \" ltd$\": \" limited\",\n",
    "    \" plc$\": \" public limited company\",\n",
    "    \" co\\.?$\": \" company\",\n",
    "    \" corp\\.?$\": \" corp\",\n",
    "    \" srl$\": \" societa a responsabilita limitata\",\n",
    "    \" spa$\": \" societa per azioni\",\n",
    "    \" ag$\": \" aktiengesellschaft\",\n",
    "    \" sa$\": \" societe anonyme\",\n",
    "    \" ab$\": \" aktiebolag\",\n",
    "    \" nv$\": \" naamloze vennootschap\",\n",
    "    \" ou$\": \" osaühing\",\n",
    "    \" as$\": \" aktsiaselts\",\n",
    "    \" gmbh$\": \" gesellschaft mit beschränkter haftung\",\n",
    "    \" holdings$\": \" holding\",\n",
    "    \" corporation$\": \" corp\",\n",
    "    \" industries$\": \" industry\",\n",
    "    \" group$\": \" group\",\n",
    "    \" company limited$\": \" limited\",\n",
    "    \" technology$\": \" tech\",\n",
    "    \" solutions$\": \" solution\",\n",
    "    \" systems$\": \" system\",\n",
    "}"
   ]
  },
  {
   "cell_type": "markdown",
   "metadata": {},
   "source": [
    "---\n",
    "\n",
    "## **Step 3: Funzione di Normalizzazione**\n",
    "\n",
    "Questa funzione applica una serie di trasformazioni per ottenere nomi uniformi:\n",
    "\n",
    "- Conversione in minuscolo\n",
    "- Rimozione di accenti\n",
    "- Eliminazione di caratteri speciali\n",
    "- Sostituzione dei suffissi tramite `REPLACEMENTS`"
   ]
  },
  {
   "cell_type": "code",
   "execution_count": 3,
   "metadata": {},
   "outputs": [],
   "source": [
    "def normalize_name(name):\n",
    "    \"\"\"Normalizza i nomi delle aziende.\"\"\"\n",
    "    if pd.isna(name) or not isinstance(name, str):\n",
    "        return \"\"\n",
    "    \n",
    "    name = name.lower().strip()  # Minuscolo e rimozione spazi extra\n",
    "    name = unidecode.unidecode(name)  # Rimuove accenti e caratteri speciali\n",
    "    name = re.sub(r'[^a-z0-9\\s&.,-]', '', name)  # Pulisce caratteri inutili\n",
    "    name = re.sub(r'\\s+', ' ', name)  # Sostituisce spazi multipli con uno solo\n",
    "    \n",
    "    # Applica le sostituzioni dalla mappa REPLACEMENTS\n",
    "    for pattern, replacement in REPLACEMENTS.items():\n",
    "        name = re.sub(pattern, replacement, name)\n",
    "    \n",
    "    return name.strip()"
   ]
  },
  {
   "cell_type": "markdown",
   "metadata": {},
   "source": [
    "---\n",
    "\n",
    "## **Step 4: Applicazione alla Colonna 'company_name'**\n",
    "\n",
    "Eseguiamo la normalizzazione sulla colonna contenente i nomi aziendali."
   ]
  },
  {
   "cell_type": "code",
   "execution_count": 9,
   "metadata": {},
   "outputs": [],
   "source": [
    "companies_df['normalized_name'] = companies_df['company_name'].apply(normalize_name)"
   ]
  },
  {
   "cell_type": "markdown",
   "metadata": {},
   "source": [
    "---\n",
    "\n",
    "## **Step 5: Visualizzazione e salvataggio del Risultato**\n",
    "\n",
    "Mostriamo i primi risultati per verificare la trasformazione\n",
    "e salva tutto in un csv"
   ]
  },
  {
   "cell_type": "code",
   "execution_count": 11,
   "metadata": {},
   "outputs": [],
   "source": [
    "companies_df[['company_name', 'normalized_name']].head(10)\n",
    "companies_df.to_csv('normalized_company_name.csv', index=False)"
   ]
  },
  {
   "cell_type": "markdown",
   "metadata": {},
   "source": [
    "---\n",
    "\n",
    "## **Conclusioni**\n",
    "\n",
    "Questo approccio garantisce una normalizzazione efficace dei nomi aziendali, riducendo le variazioni dovute a differenze di scrittura, abbreviazioni e formati. È facilmente estendibile aggiornando la mappa `REPLACEMENTS` con nuove regole di sostituzione.\n",
    "\n"
   ]
  }
 ],
 "metadata": {
  "kernelspec": {
   "display_name": "base",
   "language": "python",
   "name": "python3"
  },
  "language_info": {
   "codemirror_mode": {
    "name": "ipython",
    "version": 3
   },
   "file_extension": ".py",
   "mimetype": "text/x-python",
   "name": "python",
   "nbconvert_exporter": "python",
   "pygments_lexer": "ipython3",
   "version": "3.9.13"
  }
 },
 "nbformat": 4,
 "nbformat_minor": 2
}
