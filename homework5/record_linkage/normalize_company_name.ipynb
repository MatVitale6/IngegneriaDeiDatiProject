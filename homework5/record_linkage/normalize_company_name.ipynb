{
 "cells": [
  {
   "cell_type": "markdown",
   "metadata": {},
   "source": [
    "# **Normalizzazione dei Nomi Aziendali**\n",
    "\n",
    "## **Introduzione**\n",
    "\n",
    "Nel processo di deduplicazione e record linkage, è essenziale normalizzare i nomi aziendali per evitare variazioni dovute a abbreviazioni, formati o errori di battitura. In questa fase, implementiamo una strategia per rendere i nomi uniformi e comparabili.\n",
    "\n",
    "---\n",
    "\n",
    "## **Step 1: Importazione delle Librerie e del DataFrame**"
   ]
  },
  {
   "cell_type": "code",
   "execution_count": 4,
   "metadata": {},
   "outputs": [],
   "source": [
    "import re\n",
    "import pandas as pd\n",
    "import unidecode\n",
    "\n",
    "AZIENDE_CSV = '../aziende.csv'\n",
    "IMPIEGATI_CSV = '../impiegati.csv'"
   ]
  },
  {
   "cell_type": "code",
   "execution_count": 5,
   "metadata": {},
   "outputs": [
    {
     "name": "stderr",
     "output_type": "stream",
     "text": [
      "/tmp/ipykernel_23801/2611636423.py:1: DtypeWarning: Columns (33) have mixed types. Specify dtype option on import or set low_memory=False.\n",
      "  companies_df = pd.read_csv(AZIENDE_CSV)\n"
     ]
    }
   ],
   "source": [
    "companies_df = pd.read_csv(AZIENDE_CSV)"
   ]
  },
  {
   "cell_type": "markdown",
   "metadata": {},
   "source": [
    "---\n",
    "\n",
    "## **Step 2: Definizione della Mappa di Sostituzione**\n",
    "Utilizziamo un dizionario per standardizzare suffissi comuni nei nomi aziendali.\n",
    "### **Questo va sicuramente migliorato magari passando tutta la prima colonna a chat**"
   ]
  },
  {
   "cell_type": "code",
   "execution_count": 7,
   "metadata": {},
   "outputs": [
    {
     "name": "stderr",
     "output_type": "stream",
     "text": [
      "<>:3: SyntaxWarning: invalid escape sequence '\\.'\n",
      "<>:6: SyntaxWarning: invalid escape sequence '\\.'\n",
      "<>:7: SyntaxWarning: invalid escape sequence '\\.'\n",
      "<>:3: SyntaxWarning: invalid escape sequence '\\.'\n",
      "<>:6: SyntaxWarning: invalid escape sequence '\\.'\n",
      "<>:7: SyntaxWarning: invalid escape sequence '\\.'\n",
      "/tmp/ipykernel_23801/2264042508.py:3: SyntaxWarning: invalid escape sequence '\\.'\n",
      "  \" inc\\.?$\": \" inc\",\n",
      "/tmp/ipykernel_23801/2264042508.py:6: SyntaxWarning: invalid escape sequence '\\.'\n",
      "  \" co\\.?$\": \" company\",\n",
      "/tmp/ipykernel_23801/2264042508.py:7: SyntaxWarning: invalid escape sequence '\\.'\n",
      "  \" corp\\.?$\": \" corp\",\n"
     ]
    }
   ],
   "source": [
    "REPLACEMENTS = {\n",
    "    \"&\": \" and \",\n",
    "    \" inc\\.?$\": \" inc\",\n",
    "    \" ltd$\": \" limited\",\n",
    "    \" plc$\": \" public limited company\",\n",
    "    \" co\\.?$\": \" company\",\n",
    "    \" corp\\.?$\": \" corp\",\n",
    "    \" srl$\": \" societa a responsabilita limitata\",\n",
    "    \" spa$\": \" societa per azioni\",\n",
    "    \" ag$\": \" aktiengesellschaft\",\n",
    "    \" sa$\": \" societe anonyme\",\n",
    "    \" ab$\": \" aktiebolag\",\n",
    "    \" nv$\": \" naamloze vennootschap\",\n",
    "    \" ou$\": \" osaühing\",\n",
    "    \" as$\": \" aktsiaselts\",\n",
    "    \" gmbh$\": \" gesellschaft mit beschränkter haftung\",\n",
    "    \" holdings$\": \" holding\",\n",
    "    \" corporation$\": \" corp\",\n",
    "    \" industries$\": \" industry\",\n",
    "    \" group$\": \" group\",\n",
    "    \" company limited$\": \" limited\",\n",
    "    \" technology$\": \" tech\",\n",
    "    \" solutions$\": \" solution\",\n",
    "    \" systems$\": \" system\",\n",
    "}"
   ]
  },
  {
   "cell_type": "markdown",
   "metadata": {},
   "source": [
    "---\n",
    "\n",
    "## **Step 3: Funzione di Normalizzazione**\n",
    "\n",
    "Questa funzione applica una serie di trasformazioni per ottenere nomi uniformi:\n",
    "\n",
    "- Conversione in minuscolo\n",
    "- Rimozione di accenti\n",
    "- Eliminazione di caratteri speciali\n",
    "- Sostituzione dei suffissi tramite `REPLACEMENTS`"
   ]
  },
  {
   "cell_type": "code",
   "execution_count": 13,
   "metadata": {},
   "outputs": [],
   "source": [
    "def normalize_name(name):\n",
    "    \"\"\"Normalizza i nomi delle aziende.\"\"\"\n",
    "    if pd.isna(name) or not isinstance(name, str):\n",
    "        return \"\"\n",
    "    \n",
    "    name = name.lower().strip()  # Minuscolo e rimozione spazi extra\n",
    "    name = unidecode.unidecode(name)  # Rimuove accenti e caratteri speciali\n",
    "    name = re.sub(r'[^a-z0-9\\s&.,-]', '', name)  # Pulisce caratteri inutili\n",
    "    name = re.sub(r'\\s+', ' ', name)  # Sostituisce spazi multipli con uno solo\n",
    "    name = re.sub(r'\"([^\"]+)\"','', name) # Rimuove testo tra virgolette\n",
    "    \n",
    "    # Applica le sostituzioni dalla mappa REPLACEMENTS\n",
    "    for pattern, replacement in REPLACEMENTS.items():\n",
    "        name = re.sub(pattern, replacement, name)\n",
    "    \n",
    "    return name.strip()"
   ]
  },
  {
   "cell_type": "markdown",
   "metadata": {},
   "source": [
    "---\n",
    "\n",
    "## **Step 4: Applicazione alla Colonna 'company_name'**\n",
    "\n",
    "Eseguiamo la normalizzazione sulla colonna contenente i nomi aziendali."
   ]
  },
  {
   "cell_type": "code",
   "execution_count": 14,
   "metadata": {},
   "outputs": [],
   "source": [
    "companies_df['normalized_name'] = companies_df['company_name'].apply(normalize_name)"
   ]
  },
  {
   "cell_type": "markdown",
   "metadata": {},
   "source": [
    "---\n",
    "\n",
    "## **Step 5: Visualizzazione e salvataggio del Risultato**\n",
    "\n",
    "Mostriamo i primi risultati per verificare la trasformazione\n",
    "e salva tutto in un csv"
   ]
  },
  {
   "cell_type": "code",
   "execution_count": 16,
   "metadata": {},
   "outputs": [
    {
     "data": {
      "text/html": [
       "<div>\n",
       "<style scoped>\n",
       "    .dataframe tbody tr th:only-of-type {\n",
       "        vertical-align: middle;\n",
       "    }\n",
       "\n",
       "    .dataframe tbody tr th {\n",
       "        vertical-align: top;\n",
       "    }\n",
       "\n",
       "    .dataframe thead th {\n",
       "        text-align: right;\n",
       "    }\n",
       "</style>\n",
       "<table border=\"1\" class=\"dataframe\">\n",
       "  <thead>\n",
       "    <tr style=\"text-align: right;\">\n",
       "      <th></th>\n",
       "      <th>company_name</th>\n",
       "      <th>normalized_name</th>\n",
       "    </tr>\n",
       "  </thead>\n",
       "  <tbody>\n",
       "    <tr>\n",
       "      <th>0</th>\n",
       "      <td>\"all about me\" full stop limited</td>\n",
       "      <td>all about me full stop limited</td>\n",
       "    </tr>\n",
       "    <tr>\n",
       "      <th>1</th>\n",
       "      <td>\"q\" (chester green) management company limited</td>\n",
       "      <td>q chester green management limited</td>\n",
       "    </tr>\n",
       "    <tr>\n",
       "      <th>2</th>\n",
       "      <td>#sinob</td>\n",
       "      <td>sinob</td>\n",
       "    </tr>\n",
       "    <tr>\n",
       "      <th>3</th>\n",
       "      <td>'all aboard' shops limited</td>\n",
       "      <td>all aboard shops limited</td>\n",
       "    </tr>\n",
       "    <tr>\n",
       "      <th>4</th>\n",
       "      <td>'q' accountancy services limited</td>\n",
       "      <td>q accountancy services limited</td>\n",
       "    </tr>\n",
       "    <tr>\n",
       "      <th>5</th>\n",
       "      <td>'q' accountancy services limited</td>\n",
       "      <td>q accountancy services limited</td>\n",
       "    </tr>\n",
       "    <tr>\n",
       "      <th>6</th>\n",
       "      <td>'r' accommodation ltd</td>\n",
       "      <td>r accommodation limited</td>\n",
       "    </tr>\n",
       "    <tr>\n",
       "      <th>7</th>\n",
       "      <td>(dia) distribuidora internacional de alimentación</td>\n",
       "      <td>dia distribuidora internacional de alimentacion</td>\n",
       "    </tr>\n",
       "    <tr>\n",
       "      <th>8</th>\n",
       "      <td>.net it systemhaus</td>\n",
       "      <td>.net it systemhaus</td>\n",
       "    </tr>\n",
       "    <tr>\n",
       "      <th>9</th>\n",
       "      <td>0044 limited</td>\n",
       "      <td>0044 limited</td>\n",
       "    </tr>\n",
       "  </tbody>\n",
       "</table>\n",
       "</div>"
      ],
      "text/plain": [
       "                                        company_name  \\\n",
       "0                   \"all about me\" full stop limited   \n",
       "1     \"q\" (chester green) management company limited   \n",
       "2                                             #sinob   \n",
       "3                         'all aboard' shops limited   \n",
       "4                   'q' accountancy services limited   \n",
       "5                   'q' accountancy services limited   \n",
       "6                              'r' accommodation ltd   \n",
       "7  (dia) distribuidora internacional de alimentación   \n",
       "8                                 .net it systemhaus   \n",
       "9                                       0044 limited   \n",
       "\n",
       "                                   normalized_name  \n",
       "0                   all about me full stop limited  \n",
       "1               q chester green management limited  \n",
       "2                                            sinob  \n",
       "3                         all aboard shops limited  \n",
       "4                   q accountancy services limited  \n",
       "5                   q accountancy services limited  \n",
       "6                          r accommodation limited  \n",
       "7  dia distribuidora internacional de alimentacion  \n",
       "8                               .net it systemhaus  \n",
       "9                                     0044 limited  "
      ]
     },
     "metadata": {},
     "output_type": "display_data"
    }
   ],
   "source": [
    "display(companies_df[['company_name', 'normalized_name']].head(10))\n",
    "companies_df[['company_name', 'normalized_name']].to_csv('normalized_company_name.csv', index=False)"
   ]
  },
  {
   "cell_type": "markdown",
   "metadata": {},
   "source": [
    "---\n",
    "\n",
    "## **Conclusioni**\n",
    "\n",
    "Questo approccio garantisce una normalizzazione efficace dei nomi aziendali, riducendo le variazioni dovute a differenze di scrittura, abbreviazioni e formati. È facilmente estendibile aggiornando la mappa `REPLACEMENTS` con nuove regole di sostituzione.\n",
    "\n"
   ]
  }
 ],
 "metadata": {
  "kernelspec": {
   "display_name": ".venv",
   "language": "python",
   "name": "python3"
  },
  "language_info": {
   "codemirror_mode": {
    "name": "ipython",
    "version": 3
   },
   "file_extension": ".py",
   "mimetype": "text/x-python",
   "name": "python",
   "nbconvert_exporter": "python",
   "pygments_lexer": "ipython3",
   "version": "3.12.3"
  }
 },
 "nbformat": 4,
 "nbformat_minor": 2
}
