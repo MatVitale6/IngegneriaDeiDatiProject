{
 "cells": [
  {
   "cell_type": "code",
   "execution_count": 9,
   "metadata": {},
   "outputs": [
    {
     "name": "stdout",
     "output_type": "stream",
     "text": [
      "Precision: 0.0333, Recall: 0.8849, F1-score: 0.0641\n"
     ]
    },
    {
     "data": {
      "image/png": "[encoded data removed]",
      "text/plain": [
       "<Figure size 640x480 with 1 Axes>"
      ]
     },
     "metadata": {},
     "output_type": "display_data"
    }
   ],
   "source": [
    "import pandas as pd\n",
    "import recordlinkage\n",
    "from recordlinkage import Compare\n",
    "from recordlinkage.preprocessing import clean\n",
    "from sklearn.metrics import precision_score, recall_score\n",
    "from collections import defaultdict\n",
    "import matplotlib.pyplot as plt\n",
    "import numpy as np\n",
    "\n",
    "# Caricamento dataset\n",
    "companies_df = pd.read_csv('../aziende_normalizzate.csv')\n",
    "ground_truth = pd.read_csv('../ground_truth.csv')\n",
    "\n",
    "# Pulizia del campo company_name\n",
    "companies_df['company_name'] = clean(companies_df['company_name'])\n",
    "companies_df['country'] = companies_df['country'].astype(str)\n",
    "\n",
    "# Creazione dell'indice di coppie candidate\n",
    "indexer = recordlinkage.Index()\n",
    "indexer.sortedneighbourhood(left_on='company_name', window=5)\n",
    "candidate_pairs = indexer.index(companies_df)\n",
    "\n",
    "# Creazione MultiIndex\n",
    "candidate_pairs_index = pd.MultiIndex.from_tuples(candidate_pairs, names=['left', 'right'])\n",
    "\n",
    "# Creazione del comparatore\n",
    "compare = Compare()\n",
    "compare.string('company_name', 'company_name', method='jarowinkler', threshold=0.7, label='name_similarity')\n",
    "compare.string('country', 'country', method='jarowinkler', threshold=0.75, label='country_similarity')\n",
    "\n",
    "# Computazione similarità\n",
    "features = compare.compute(candidate_pairs_index, companies_df)\n",
    "\n",
    "# Identificazione delle coppie corrispondenti\n",
    "matches = features[(features['name_similarity'] >= 0.7) & (features['country_similarity'] >= 0.75)]\n",
    "\n",
    "# Creazione gruppi di aziende duplicate\n",
    "detected_groups = defaultdict(set)\n",
    "for left, right in matches.index:\n",
    "    detected_groups[companies_df.loc[left, 'company_name']].add(companies_df.loc[right, 'company_name'])\n",
    "    detected_groups[companies_df.loc[right, 'company_name']].add(companies_df.loc[left, 'company_name'])\n",
    "\n",
    "detected_groups_list = [set([key] + list(values)) for key, values in detected_groups.items()]\n",
    "\n",
    "# Creazione gruppi dalla ground truth\n",
    "ground_truth_groups = defaultdict(set)\n",
    "for _, row in ground_truth.iterrows():\n",
    "    ground_truth_groups[row['c1.company_name']].add(row['c2.company_name'])\n",
    "    ground_truth_groups[row['c2.company_name']].add(row['c1.company_name'])\n",
    "\n",
    "ground_truth_sets = [set([key] + list(values)) for key, values in ground_truth_groups.items()]\n",
    "\n",
    "# Funzione di valutazione\n",
    "def evaluate_linkage(detected_groups, ground_truth_groups):\n",
    "    true_positives = sum(1 for dg in detected_groups if any(dg & gt for gt in ground_truth_groups))\n",
    "    false_positives = sum(1 for dg in detected_groups if not any(dg & gt for gt in ground_truth_groups))\n",
    "    false_negatives = sum(1 for gt in ground_truth_groups if not any(gt & dg for dg in detected_groups))\n",
    "    \n",
    "    precision = true_positives / (true_positives + false_positives) if (true_positives + false_positives) > 0 else 0\n",
    "    recall = true_positives / (true_positives + false_negatives) if (true_positives + false_negatives) > 0 else 0\n",
    "    f1_score = 2 * (precision * recall) / (precision + recall) if (precision + recall) > 0 else 0\n",
    "    \n",
    "    return precision, recall, f1_score\n",
    "\n",
    "# Calcolo metriche di valutazione\n",
    "precision, recall, f1_score = evaluate_linkage(detected_groups_list, ground_truth_sets)\n",
    "print(f\"Precision: {precision:.4f}, Recall: {recall:.4f}, F1-score: {f1_score:.4f}\")\n",
    "\n",
    "# Visualizzazione grafica\n",
    "labels = [\"Precision\", \"Recall\", \"F1-score\"]\n",
    "values = [precision, recall, f1_score]\n",
    "\n",
    "fig, ax = plt.subplots()\n",
    "ax.bar(labels, values, color=['blue', 'orange', 'green'])\n",
    "ax.set_ylabel(\"Score\")\n",
    "ax.set_title(\"Performance del metodo di Record Linkage\")\n",
    "plt.show()"
   ]
  }
 ],
 "metadata": {
  "kernelspec": {
   "display_name": "base",
   "language": "python",
   "name": "python3"
  },
  "language_info": {
   "codemirror_mode": {
    "name": "ipython",
    "version": 3
   },
   "file_extension": ".py",
   "mimetype": "text/x-python",
   "name": "python",
   "nbconvert_exporter": "python",
   "pygments_lexer": "ipython3",
   "version": "3.10.9"
  }
 },
 "nbformat": 4,
 "nbformat_minor": 2
}
