{
 "cells": [
  {
   "cell_type": "markdown",
   "metadata": {},
   "source": [
    "<h1>Hola muchachos y benvenido en el RECORDO LINKAGGIO<h1>\n",
    "<h3>Per prima cosa dobbiamo fare il setup dell'ambiente<h3>\n",
    "<h4>Nulla di complicato e se hai giá installato la libreria recordlinkage nel tuo ambiente python puoi saltare questo passaggio<h4>\n",
    "<h5>Ma considera che ha anche queste dipendenze:\n",
    "    numpy,\n",
    "    pandas,\n",
    "    scipy,\n",
    "    sklearn,\n",
    "    jellyfish,\n",
    "    joblib,\n",
    "Inoltre raccomandate sono:\n",
    "    numexpr - accelerating certain numerical operations,\n",
    "    bottleneck - accelerating certain types of nan evaluations<h5>\n"
   ]
  },
  {
   "cell_type": "code",
   "execution_count": null,
   "metadata": {},
   "outputs": [],
   "source": [
    "!pip install recordlinkage"
   ]
  },
  {
   "cell_type": "markdown",
   "metadata": {},
   "source": [
    "<h2>Da qui inizia l'uso e costumo della libreria<h2>"
   ]
  },
  {
   "cell_type": "code",
   "execution_count": 1,
   "metadata": {},
   "outputs": [],
   "source": [
    "import recordlinkage\n",
    "from recordlinkage import Compare\n",
    "from recordlinkage.preprocessing import clean\n",
    "import pandas as pd"
   ]
  },
  {
   "cell_type": "code",
   "execution_count": 11,
   "metadata": {},
   "outputs": [
    {
     "name": "stdout",
     "output_type": "stream",
     "text": [
      "   address                  category  ...   latitude  longitude\n",
      "0      NaN  IT Services & Consulting  ...  19.090153  72.863713\n",
      "1      NaN  IT Services & Consulting  ...  53.349379  -6.260559\n",
      "2      NaN  IT Services & Consulting  ...        NaN        NaN\n",
      "3      NaN                   Banking  ...  19.090153  72.863713\n",
      "4      NaN                   Banking  ...  19.090153  72.863713\n",
      "\n",
      "[5 rows x 23 columns]\n"
     ]
    }
   ],
   "source": [
    "#ora proviamo a scrivere qualche esempio con un piccolo subset\n",
    "df_prova = pd.read_csv(r'../geopy/subset_with_coordinates.csv')\n",
    "print(df_prova.head())"
   ]
  },
  {
   "cell_type": "markdown",
   "metadata": {},
   "source": [
    "<h4>Ora scriviamo un block di esempio, con esso in pratica confrontiamo solo record che hanno lo stesso valore messo nel block<h4>"
   ]
  },
  {
   "cell_type": "code",
   "execution_count": 20,
   "metadata": {},
   "outputs": [
    {
     "name": "stdout",
     "output_type": "stream",
     "text": [
      "306\n"
     ]
    }
   ],
   "source": [
    "#per esempio qui prendimo il nome che potrebbe avere senso se sono tutti proprio uguali (palese no)\n",
    "indexer = recordlinkage.Index()\n",
    "#nel caso di un unico df\n",
    "indexer.block('fundation_year')\n",
    "#nel caso di due df\n",
    "#indexer.block(left_on='name', right_on='name')\n",
    "pairs = indexer.index(df_prova)\n",
    "print(len(pairs))"
   ]
  },
  {
   "cell_type": "markdown",
   "metadata": {},
   "source": [
    "<h4>Ora dobbiamo comparare!<h4>\n",
    "<h7>Per capirci: \n",
    "method specifica come confronto i valori, nel nostro caso jarowinkler é un approccio lazy cioé anche se non sono perfettamente identici ma molto simili fanno match\n",
    "threshold é la soglia oltre la quale consideriamo due record come simili e funziona solo con metodi lazy\n",
    "label é solo il nome che vogliamo dare al confronti\n",
    "<h7>"
   ]
  },
  {
   "cell_type": "code",
   "execution_count": 21,
   "metadata": {},
   "outputs": [
    {
     "name": "stdout",
     "output_type": "stream",
     "text": [
      "        address  city  country\n",
      "53  0       0.0   1.0      0.0\n",
      "102 0       0.0   0.0      0.0\n",
      "    53      0.0   0.0      0.0\n",
      "31  1       0.0   0.0      0.0\n",
      "111 1       0.0   0.0      0.0\n",
      "         address  city  country\n",
      "53  0        0.0   1.0      0.0\n",
      "4   3        0.0   1.0      0.0\n",
      "154 3        0.0   1.0      0.0\n",
      "    4        0.0   1.0      0.0\n",
      "145 25       0.0   1.0      0.0\n",
      "153 5        0.0   1.0      0.0\n",
      "159 29       0.0   1.0      0.0\n",
      "80  43       0.0   1.0      0.0\n",
      "170 147      0.0   1.0      0.0\n",
      "194 82       0.0   1.0      0.0\n",
      "96  27       0.0   1.0      0.0\n",
      "142 36       0.0   1.0      0.0\n",
      "174 24       0.0   1.0      0.0\n",
      "126 26       0.0   1.0      0.0\n",
      "59  28       0.0   1.0      0.0\n",
      "103 28       0.0   1.0      0.0\n",
      "    59       0.0   1.0      0.0\n",
      "52  51       0.0   1.0      0.0\n",
      "95  51       0.0   1.0      0.0\n",
      "    52       0.0   1.0      0.0\n",
      "115 51       0.0   1.0      0.0\n",
      "    52       0.0   1.0      0.0\n",
      "    95       0.0   1.0      0.0\n",
      "141 91       0.0   1.0      0.0\n",
      "155 91       0.0   1.0      0.0\n",
      "    141      0.0   1.0      0.0\n",
      "98  76       0.0   1.0      0.0\n",
      "90  89       0.0   1.0      0.0\n",
      "167 144      0.0   1.0      0.0\n",
      "181 165      0.0   1.0      0.0\n"
     ]
    }
   ],
   "source": [
    "compare = Compare()\n",
    "\n",
    "compare.string('address', 'address', method='jarowinkler', threshold=0.85, label='address')\n",
    "compare.string('city', 'city', method='jarowinkler', threshold=0.85, label='city')\n",
    "compare.string('country', 'country', method='jarowinkler', threshold=0.85, label='country')\n",
    "\n",
    "features = compare.compute(pairs, df_prova)\n",
    "print(features.head())\n",
    "\n",
    "# Consideriamo un record un match se almeno 2 confronti su 3 danno un punteggio alto\n",
    "matches = features[features.sum(axis=1) >= 1]\n",
    "\n",
    "print(matches)"
   ]
  }
 ],
 "metadata": {
  "kernelspec": {
   "display_name": "base",
   "language": "python",
   "name": "python3"
  },
  "language_info": {
   "codemirror_mode": {
    "name": "ipython",
    "version": 3
   },
   "file_extension": ".py",
   "mimetype": "text/x-python",
   "name": "python",
   "nbconvert_exporter": "python",
   "pygments_lexer": "ipython3",
   "version": "3.9.13"
  }
 },
 "nbformat": 4,
 "nbformat_minor": 2
}
