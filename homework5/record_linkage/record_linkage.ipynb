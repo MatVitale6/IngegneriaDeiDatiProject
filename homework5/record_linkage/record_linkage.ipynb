{
 "cells": [
  {
   "cell_type": "markdown",
   "metadata": {},
   "source": [
    "<h1>Hola muchachos y benvenido en el RECORDO LINKAGGIO<h1>\n",
    "<h3>Per prima cosa dobbiamo fare il setup dell'ambiente<h3>\n",
    "<h4>Nulla di complicato e se hai giá installato la libreria recordlinkage nel tuo ambiente python puoi saltare questo passaggio<h4>\n",
    "<h5>Ma considera che ha anche queste dipendenze:\n",
    "    numpy,\n",
    "    pandas,\n",
    "    scipy,\n",
    "    sklearn,\n",
    "    jellyfish,\n",
    "    joblib,\n",
    "Inoltre raccomandate sono:\n",
    "    numexpr - accelerating certain numerical operations,\n",
    "    bottleneck - accelerating certain types of nan evaluations<h5>\n"
   ]
  },
  {
   "cell_type": "code",
   "execution_count": null,
   "metadata": {},
   "outputs": [],
   "source": [
    "!pip install recordlinkage"
   ]
  },
  {
   "cell_type": "markdown",
   "metadata": {},
   "source": [
    "<h2>Da qui inizia l'uso e costumo della libreria<h2>"
   ]
  },
  {
   "cell_type": "markdown",
   "metadata": {},
   "source": [
    "# Record Linkage e Deduplicazione Aziende\n",
    "\n",
    "## Introduzione  \n",
    "In questo notebook, utilizziamo la libreria `recordlinkage` per identificare e unire duplicati in un dataset di aziende. Seguiremo i seguenti passaggi:  \n",
    "1. **Normalizzazione dei dati**  (vedi normalize_company_name.ipynb)\n",
    "2. **Blocchi per ridurre i confronti**  \n",
    "3. **Confronto tra record**  \n",
    "4. **Classificazione dei duplicati**  \n",
    "5. **Aggregazione dei migliori dati**  \n",
    "\n",
    "---\n",
    "#### **Step 1: Importazione delle Librerie e del DataFrame**"
   ]
  },
  {
   "cell_type": "code",
   "execution_count": 1,
   "metadata": {},
   "outputs": [
    {
     "name": "stderr",
     "output_type": "stream",
     "text": [
      "C:\\Users\\matte\\AppData\\Local\\Temp\\ipykernel_22780\\333261198.py:6: DtypeWarning: Columns (38) have mixed types. Specify dtype option on import or set low_memory=False.\n",
      "  companies_df = pd.read_csv('normalized_company_name.csv')\n"
     ]
    }
   ],
   "source": [
    "import recordlinkage\n",
    "from recordlinkage import Compare\n",
    "from recordlinkage.preprocessing import clean\n",
    "import pandas as pd\n",
    "\n",
    "companies_df = pd.read_csv('normalized_company_name.csv')"
   ]
  },
  {
   "cell_type": "markdown",
   "metadata": {},
   "source": [
    "#### **Step 2: Creazione del blocco per la riduzione delle coppie candidate**\n",
    "\n",
    "Il blocco serve a ridurre il numero di confronti tra righe, raggruppando insieme quelle che potrebbero appartenere alla stessa azienda. Per esempio, bloccheremo le righe con lo stesso nome azienda, città e paese.\n"
   ]
  },
  {
   "cell_type": "code",
   "execution_count": 2,
   "metadata": {},
   "outputs": [
    {
     "name": "stdout",
     "output_type": "stream",
     "text": [
      "Numero di coppie candidate: 1499\n"
     ]
    }
   ],
   "source": [
    "indexer = recordlinkage.Index()\n",
    "indexer.block(left_on=['company_name', 'city', 'country'])\n",
    "\n",
    "candidate_pairs = indexer.index(companies_df)\n",
    "\n",
    "print(f'Numero di coppie candidate: {len(candidate_pairs)}')"
   ]
  },
  {
   "cell_type": "markdown",
   "metadata": {},
   "source": [
    "#### **Sicuramente questo metodo di blocking puó esser migliorato perché penso ci perdiamo un sacco di match peró é anche vero che se hanno questi valori uguali sicuro so uguali**\n",
    "#### Le possibili migliorie sono 2 o normalizziamo meglio i nomi e poi mettiamo bloking solo su nomi, oppure non usiamo blocking ma facciamo direttamente compare usandolo come blocking\n",
    "---"
   ]
  },
  {
   "cell_type": "markdown",
   "metadata": {},
   "source": [
    "### **Step 3: Confronto delle coppie candidate**\n",
    "\n",
    "Una volta definite le coppie di righe candidate, possiamo procedere al confronto tra i record. Utilizzeremo la similarità di stringhe (Jaro-Winkler) per confrontare altre colonne, come `industry`, `foundation_year`, `website`, e `number_of_employees`."
   ]
  },
  {
   "cell_type": "code",
   "execution_count": 3,
   "metadata": {},
   "outputs": [
    {
     "name": "stdout",
     "output_type": "stream",
     "text": [
      "Numero di coppie candidate: 1499\n",
      "Prime 5 coppie candidate:\n",
      "MultiIndex([( 19,  18),\n",
      "            ( 35,  34),\n",
      "            ( 61,  60),\n",
      "            (141, 140),\n",
      "            (145, 144)],\n",
      "           )\n"
     ]
    },
    {
     "ename": "",
     "evalue": "",
     "output_type": "error",
     "traceback": [
      "\u001b[1;31mThe Kernel crashed while executing code in the current cell or a previous cell. \n",
      "\u001b[1;31mPlease review the code in the cell(s) to identify a possible cause of the failure. \n",
      "\u001b[1;31mClick <a href='https://aka.ms/vscodeJupyterKernelCrash'>here</a> for more info. \n",
      "\u001b[1;31mView Jupyter <a href='command:jupyter.viewOutput'>log</a> for further details."
     ]
    }
   ],
   "source": [
    "def compare_pair(pair, compare, companies_df):\n",
    "    return compare.compute([pair], companies_df)\n",
    "\n",
    "compare = Compare()\n",
    "compare.string('industry', 'industry', method='jarowinkler', label='industry')\n",
    "compare.numeric('foundation_year', 'foundation_year', label='foundation_year')\n",
    "compare.string('website', 'website', method='jarowinkler', label='website')\n",
    "compare.numeric('number_of_employees', 'number_of_employees', label='number_of_employees')\n",
    "\n",
    "print(f\"Numero di coppie candidate: {len(candidate_pairs)}\")\n",
    "print(\"Prime 5 coppie candidate:\")\n",
    "print(candidate_pairs[:5])\n",
    "\n",
    "sampled_candidate_pairs = candidate_pairs[:100]  # Limita a 1000 coppie\n",
    "\n",
    "candidate_pairs_index = pd.MultiIndex.from_tuples(sampled_candidate_pairs, names=['left', 'right'])\n",
    "\n",
    "features = compare.compute(candidate_pairs_index, companies_df)\n",
    "\n",
    "features = features[features.sum(axis=1) > 0.85]\n",
    "\n",
    "print(features.head())\n"
   ]
  },
  {
   "cell_type": "markdown",
   "metadata": {},
   "source": [
    "### **Questo non mi funiona non so se é perché il dataset é troppo grande ma muore il kernel**\n",
    "\n",
    "---"
   ]
  },
  {
   "cell_type": "markdown",
   "metadata": {},
   "source": [
    "### **Step 4: Filtraggio delle corrispondenze**"
   ]
  },
  {
   "cell_type": "code",
   "execution_count": 25,
   "metadata": {},
   "outputs": [
    {
     "name": "stdout",
     "output_type": "stream",
     "text": [
      "Numero di corrispondenze trovate: 1499\n"
     ]
    },
    {
     "data": {
      "text/html": [
       "<div>\n",
       "<style scoped>\n",
       "    .dataframe tbody tr th:only-of-type {\n",
       "        vertical-align: middle;\n",
       "    }\n",
       "\n",
       "    .dataframe tbody tr th {\n",
       "        vertical-align: top;\n",
       "    }\n",
       "\n",
       "    .dataframe thead th {\n",
       "        text-align: right;\n",
       "    }\n",
       "</style>\n",
       "<table border=\"1\" class=\"dataframe\">\n",
       "  <thead>\n",
       "    <tr style=\"text-align: right;\">\n",
       "      <th></th>\n",
       "      <th></th>\n",
       "      <th>company_name</th>\n",
       "      <th>city</th>\n",
       "      <th>country</th>\n",
       "    </tr>\n",
       "  </thead>\n",
       "  <tbody>\n",
       "    <tr>\n",
       "      <th>19</th>\n",
       "      <th>18</th>\n",
       "      <td>1.0</td>\n",
       "      <td>1.0</td>\n",
       "      <td>1</td>\n",
       "    </tr>\n",
       "    <tr>\n",
       "      <th>35</th>\n",
       "      <th>34</th>\n",
       "      <td>1.0</td>\n",
       "      <td>1.0</td>\n",
       "      <td>1</td>\n",
       "    </tr>\n",
       "    <tr>\n",
       "      <th>61</th>\n",
       "      <th>60</th>\n",
       "      <td>1.0</td>\n",
       "      <td>1.0</td>\n",
       "      <td>1</td>\n",
       "    </tr>\n",
       "    <tr>\n",
       "      <th>141</th>\n",
       "      <th>140</th>\n",
       "      <td>1.0</td>\n",
       "      <td>1.0</td>\n",
       "      <td>1</td>\n",
       "    </tr>\n",
       "    <tr>\n",
       "      <th>145</th>\n",
       "      <th>144</th>\n",
       "      <td>1.0</td>\n",
       "      <td>1.0</td>\n",
       "      <td>1</td>\n",
       "    </tr>\n",
       "  </tbody>\n",
       "</table>\n",
       "</div>"
      ],
      "text/plain": [
       "         company_name  city  country\n",
       "19  18            1.0   1.0        1\n",
       "35  34            1.0   1.0        1\n",
       "61  60            1.0   1.0        1\n",
       "141 140           1.0   1.0        1\n",
       "145 144           1.0   1.0        1"
      ]
     },
     "execution_count": 25,
     "metadata": {},
     "output_type": "execute_result"
    }
   ],
   "source": [
    "matches = features[features.sum(axis=1) > 2]  # La somma delle colonne è maggiore di 2\n",
    "\n",
    "print(f'Numero di corrispondenze trovate: {len(matches)}')\n",
    "\n",
    "matches.head()"
   ]
  },
  {
   "cell_type": "markdown",
   "metadata": {},
   "source": [
    "### **Step 5: Cobinazione righe**\n",
    "Infine, possiamo deduplicare i dati aziendali combinando le righe corrispondenti. In questo esempio, prenderemo i valori più \"affidabili\" (ad esempio, il valore massimo per le colonne numeriche) per ogni gruppo di corrispondenze."
   ]
  },
  {
   "cell_type": "code",
   "execution_count": 27,
   "metadata": {},
   "outputs": [
    {
     "data": {
      "text/html": [
       "<div>\n",
       "<style scoped>\n",
       "    .dataframe tbody tr th:only-of-type {\n",
       "        vertical-align: middle;\n",
       "    }\n",
       "\n",
       "    .dataframe tbody tr th {\n",
       "        vertical-align: top;\n",
       "    }\n",
       "\n",
       "    .dataframe thead th {\n",
       "        text-align: right;\n",
       "    }\n",
       "</style>\n",
       "<table border=\"1\" class=\"dataframe\">\n",
       "  <thead>\n",
       "    <tr style=\"text-align: right;\">\n",
       "      <th></th>\n",
       "      <th>company_name</th>\n",
       "      <th>city</th>\n",
       "      <th>country</th>\n",
       "    </tr>\n",
       "  </thead>\n",
       "  <tbody>\n",
       "    <tr>\n",
       "      <th>19</th>\n",
       "      <td>1.0</td>\n",
       "      <td>1.0</td>\n",
       "      <td>1</td>\n",
       "    </tr>\n",
       "    <tr>\n",
       "      <th>35</th>\n",
       "      <td>1.0</td>\n",
       "      <td>1.0</td>\n",
       "      <td>1</td>\n",
       "    </tr>\n",
       "    <tr>\n",
       "      <th>61</th>\n",
       "      <td>1.0</td>\n",
       "      <td>1.0</td>\n",
       "      <td>1</td>\n",
       "    </tr>\n",
       "    <tr>\n",
       "      <th>141</th>\n",
       "      <td>1.0</td>\n",
       "      <td>1.0</td>\n",
       "      <td>1</td>\n",
       "    </tr>\n",
       "    <tr>\n",
       "      <th>145</th>\n",
       "      <td>1.0</td>\n",
       "      <td>1.0</td>\n",
       "      <td>1</td>\n",
       "    </tr>\n",
       "  </tbody>\n",
       "</table>\n",
       "</div>"
      ],
      "text/plain": [
       "     company_name  city  country\n",
       "19            1.0   1.0        1\n",
       "35            1.0   1.0        1\n",
       "61            1.0   1.0        1\n",
       "141           1.0   1.0        1\n",
       "145           1.0   1.0        1"
      ]
     },
     "execution_count": 27,
     "metadata": {},
     "output_type": "execute_result"
    }
   ],
   "source": [
    "grouped_matches = matches.groupby(level=0).agg('max')\n",
    "\n",
    "grouped_matches.head()\n"
   ]
  },
  {
   "cell_type": "markdown",
   "metadata": {},
   "source": [
    "### Conclusione\n",
    "\n",
    "Abbiamo completato il processo di **record linkage** utilizzando il blocco e il confronto delle righe aziendali. Abbiamo ridotto il numero di confronti, filtrato le corrispondenze e finalmente deduplicato i dati per ottenere un'unica riga per ogni azienda.\n",
    "\n",
    "Puoi ora esaminare i risultati nel file `dati_deduplicati.csv` e continuare con l'analisi dei dati.\n",
    "\n",
    "Se desideri ottimizzare ulteriormente i parametri o esplorare altre tecniche di confronto, come l'utilizzo di diverse metriche di similarità o il blocking su altre colonne, sentiti libero di adattare il codice!"
   ]
  }
 ],
 "metadata": {
  "kernelspec": {
   "display_name": "base",
   "language": "python",
   "name": "python3"
  },
  "language_info": {
   "codemirror_mode": {
    "name": "ipython",
    "version": 3
   },
   "file_extension": ".py",
   "mimetype": "text/x-python",
   "name": "python",
   "nbconvert_exporter": "python",
   "pygments_lexer": "ipython3",
   "version": "3.9.13"
  }
 },
 "nbformat": 4,
 "nbformat_minor": 2
}
