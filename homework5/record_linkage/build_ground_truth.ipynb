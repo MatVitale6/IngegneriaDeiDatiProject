{
 "cells": [
  {
   "cell_type": "markdown",
   "metadata": {},
   "source": [
    "# !DA CONTINUARE SOLO A NORMALIZZAZIONE COMPLETATA!"
   ]
  },
  {
   "cell_type": "code",
   "execution_count": 5,
   "metadata": {},
   "outputs": [
    {
     "name": "stdout",
     "output_type": "stream",
     "text": [
      "Requirement already satisfied: rapidfuzz in /home/hermann/Desktop/IngegneriaDeiDatiProject/.venv/lib/python3.12/site-packages (3.12.1)\n",
      "Requirement already satisfied: python-Levenshtein in /home/hermann/Desktop/IngegneriaDeiDatiProject/.venv/lib/python3.12/site-packages (0.26.1)\n",
      "Requirement already satisfied: Levenshtein==0.26.1 in /home/hermann/Desktop/IngegneriaDeiDatiProject/.venv/lib/python3.12/site-packages (from python-Levenshtein) (0.26.1)\n",
      "Requirement already satisfied: rapidfuzz<4.0.0,>=3.9.0 in /home/hermann/Desktop/IngegneriaDeiDatiProject/.venv/lib/python3.12/site-packages (from Levenshtein==0.26.1->python-Levenshtein) (3.12.1)\n"
     ]
    }
   ],
   "source": [
    "# deps\n",
    "!pip install rapidfuzz\n",
    "!pip install python-Levenshtein"
   ]
  },
  {
   "cell_type": "markdown",
   "metadata": {},
   "source": [
    "### Rapidfuzz\n",
    "`rapidfuzz` è una libreria Python per la **fuzzy matching**, simile a `fuzzywuzzy`, ma più veloce e più efficiente perché scritta in C++. Il **fuzzy matching** è una tecnica di matching approssimativo che confronta due stringhe per determinare quanto sono simili, anche se non sono esattamente uguali.\n",
    "\n",
    "Il Fuzzy Matching utilizza metriche di similarità testuale come:\n",
    "\n",
    "+ **Levenshtein Distance** (distanza di edit)\n",
    "+ **Jaro-Winkler Similarity**\n",
    "+ **Token-based Matching** (ignora l'ordine delle parole)\n"
   ]
  },
  {
   "cell_type": "code",
   "execution_count": 6,
   "metadata": {},
   "outputs": [
    {
     "name": "stdout",
     "output_type": "stream",
     "text": [
      "Similarità: 95.65217391304348%\n"
     ]
    }
   ],
   "source": [
    "from rapidfuzz import fuzz\n",
    "\n",
    "# Distanza Levenshtein\n",
    "str1 = \"Google Inc.\"\n",
    "str2 = \"Gooogle Inc.\"\n",
    "\n",
    "similarity = fuzz.ratio(str1, str2)\n",
    "print(f\"Similarità: {similarity}%\")"
   ]
  },
  {
   "cell_type": "code",
   "execution_count": 7,
   "metadata": {},
   "outputs": [
    {
     "name": "stdout",
     "output_type": "stream",
     "text": [
      "Token Sort Ratio: 100.0%\n"
     ]
    }
   ],
   "source": [
    "similarity = fuzz.token_sort_ratio(\"International Business Machines\", \"Machines International Business\")\n",
    "print(f\"Token Sort Ratio: {similarity}%\")"
   ]
  },
  {
   "cell_type": "code",
   "execution_count": 8,
   "metadata": {},
   "outputs": [
    {
     "name": "stdout",
     "output_type": "stream",
     "text": [
      "('Google Inc.', 83.07692307692308, 0)\n"
     ]
    }
   ],
   "source": [
    "#Trova la Migliore Corrispondenza in una Lista\n",
    "from rapidfuzz import process\n",
    "\n",
    "choices = [\"Google Inc.\", \"Amazon LLC\", \"Microsoft Corp.\", \"Apple Ltd.\"]\n",
    "query = \"Gooogle\"\n",
    "\n",
    "best_match = process.extractOne(query, choices)\n",
    "print(best_match)"
   ]
  },
  {
   "cell_type": "markdown",
   "metadata": {},
   "source": [
    "# **Costruzione della Ground Truth**\n",
    "\n",
    "1. Selezionare coppie candidate per il matching\n",
    "2. Selezionare coppie di aziende che non corrispondono\n",
    "3. Bilanciare la distribuzione dei casi facili e difficili\n",
    "4. Validare manualmente un sottoinsieme delle coppie\n",
    "5. Salvare la ground-truth in un formato utilizzabile per il training"
   ]
  },
  {
   "cell_type": "markdown",
   "metadata": {},
   "source": [
    "## Step 1: Selezionare Coppie Candidate per il Matching\n",
    "\n",
    "Dobbiamo creare un insieme di coppie di aziende che potrebbero essere la stessa entità.\n",
    "Utilizziamo una combinazione di blocking e similarità fuzzy su più attributi (le strategie di blocking non sono quelle definitive che useremo nella fase di record linkage)\n",
    "\n",
    "### Blocking\n",
    "- Matching su nomi\n",
    "- Matching su indirizzo\n",
    "- Matching su telefono\n",
    "### Similarità\n",
    "- Nomi simili, usando **Jaccard, Levenshtein, Jaro-Winkler**\n",
    "- Sede operativa\n",
    "- Partita iva o codici identificativi"
   ]
  },
  {
   "cell_type": "code",
   "execution_count": null,
   "metadata": {},
   "outputs": [
    {
     "name": "stderr",
     "output_type": "stream",
     "text": [
      "/tmp/ipykernel_292239/2279105695.py:6: DtypeWarning: Columns (33) have mixed types. Specify dtype option on import or set low_memory=False.\n",
      "  companies_df = pd.read_csv(AZIENDE_CSV)\n"
     ]
    }
   ],
   "source": [
    "import pandas as pd\n",
    "from itertools import combinations\n",
    "from rapidfuzz import fuzz\n",
    "\n",
    "AZIENDE_CSV = '../aziende_normalizzate.csv'\n",
    "companies_df = pd.read_csv(AZIENDE_CSV)\n",
    "\n",
    "candidate_pairs = []\n",
    "\n",
    "for idx1, idx2 in combinations(companies_df.index, 2):\n",
    "    company1 = companies_df.loc[idx1]\n",
    "    company2 = companies_df.loc[idx2]\n",
    "\n",
    "    # Blocking: aziende nella stessa città e con nome simile\n",
    "    if company1[\"city\"] == company2[\"city\"] and fuzz.token_sort_ratio(company1[\"company_name\"], company2[\"company_name\"]) > 85:\n",
    "        candidate_pairs.append((company1[\"company_id\"], company2[\"company_id\"]))\n",
    "\n",
    "\n"
   ]
  }
 ],
 "metadata": {
  "kernelspec": {
   "display_name": ".venv",
   "language": "python",
   "name": "python3"
  },
  "language_info": {
   "codemirror_mode": {
    "name": "ipython",
    "version": 3
   },
   "file_extension": ".py",
   "mimetype": "text/x-python",
   "name": "python",
   "nbconvert_exporter": "python",
   "pygments_lexer": "ipython3",
   "version": "3.12.3"
  }
 },
 "nbformat": 4,
 "nbformat_minor": 2
}
