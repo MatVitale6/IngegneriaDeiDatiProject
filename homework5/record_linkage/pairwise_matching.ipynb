{
 "cells": [
  {
   "cell_type": "markdown",
   "metadata": {},
   "source": [
    "Dopo aver calcolato il pairwise matching con **Record Linkage Toolkit**, è necessario confrontare i risultati con un metodo alternativo. Le opzioni disponibili sono:  \n",
    "\n",
    "### **1️⃣ DeepMatcher**  \n",
    "DeepMatcher è un modello basato su **reti neurali classiche**, ottimizzato per il record linkage su dati strutturati.  \n",
    "\n",
    "✅ Richiede meno dati per il training  \n",
    "✅ Facile da configurare  \n",
    "✅ Funziona bene con dati tabellari strutturati (es. numeri, date, nomi)  \n",
    "\n",
    "📌 **Quando usarlo?**  \n",
    "Se i dati sono ben strutturati e vogliamo un approccio più rapido senza entrare nei modelli di NLP avanzati.  \n",
    "\n",
    "🔗 **Repo:** [DeepMatcher](https://github.com/anhaidgroup/deepmatcher)  \n",
    "\n",
    "---\n",
    "\n",
    "### **2️⃣ Ditto**  \n",
    "Ditto utilizza **modelli di trasformazione del linguaggio (NLP)** come BERT per catturare la semantica dei dati.  \n",
    "\n",
    "✅ Potente per dati testuali rumorosi (es. descrizioni, indirizzi)  \n",
    "✅ Richiede meno feature engineering rispetto a DeepMatcher  \n",
    "✅ Utilizza **fine-tuning** su un transformer pre-addestrato  \n",
    "\n",
    "📌 **Quando usarlo?**  \n",
    "Se il dataset contiene molte informazioni testuali e vogliamo sfruttare l'intelligenza artificiale avanzata.  \n",
    "\n",
    "🔗 **Repo:** [Ditto](https://github.com/megagonlabs/ditto)  \n",
    "\n",
    "---\n",
    "\n",
    "### **3️⃣ EMT (Entity Matching Transformer)**  \n",
    "EMT è una variante di Ditto, più **efficiente e leggera**, ottimizzata per dataset di grandi dimensioni.  \n",
    "\n",
    "✅ Simile a Ditto, ma con meno overhead computazionale  \n",
    "✅ Adatto a dataset misti (dati strutturati e testuali)  \n",
    "✅ Richiede meno risorse rispetto a Ditto  \n",
    "\n",
    "📌 **Quando usarlo?**  \n",
    "Se Ditto è troppo pesante e vogliamo un compromesso tra efficienza e accuratezza.  \n",
    "\n",
    "🔗 **Repo:** [EMT](https://github.com/brunnurs/entity-matching-transformer)  \n",
    "\n",
    "---\n",
    "\n",
    "### **💡 Scelta del Metodo**  \n",
    "1️⃣ Se vogliamo un metodo rapido e semplice **→ DeepMatcher**  \n",
    "2️⃣ Se vogliamo massima accuratezza **→ Ditto**  \n",
    "3️⃣ Se Ditto è troppo pesante **→ EMT**  \n",
    "\n",
    "🔹 **Prossimo passo:** iniziamo testando **DeepMatcher**, poi valuteremo se passare a un modello basato su transformer come **Ditto** o **EMT**. 🚀  "
   ]
  },
  {
   "cell_type": "markdown",
   "metadata": {},
   "source": [
    "## Implementazione di DeepMatcher  \n",
    "\n",
    "In questa sezione utilizziamo **DeepMatcher**, un modello basato su reti neurali per il record linkage.  \n",
    "L'obiettivo è confrontare i risultati ottenuti con Record Linkage Toolkit e verificare quale approccio funziona meglio.  \n",
    "\n",
    "---\n",
    "\n",
    "### **1️⃣ Formattazione del Dataset**  \n",
    "\n",
    "DeepMatcher richiede che i dati siano strutturati in un file CSV con le seguenti colonne:  \n",
    "\n",
    "- **id**: Identificativo univoco della coppia  \n",
    "- **left_***: Attributi della prima azienda  \n",
    "- **right_***: Attributi della seconda azienda  \n",
    "- **label**: **1** se le aziende sono un match, **0** altrimenti  \n",
    "\n",
    "📌 **Nota:** Dobbiamo creare manualmente le etichette di match/non-match, basandoci sulla nostra ground truth.  \n",
    "\n",
    "---\n",
    "\n",
    "### **2️⃣ Installazione di DeepMatcher**  \n",
    "\n",
    "Prima di procedere, installiamo le librerie necessarie: "
   ]
  },
  {
   "cell_type": "code",
   "execution_count": 9,
   "metadata": {},
   "outputs": [
    {
     "name": "stdout",
     "output_type": "stream",
     "text": [
      "Requirement already satisfied: deepmatcher in c:\\users\\matte\\anaconda3\\lib\\site-packages (0.1.2.post2)\n",
      "Requirement already satisfied: torch>=1.0 in c:\\users\\matte\\anaconda3\\lib\\site-packages (from deepmatcher) (2.6.0)\n",
      "Requirement already satisfied: tqdm in c:\\users\\matte\\anaconda3\\lib\\site-packages (from deepmatcher) (4.64.1)\n",
      "Requirement already satisfied: pyprind in c:\\users\\matte\\anaconda3\\lib\\site-packages (from deepmatcher) (2.11.3)\n",
      "Requirement already satisfied: six in c:\\users\\matte\\anaconda3\\lib\\site-packages (from deepmatcher) (1.16.0)\n",
      "Requirement already satisfied: Cython in c:\\users\\matte\\anaconda3\\lib\\site-packages (from deepmatcher) (0.29.32)\n",
      "Requirement already satisfied: torchtext>=0.9 in c:\\users\\matte\\anaconda3\\lib\\site-packages (from deepmatcher) (0.18.0)\n",
      "Requirement already satisfied: nltk>=3.2.5 in c:\\users\\matte\\anaconda3\\lib\\site-packages (from deepmatcher) (3.7)\n",
      "Requirement already satisfied: fasttext in c:\\users\\matte\\anaconda3\\lib\\site-packages (from deepmatcher) (0.9.2)\n",
      "Requirement already satisfied: pandas in c:\\users\\matte\\anaconda3\\lib\\site-packages (from deepmatcher) (1.4.4)\n",
      "Requirement already satisfied: dill in c:\\users\\matte\\anaconda3\\lib\\site-packages (from deepmatcher) (0.3.7)\n",
      "Requirement already satisfied: scikit-learn in c:\\users\\matte\\anaconda3\\lib\\site-packages (from deepmatcher) (1.0.2)\n",
      "Requirement already satisfied: click in c:\\users\\matte\\anaconda3\\lib\\site-packages (from nltk>=3.2.5->deepmatcher) (8.0.4)\n",
      "Requirement already satisfied: joblib in c:\\users\\matte\\anaconda3\\lib\\site-packages (from nltk>=3.2.5->deepmatcher) (1.1.0)\n",
      "Requirement already satisfied: regex>=2021.8.3 in c:\\users\\matte\\anaconda3\\lib\\site-packages (from nltk>=3.2.5->deepmatcher) (2022.7.9)\n",
      "Requirement already satisfied: filelock in c:\\users\\matte\\anaconda3\\lib\\site-packages (from torch>=1.0->deepmatcher) (3.6.0)\n",
      "Requirement already satisfied: typing-extensions>=4.10.0 in c:\\users\\matte\\anaconda3\\lib\\site-packages (from torch>=1.0->deepmatcher) (4.12.2)\n",
      "Requirement already satisfied: networkx in c:\\users\\matte\\anaconda3\\lib\\site-packages (from torch>=1.0->deepmatcher) (2.8.4)\n",
      "Requirement already satisfied: jinja2 in c:\\users\\matte\\anaconda3\\lib\\site-packages (from torch>=1.0->deepmatcher) (2.11.3)\n",
      "Requirement already satisfied: fsspec in c:\\users\\matte\\anaconda3\\lib\\site-packages (from torch>=1.0->deepmatcher) (2023.6.0)\n",
      "Requirement already satisfied: sympy==1.13.1 in c:\\users\\matte\\anaconda3\\lib\\site-packages (from torch>=1.0->deepmatcher) (1.13.1)\n",
      "Requirement already satisfied: mpmath<1.4,>=1.1.0 in c:\\users\\matte\\anaconda3\\lib\\site-packages (from sympy==1.13.1->torch>=1.0->deepmatcher) (1.2.1)\n",
      "Requirement already satisfied: requests in c:\\users\\matte\\anaconda3\\lib\\site-packages (from torchtext>=0.9->deepmatcher) (2.28.1)\n",
      "Requirement already satisfied: numpy in c:\\users\\matte\\anaconda3\\lib\\site-packages (from torchtext>=0.9->deepmatcher) (1.19.5)\n",
      "Requirement already satisfied: pybind11>=2.2 in c:\\users\\matte\\anaconda3\\lib\\site-packages (from fasttext->deepmatcher) (2.13.6)\n",
      "Requirement already satisfied: setuptools>=0.7.0 in c:\\users\\matte\\anaconda3\\lib\\site-packages (from fasttext->deepmatcher) (63.4.1)\n",
      "Requirement already satisfied: python-dateutil>=2.8.1 in c:\\users\\matte\\anaconda3\\lib\\site-packages (from pandas->deepmatcher) (2.8.2)\n",
      "Requirement already satisfied: pytz>=2020.1 in c:\\users\\matte\\anaconda3\\lib\\site-packages (from pandas->deepmatcher) (2022.1)\n",
      "Requirement already satisfied: scipy>=1.1.0 in c:\\users\\matte\\anaconda3\\lib\\site-packages (from scikit-learn->deepmatcher) (1.9.1)\n",
      "Requirement already satisfied: threadpoolctl>=2.0.0 in c:\\users\\matte\\anaconda3\\lib\\site-packages (from scikit-learn->deepmatcher) (2.2.0)\n",
      "Requirement already satisfied: colorama in c:\\users\\matte\\anaconda3\\lib\\site-packages (from tqdm->deepmatcher) (0.4.5)\n",
      "Requirement already satisfied: MarkupSafe>=0.23 in c:\\users\\matte\\anaconda3\\lib\\site-packages (from jinja2->torch>=1.0->deepmatcher) (2.0.1)\n",
      "Requirement already satisfied: charset-normalizer<3,>=2 in c:\\users\\matte\\anaconda3\\lib\\site-packages (from requests->torchtext>=0.9->deepmatcher) (2.0.4)\n",
      "Requirement already satisfied: idna<4,>=2.5 in c:\\users\\matte\\anaconda3\\lib\\site-packages (from requests->torchtext>=0.9->deepmatcher) (3.3)\n",
      "Requirement already satisfied: urllib3<1.27,>=1.21.1 in c:\\users\\matte\\anaconda3\\lib\\site-packages (from requests->torchtext>=0.9->deepmatcher) (1.26.11)\n",
      "Requirement already satisfied: certifi>=2017.4.17 in c:\\users\\matte\\anaconda3\\lib\\site-packages (from requests->torchtext>=0.9->deepmatcher) (2022.9.14)\n"
     ]
    },
    {
     "name": "stderr",
     "output_type": "stream",
     "text": [
      "WARNING: Ignoring invalid distribution -orch (c:\\users\\matte\\anaconda3\\lib\\site-packages)\n",
      "WARNING: Ignoring invalid distribution -orch (c:\\users\\matte\\anaconda3\\lib\\site-packages)\n",
      "WARNING: Ignoring invalid distribution -orch (c:\\users\\matte\\anaconda3\\lib\\site-packages)\n"
     ]
    },
    {
     "name": "stdout",
     "output_type": "stream",
     "text": [
      "Requirement already satisfied: torch in c:\\users\\matte\\anaconda3\\lib\\site-packages (2.6.0)\n",
      "Requirement already satisfied: torchvision in c:\\users\\matte\\anaconda3\\lib\\site-packages (0.21.0)\n",
      "Requirement already satisfied: torchaudio in c:\\users\\matte\\anaconda3\\lib\\site-packages (2.6.0)\n",
      "Requirement already satisfied: filelock in c:\\users\\matte\\anaconda3\\lib\\site-packages (from torch) (3.6.0)\n",
      "Requirement already satisfied: typing-extensions>=4.10.0 in c:\\users\\matte\\anaconda3\\lib\\site-packages (from torch) (4.12.2)\n",
      "Requirement already satisfied: networkx in c:\\users\\matte\\anaconda3\\lib\\site-packages (from torch) (2.8.4)\n",
      "Requirement already satisfied: jinja2 in c:\\users\\matte\\anaconda3\\lib\\site-packages (from torch) (2.11.3)\n",
      "Requirement already satisfied: fsspec in c:\\users\\matte\\anaconda3\\lib\\site-packages (from torch) (2023.6.0)\n",
      "Requirement already satisfied: sympy==1.13.1 in c:\\users\\matte\\anaconda3\\lib\\site-packages (from torch) (1.13.1)\n",
      "Requirement already satisfied: mpmath<1.4,>=1.1.0 in c:\\users\\matte\\anaconda3\\lib\\site-packages (from sympy==1.13.1->torch) (1.2.1)\n",
      "Requirement already satisfied: numpy in c:\\users\\matte\\anaconda3\\lib\\site-packages (from torchvision) (1.19.5)\n",
      "Requirement already satisfied: pillow!=8.3.*,>=5.3.0 in c:\\users\\matte\\anaconda3\\lib\\site-packages (from torchvision) (9.2.0)\n",
      "Requirement already satisfied: MarkupSafe>=0.23 in c:\\users\\matte\\anaconda3\\lib\\site-packages (from jinja2->torch) (2.0.1)\n"
     ]
    },
    {
     "name": "stderr",
     "output_type": "stream",
     "text": [
      "WARNING: Ignoring invalid distribution -orch (c:\\users\\matte\\anaconda3\\lib\\site-packages)\n",
      "WARNING: Ignoring invalid distribution -orch (c:\\users\\matte\\anaconda3\\lib\\site-packages)\n",
      "WARNING: Ignoring invalid distribution -orch (c:\\users\\matte\\anaconda3\\lib\\site-packages)\n"
     ]
    }
   ],
   "source": [
    "!pip install torch"
   ]
  },
  {
   "cell_type": "code",
   "execution_count": 1,
   "metadata": {},
   "outputs": [
    {
     "name": "stdout",
     "output_type": "stream",
     "text": [
      "False\n"
     ]
    }
   ],
   "source": [
    "import torch\n",
    "print(torch.cuda.is_available())  # Deve restituire True se la GPU è attiva"
   ]
  },
  {
   "cell_type": "code",
   "execution_count": null,
   "metadata": {},
   "outputs": [
    {
     "ename": "OSError",
     "evalue": "[WinError 127] Impossibile trovare la procedura specificata",
     "output_type": "error",
     "traceback": [
      "\u001b[1;31m---------------------------------------------------------------------------\u001b[0m",
      "\u001b[1;31mOSError\u001b[0m                                   Traceback (most recent call last)",
      "\u001b[1;32m~\\AppData\\Local\\Temp\\ipykernel_16572\\1569164159.py\u001b[0m in \u001b[0;36m<module>\u001b[1;34m\u001b[0m\n\u001b[1;32m----> 1\u001b[1;33m \u001b[1;32mimport\u001b[0m \u001b[0mdeepmatcher\u001b[0m \u001b[1;32mas\u001b[0m \u001b[0mdm\u001b[0m\u001b[1;33m\u001b[0m\u001b[1;33m\u001b[0m\u001b[0m\n\u001b[0m\u001b[0;32m      2\u001b[0m \u001b[1;32mimport\u001b[0m \u001b[0mpandas\u001b[0m \u001b[1;32mas\u001b[0m \u001b[0mpd\u001b[0m\u001b[1;33m\u001b[0m\u001b[1;33m\u001b[0m\u001b[0m\n",
      "\u001b[1;32mc:\\Users\\matte\\anaconda3\\lib\\site-packages\\deepmatcher\\__init__.py\u001b[0m in \u001b[0;36m<module>\u001b[1;34m\u001b[0m\n\u001b[0;32m      8\u001b[0m \u001b[1;32mimport\u001b[0m \u001b[0msys\u001b[0m\u001b[1;33m\u001b[0m\u001b[1;33m\u001b[0m\u001b[0m\n\u001b[0;32m      9\u001b[0m \u001b[1;33m\u001b[0m\u001b[0m\n\u001b[1;32m---> 10\u001b[1;33m \u001b[1;32mfrom\u001b[0m \u001b[1;33m.\u001b[0m\u001b[0mdata\u001b[0m \u001b[1;32mimport\u001b[0m \u001b[0mprocess\u001b[0m \u001b[1;32mas\u001b[0m \u001b[0mdata_process\u001b[0m\u001b[1;33m\u001b[0m\u001b[1;33m\u001b[0m\u001b[0m\n\u001b[0m\u001b[0;32m     11\u001b[0m \u001b[1;32mfrom\u001b[0m \u001b[1;33m.\u001b[0m\u001b[0mmodels\u001b[0m \u001b[1;32mimport\u001b[0m \u001b[0mmodules\u001b[0m\u001b[1;33m\u001b[0m\u001b[1;33m\u001b[0m\u001b[0m\n\u001b[0;32m     12\u001b[0m from .models.core import (MatchingModel, AttrSummarizer, WordContextualizer,\n",
      "\u001b[1;32mc:\\Users\\matte\\anaconda3\\lib\\site-packages\\deepmatcher\\data\\__init__.py\u001b[0m in \u001b[0;36m<module>\u001b[1;34m\u001b[0m\n\u001b[1;32m----> 1\u001b[1;33m \u001b[1;32mfrom\u001b[0m \u001b[1;33m.\u001b[0m\u001b[0mfield\u001b[0m \u001b[1;32mimport\u001b[0m \u001b[0mMatchingField\u001b[0m\u001b[1;33m,\u001b[0m \u001b[0mreset_vector_cache\u001b[0m\u001b[1;33m\u001b[0m\u001b[1;33m\u001b[0m\u001b[0m\n\u001b[0m\u001b[0;32m      2\u001b[0m \u001b[1;32mfrom\u001b[0m \u001b[1;33m.\u001b[0m\u001b[0mdataset\u001b[0m \u001b[1;32mimport\u001b[0m \u001b[0mMatchingDataset\u001b[0m\u001b[1;33m\u001b[0m\u001b[1;33m\u001b[0m\u001b[0m\n\u001b[0;32m      3\u001b[0m \u001b[1;32mfrom\u001b[0m \u001b[1;33m.\u001b[0m\u001b[0miterator\u001b[0m \u001b[1;32mimport\u001b[0m \u001b[0mMatchingIterator\u001b[0m\u001b[1;33m\u001b[0m\u001b[1;33m\u001b[0m\u001b[0m\n\u001b[0;32m      4\u001b[0m \u001b[1;32mfrom\u001b[0m \u001b[1;33m.\u001b[0m\u001b[0mprocess\u001b[0m \u001b[1;32mimport\u001b[0m \u001b[0mprocess\u001b[0m\u001b[1;33m,\u001b[0m \u001b[0mprocess_unlabeled\u001b[0m\u001b[1;33m\u001b[0m\u001b[1;33m\u001b[0m\u001b[0m\n\u001b[0;32m      5\u001b[0m \u001b[1;32mfrom\u001b[0m \u001b[1;33m.\u001b[0m\u001b[0mdataset\u001b[0m \u001b[1;32mimport\u001b[0m \u001b[0msplit\u001b[0m\u001b[1;33m\u001b[0m\u001b[1;33m\u001b[0m\u001b[0m\n",
      "\u001b[1;32mc:\\Users\\matte\\anaconda3\\lib\\site-packages\\deepmatcher\\data\\field.py\u001b[0m in \u001b[0;36m<module>\u001b[1;34m\u001b[0m\n\u001b[0;32m     11\u001b[0m \u001b[1;32mimport\u001b[0m \u001b[0mfasttext\u001b[0m\u001b[1;33m\u001b[0m\u001b[1;33m\u001b[0m\u001b[0m\n\u001b[0;32m     12\u001b[0m \u001b[1;32mimport\u001b[0m \u001b[0mtorch\u001b[0m\u001b[1;33m\u001b[0m\u001b[1;33m\u001b[0m\u001b[0m\n\u001b[1;32m---> 13\u001b[1;33m \u001b[1;32mfrom\u001b[0m \u001b[0mtorchtext\u001b[0m\u001b[1;33m.\u001b[0m\u001b[0mlegacy\u001b[0m \u001b[1;32mimport\u001b[0m \u001b[0mdata\u001b[0m\u001b[1;33m,\u001b[0m \u001b[0mvocab\u001b[0m\u001b[1;33m\u001b[0m\u001b[1;33m\u001b[0m\u001b[0m\n\u001b[0m\u001b[0;32m     14\u001b[0m \u001b[1;32mfrom\u001b[0m \u001b[0mtorchtext\u001b[0m\u001b[1;33m.\u001b[0m\u001b[0mutils\u001b[0m \u001b[1;32mimport\u001b[0m \u001b[0mdownload_from_url\u001b[0m\u001b[1;33m\u001b[0m\u001b[1;33m\u001b[0m\u001b[0m\n\u001b[0;32m     15\u001b[0m \u001b[1;32mfrom\u001b[0m \u001b[0murllib\u001b[0m\u001b[1;33m.\u001b[0m\u001b[0mrequest\u001b[0m \u001b[1;32mimport\u001b[0m \u001b[0murlretrieve\u001b[0m\u001b[1;33m\u001b[0m\u001b[1;33m\u001b[0m\u001b[0m\n",
      "\u001b[1;32mc:\\Users\\matte\\anaconda3\\lib\\site-packages\\torchtext\\__init__.py\u001b[0m in \u001b[0;36m<module>\u001b[1;34m\u001b[0m\n\u001b[0;32m     16\u001b[0m \u001b[1;33m\u001b[0m\u001b[0m\n\u001b[0;32m     17\u001b[0m \u001b[1;31m# the following import has to happen first in order to load the torchtext C++ library\u001b[0m\u001b[1;33m\u001b[0m\u001b[1;33m\u001b[0m\u001b[0m\n\u001b[1;32m---> 18\u001b[1;33m \u001b[1;32mfrom\u001b[0m \u001b[0mtorchtext\u001b[0m \u001b[1;32mimport\u001b[0m \u001b[0m_extension\u001b[0m  \u001b[1;31m# noqa: F401\u001b[0m\u001b[1;33m\u001b[0m\u001b[1;33m\u001b[0m\u001b[0m\n\u001b[0m\u001b[0;32m     19\u001b[0m \u001b[1;33m\u001b[0m\u001b[0m\n\u001b[0;32m     20\u001b[0m \u001b[0m_TEXT_BUCKET\u001b[0m \u001b[1;33m=\u001b[0m \u001b[1;34m\"https://download.pytorch.org/models/text/\"\u001b[0m\u001b[1;33m\u001b[0m\u001b[1;33m\u001b[0m\u001b[0m\n",
      "\u001b[1;32mc:\\Users\\matte\\anaconda3\\lib\\site-packages\\torchtext\\_extension.py\u001b[0m in \u001b[0;36m<module>\u001b[1;34m\u001b[0m\n\u001b[0;32m     62\u001b[0m \u001b[1;33m\u001b[0m\u001b[0m\n\u001b[0;32m     63\u001b[0m \u001b[1;33m\u001b[0m\u001b[0m\n\u001b[1;32m---> 64\u001b[1;33m \u001b[0m_init_extension\u001b[0m\u001b[1;33m(\u001b[0m\u001b[1;33m)\u001b[0m\u001b[1;33m\u001b[0m\u001b[1;33m\u001b[0m\u001b[0m\n\u001b[0m",
      "\u001b[1;32mc:\\Users\\matte\\anaconda3\\lib\\site-packages\\torchtext\\_extension.py\u001b[0m in \u001b[0;36m_init_extension\u001b[1;34m()\u001b[0m\n\u001b[0;32m     56\u001b[0m         \u001b[1;32mraise\u001b[0m \u001b[0mImportError\u001b[0m\u001b[1;33m(\u001b[0m\u001b[1;34m\"torchtext C++ Extension is not found.\"\u001b[0m\u001b[1;33m)\u001b[0m\u001b[1;33m\u001b[0m\u001b[1;33m\u001b[0m\u001b[0m\n\u001b[0;32m     57\u001b[0m \u001b[1;33m\u001b[0m\u001b[0m\n\u001b[1;32m---> 58\u001b[1;33m     \u001b[0m_load_lib\u001b[0m\u001b[1;33m(\u001b[0m\u001b[1;34m\"libtorchtext\"\u001b[0m\u001b[1;33m)\u001b[0m\u001b[1;33m\u001b[0m\u001b[1;33m\u001b[0m\u001b[0m\n\u001b[0m\u001b[0;32m     59\u001b[0m     \u001b[1;31m# This import is for initializing the methods registered via PyBind11\u001b[0m\u001b[1;33m\u001b[0m\u001b[1;33m\u001b[0m\u001b[0m\n\u001b[0;32m     60\u001b[0m     \u001b[1;31m# This has to happen after the base library is loaded\u001b[0m\u001b[1;33m\u001b[0m\u001b[1;33m\u001b[0m\u001b[0m\n",
      "\u001b[1;32mc:\\Users\\matte\\anaconda3\\lib\\site-packages\\torchtext\\_extension.py\u001b[0m in \u001b[0;36m_load_lib\u001b[1;34m(lib)\u001b[0m\n\u001b[0;32m     48\u001b[0m     \u001b[1;32mif\u001b[0m \u001b[1;32mnot\u001b[0m \u001b[0mpath\u001b[0m\u001b[1;33m.\u001b[0m\u001b[0mexists\u001b[0m\u001b[1;33m(\u001b[0m\u001b[1;33m)\u001b[0m\u001b[1;33m:\u001b[0m\u001b[1;33m\u001b[0m\u001b[1;33m\u001b[0m\u001b[0m\n\u001b[0;32m     49\u001b[0m         \u001b[1;32mreturn\u001b[0m \u001b[1;32mFalse\u001b[0m\u001b[1;33m\u001b[0m\u001b[1;33m\u001b[0m\u001b[0m\n\u001b[1;32m---> 50\u001b[1;33m     \u001b[0mtorch\u001b[0m\u001b[1;33m.\u001b[0m\u001b[0mops\u001b[0m\u001b[1;33m.\u001b[0m\u001b[0mload_library\u001b[0m\u001b[1;33m(\u001b[0m\u001b[0mpath\u001b[0m\u001b[1;33m)\u001b[0m\u001b[1;33m\u001b[0m\u001b[1;33m\u001b[0m\u001b[0m\n\u001b[0m\u001b[0;32m     51\u001b[0m     \u001b[1;32mreturn\u001b[0m \u001b[1;32mTrue\u001b[0m\u001b[1;33m\u001b[0m\u001b[1;33m\u001b[0m\u001b[0m\n\u001b[0;32m     52\u001b[0m \u001b[1;33m\u001b[0m\u001b[0m\n",
      "\u001b[1;32mc:\\Users\\matte\\anaconda3\\lib\\site-packages\\torch\\_ops.py\u001b[0m in \u001b[0;36mload_library\u001b[1;34m(self, path)\u001b[0m\n\u001b[0;32m   1355\u001b[0m             \u001b[1;31m# static (global) initialization code in order to register custom\u001b[0m\u001b[1;33m\u001b[0m\u001b[1;33m\u001b[0m\u001b[0m\n\u001b[0;32m   1356\u001b[0m             \u001b[1;31m# operators with the JIT.\u001b[0m\u001b[1;33m\u001b[0m\u001b[1;33m\u001b[0m\u001b[0m\n\u001b[1;32m-> 1357\u001b[1;33m             \u001b[0mctypes\u001b[0m\u001b[1;33m.\u001b[0m\u001b[0mCDLL\u001b[0m\u001b[1;33m(\u001b[0m\u001b[0mpath\u001b[0m\u001b[1;33m)\u001b[0m\u001b[1;33m\u001b[0m\u001b[1;33m\u001b[0m\u001b[0m\n\u001b[0m\u001b[0;32m   1358\u001b[0m         \u001b[0mself\u001b[0m\u001b[1;33m.\u001b[0m\u001b[0mloaded_libraries\u001b[0m\u001b[1;33m.\u001b[0m\u001b[0madd\u001b[0m\u001b[1;33m(\u001b[0m\u001b[0mpath\u001b[0m\u001b[1;33m)\u001b[0m\u001b[1;33m\u001b[0m\u001b[1;33m\u001b[0m\u001b[0m\n\u001b[0;32m   1359\u001b[0m \u001b[1;33m\u001b[0m\u001b[0m\n",
      "\u001b[1;32mc:\\Users\\matte\\anaconda3\\lib\\ctypes\\__init__.py\u001b[0m in \u001b[0;36m__init__\u001b[1;34m(self, name, mode, handle, use_errno, use_last_error, winmode)\u001b[0m\n\u001b[0;32m    380\u001b[0m \u001b[1;33m\u001b[0m\u001b[0m\n\u001b[0;32m    381\u001b[0m         \u001b[1;32mif\u001b[0m \u001b[0mhandle\u001b[0m \u001b[1;32mis\u001b[0m \u001b[1;32mNone\u001b[0m\u001b[1;33m:\u001b[0m\u001b[1;33m\u001b[0m\u001b[1;33m\u001b[0m\u001b[0m\n\u001b[1;32m--> 382\u001b[1;33m             \u001b[0mself\u001b[0m\u001b[1;33m.\u001b[0m\u001b[0m_handle\u001b[0m \u001b[1;33m=\u001b[0m \u001b[0m_dlopen\u001b[0m\u001b[1;33m(\u001b[0m\u001b[0mself\u001b[0m\u001b[1;33m.\u001b[0m\u001b[0m_name\u001b[0m\u001b[1;33m,\u001b[0m \u001b[0mmode\u001b[0m\u001b[1;33m)\u001b[0m\u001b[1;33m\u001b[0m\u001b[1;33m\u001b[0m\u001b[0m\n\u001b[0m\u001b[0;32m    383\u001b[0m         \u001b[1;32melse\u001b[0m\u001b[1;33m:\u001b[0m\u001b[1;33m\u001b[0m\u001b[1;33m\u001b[0m\u001b[0m\n\u001b[0;32m    384\u001b[0m             \u001b[0mself\u001b[0m\u001b[1;33m.\u001b[0m\u001b[0m_handle\u001b[0m \u001b[1;33m=\u001b[0m \u001b[0mhandle\u001b[0m\u001b[1;33m\u001b[0m\u001b[1;33m\u001b[0m\u001b[0m\n",
      "\u001b[1;31mOSError\u001b[0m: [WinError 127] Impossibile trovare la procedura specificata"
     ]
    }
   ],
   "source": [
    "import deepmatcher as dm\n",
    "import torch\n",
    "import torchtext\n",
    "\n",
    "print(\"DeepMatcher, Torch, and TorchText are successfully imported.\")"
   ]
  },
  {
   "cell_type": "markdown",
   "metadata": {},
   "source": [
    "# **NON MI FUNZIONA PORCODIO**"
   ]
  },
  {
   "cell_type": "markdown",
   "metadata": {},
   "source": [
    "## **Proviamo con DITTO**\n",
    "# Installazione e Utilizzo di Ditto per il Record Linkage\n",
    "\n",
    "**Ditto** è una libreria Python semplice ed efficiente per il *record linkage* che permette di trovare e abbinare record simili da due dataset. In questa guida, mostreremo come installarla e usarla per eseguire il matching tra due dataset.\n",
    "\n",
    "## Installazione\n",
    "\n",
    "### 1. Installazione con pip\n",
    "\n",
    "Per installare Ditto, esegui il seguente comando:"
   ]
  },
  {
   "cell_type": "code",
   "execution_count": 11,
   "metadata": {},
   "outputs": [
    {
     "name": "stdout",
     "output_type": "stream",
     "text": [
      "Collecting ditto\n",
      "  Downloading ditto-1.2.4.tar.gz (12 kB)\n",
      "  Preparing metadata (setup.py): started\n",
      "  Preparing metadata (setup.py): finished with status 'done'\n",
      "Requirement already satisfied: PyHamcrest in c:\\users\\matte\\anaconda3\\lib\\site-packages (from ditto) (2.0.2)\n",
      "Building wheels for collected packages: ditto\n",
      "  Building wheel for ditto (setup.py): started\n",
      "  Building wheel for ditto (setup.py): finished with status 'done'\n",
      "  Created wheel for ditto: filename=ditto-1.2.4-py3-none-any.whl size=13921 sha256=9f34f9dbf6278989fe978f8c68980770ebafe020bd78b8bca16d1eeff1964797\n",
      "  Stored in directory: c:\\users\\matte\\appdata\\local\\pip\\cache\\wheels\\75\\e3\\03\\f60df6f0b06c9b3c2dec01af270c80cc0d1001648a899217b0\n",
      "Successfully built ditto\n",
      "Installing collected packages: ditto\n",
      "Successfully installed ditto-1.2.4\n"
     ]
    },
    {
     "name": "stderr",
     "output_type": "stream",
     "text": [
      "WARNING: Ignoring invalid distribution -orch (c:\\users\\matte\\anaconda3\\lib\\site-packages)\n",
      "WARNING: Ignoring invalid distribution -orch (c:\\users\\matte\\anaconda3\\lib\\site-packages)\n",
      "WARNING: Ignoring invalid distribution -orch (c:\\users\\matte\\anaconda3\\lib\\site-packages)\n"
     ]
    }
   ],
   "source": [
    "!pip install ditto"
   ]
  },
  {
   "cell_type": "code",
   "execution_count": 12,
   "metadata": {},
   "outputs": [],
   "source": [
    "import ditto"
   ]
  },
  {
   "cell_type": "code",
   "execution_count": 14,
   "metadata": {},
   "outputs": [
    {
     "ename": "AttributeError",
     "evalue": "module 'ditto' has no attribute 'DittoMatcher'",
     "output_type": "error",
     "traceback": [
      "\u001b[1;31m---------------------------------------------------------------------------\u001b[0m",
      "\u001b[1;31mAttributeError\u001b[0m                            Traceback (most recent call last)",
      "\u001b[1;32m~\\AppData\\Local\\Temp\\ipykernel_9748\\3730858087.py\u001b[0m in \u001b[0;36m<module>\u001b[1;34m\u001b[0m\n\u001b[0;32m     10\u001b[0m \u001b[1;33m\u001b[0m\u001b[0m\n\u001b[0;32m     11\u001b[0m \u001b[1;31m# Create DittoMatcher\u001b[0m\u001b[1;33m\u001b[0m\u001b[1;33m\u001b[0m\u001b[0m\n\u001b[1;32m---> 12\u001b[1;33m \u001b[0mmatcher\u001b[0m \u001b[1;33m=\u001b[0m \u001b[0mditto\u001b[0m\u001b[1;33m.\u001b[0m\u001b[0mDittoMatcher\u001b[0m\u001b[1;33m(\u001b[0m\u001b[1;33m)\u001b[0m\u001b[1;33m\u001b[0m\u001b[1;33m\u001b[0m\u001b[0m\n\u001b[0m\u001b[0;32m     13\u001b[0m \u001b[1;33m\u001b[0m\u001b[0m\n\u001b[0;32m     14\u001b[0m \u001b[1;31m# Perform matching on the dataset (same dataset as both arguments)\u001b[0m\u001b[1;33m\u001b[0m\u001b[1;33m\u001b[0m\u001b[0m\n",
      "\u001b[1;31mAttributeError\u001b[0m: module 'ditto' has no attribute 'DittoMatcher'"
     ]
    }
   ],
   "source": [
    "import ditto\n",
    "\n",
    "# Define dataset\n",
    "dataset = [\n",
    "    {\"id\": 1, \"name\": \"Company A\", \"city\": \"New York\"},\n",
    "    {\"id\": 2, \"name\": \"Company A\", \"city\": \"New York\"},\n",
    "    {\"id\": 3, \"name\": \"Company B\", \"city\": \"San Francisco\"},\n",
    "    {\"id\": 4, \"name\": \"Company C\", \"city\": \"Chicago\"}\n",
    "]\n",
    "\n",
    "# Create DittoMatcher\n",
    "matcher = ditto.DittoMatcher()\n",
    "\n",
    "# Perform matching on the dataset (same dataset as both arguments)\n",
    "matches = matcher.match(dataset, dataset)\n",
    "\n",
    "# Display results\n",
    "for match in matches:\n",
    "    print(match)\n"
   ]
  }
 ],
 "metadata": {
  "kernelspec": {
   "display_name": "base",
   "language": "python",
   "name": "python3"
  },
  "language_info": {
   "codemirror_mode": {
    "name": "ipython",
    "version": 3
   },
   "file_extension": ".py",
   "mimetype": "text/x-python",
   "name": "python",
   "nbconvert_exporter": "python",
   "pygments_lexer": "ipython3",
   "version": "3.9.13"
  }
 },
 "nbformat": 4,
 "nbformat_minor": 2
}
