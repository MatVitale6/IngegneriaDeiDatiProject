{
 "cells": [
  {
   "cell_type": "markdown",
   "metadata": {},
   "source": [
    "<h2>Some test with GeoPy and the data from Flex Matcher</h2>"
   ]
  },
  {
   "cell_type": "code",
   "execution_count": 16,
   "metadata": {},
   "outputs": [
    {
     "name": "stderr",
     "output_type": "stream",
     "text": [
      "C:\\Users\\matte\\AppData\\Local\\Temp\\ipykernel_5700\\2893365244.py:3: DtypeWarning: Columns (0,12,13,15,17,18) have mixed types. Specify dtype option on import or set low_memory=False.\n",
      "  df = pd.read_csv(r\"..\\flex_matcher\\merged_companies.csv\")\n"
     ]
    },
    {
     "name": "stdout",
     "output_type": "stream",
     "text": [
      "  address                                  city country  \\\n",
      "0     NaN              Mumbai Maharashtra India     NaN   \n",
      "1     NaN                        Dublin Ireland     NaN   \n",
      "2     NaN  Teaneck New Jersey United States USA     NaN   \n",
      "3     NaN              Mumbai Maharashtra India     NaN   \n",
      "4     NaN              Mumbai Maharashtra India     NaN   \n",
      "\n",
      "                           full_address  \n",
      "0              Mumbai Maharashtra India  \n",
      "1                        Dublin Ireland  \n",
      "2  Teaneck New Jersey United States USA  \n",
      "3              Mumbai Maharashtra India  \n",
      "4              Mumbai Maharashtra India  \n"
     ]
    }
   ],
   "source": [
    "import pandas as pd\n",
    "\n",
    "df = pd.read_csv(r\"..\\flex_matcher\\merged_companies.csv\")\n",
    "\n",
    "df[\"city\"] = df[\"city\"].str.replace(r\"[.,()]\", \"\", regex=True)  \n",
    "\n",
    "df[\"full_address\"] = df[\"address\"].fillna('') + \" \" + df[\"city\"].fillna('') + \" \" + df[\"country\"].fillna('')\n",
    "\n",
    "df[\"full_address\"] = df[\"full_address\"].str.replace(r\"\\s+\", \" \", regex=True) \n",
    "df[\"full_address\"] = df[\"full_address\"].str.strip()\n",
    "\n",
    "print(df[[\"address\", \"city\", \"country\", \"full_address\"]].head())\n",
    "\n",
    "df_subset = df.head(200)\n",
    "\n"
   ]
  },
  {
   "cell_type": "code",
   "execution_count": 18,
   "metadata": {},
   "outputs": [
    {
     "name": "stdout",
     "output_type": "stream",
     "text": [
      "    address                    category                                  city  \\\n",
      "0       NaN    IT Services & Consulting              Mumbai Maharashtra India   \n",
      "1       NaN    IT Services & Consulting                        Dublin Ireland   \n",
      "2       NaN    IT Services & Consulting  Teaneck New Jersey United States USA   \n",
      "3       NaN                     Banking              Mumbai Maharashtra India   \n",
      "4       NaN                     Banking              Mumbai Maharashtra India   \n",
      "..      ...                         ...                                   ...   \n",
      "195     NaN  Engineering & Construction             Kolkata West Bengal India   \n",
      "196     NaN                      Pharma              Mumbai Maharashtra India   \n",
      "197     NaN                  Automobile        Gurgaon/Gurugram Haryana India   \n",
      "198     NaN    IT Services & Consulting   VilniusVilniaus Apskritis Lithuania   \n",
      "199     NaN                   Logistics   Bangalore/Bengaluru Karnataka India   \n",
      "\n",
      "    country employees founded     fundation_year investors link market_cap  \\\n",
      "0       NaN       NaN     NaN  1968 (55 yrs old)       NaN  NaN        NaN   \n",
      "1       NaN       NaN     NaN  1989 (34 yrs old)       NaN  NaN        NaN   \n",
      "2       NaN       NaN     NaN  1994 (29 yrs old)       NaN  NaN        NaN   \n",
      "3       NaN       NaN     NaN  1994 (29 yrs old)       NaN  NaN        NaN   \n",
      "4       NaN       NaN     NaN  1994 (29 yrs old)       NaN  NaN        NaN   \n",
      "..      ...       ...     ...                ...       ...  ...        ...   \n",
      "195     NaN       NaN     NaN  1924 (99 yrs old)       NaN  NaN        NaN   \n",
      "196     NaN       NaN     NaN  1949 (74 yrs old)       NaN  NaN        NaN   \n",
      "197     NaN       NaN     NaN  1999 (24 yrs old)       NaN  NaN        NaN   \n",
      "198     NaN       NaN     NaN  1997 (26 yrs old)       NaN  NaN        NaN   \n",
      "199     NaN       NaN     NaN  1990 (33 yrs old)       NaN  NaN        NaN   \n",
      "\n",
      "     ... satus stage telephone total_raised type unnamed valuation  \\\n",
      "0    ...   NaN   NaN       NaN          NaN  NaN     NaN       NaN   \n",
      "1    ...   NaN   NaN       NaN          NaN  NaN     NaN       NaN   \n",
      "2    ...   NaN   NaN       NaN          NaN  NaN     NaN       NaN   \n",
      "3    ...   NaN   NaN       NaN          NaN  NaN     NaN       NaN   \n",
      "4    ...   NaN   NaN       NaN          NaN  NaN     NaN       NaN   \n",
      "..   ...   ...   ...       ...          ...  ...     ...       ...   \n",
      "195  ...   NaN   NaN       NaN          NaN  NaN     NaN       NaN   \n",
      "196  ...   NaN   NaN       NaN          NaN  NaN     NaN       NaN   \n",
      "197  ...   NaN   NaN       NaN          NaN  NaN     NaN       NaN   \n",
      "198  ...   NaN   NaN       NaN          NaN  NaN     NaN       NaN   \n",
      "199  ...   NaN   NaN       NaN          NaN  NaN     NaN       NaN   \n",
      "\n",
      "                             full_address   latitude  longitude  \n",
      "0                Mumbai Maharashtra India  19.090153  72.863713  \n",
      "1                          Dublin Ireland  53.349379  -6.260559  \n",
      "2    Teaneck New Jersey United States USA        NaN        NaN  \n",
      "3                Mumbai Maharashtra India  19.090153  72.863713  \n",
      "4                Mumbai Maharashtra India  19.090153  72.863713  \n",
      "..                                    ...        ...        ...  \n",
      "195             Kolkata West Bengal India  22.572646  88.363895  \n",
      "196              Mumbai Maharashtra India  19.090153  72.863713  \n",
      "197        Gurgaon/Gurugram Haryana India  28.489101  77.011193  \n",
      "198   VilniusVilniaus Apskritis Lithuania        NaN        NaN  \n",
      "199   Bangalore/Bengaluru Karnataka India  12.988157  77.622600  \n",
      "\n",
      "[200 rows x 23 columns]\n",
      "(200, 23)\n"
     ]
    },
    {
     "name": "stderr",
     "output_type": "stream",
     "text": [
      "C:\\Users\\matte\\AppData\\Local\\Temp\\ipykernel_5700\\2834182431.py:17: SettingWithCopyWarning: \n",
      "A value is trying to be set on a copy of a slice from a DataFrame.\n",
      "Try using .loc[row_indexer,col_indexer] = value instead\n",
      "\n",
      "See the caveats in the documentation: https://pandas.pydata.org/pandas-docs/stable/user_guide/indexing.html#returning-a-view-versus-a-copy\n",
      "  df_subset[[\"latitude\", \"longitude\"]] = df_subset[\"full_address\"].apply(get_coordinates)\n"
     ]
    }
   ],
   "source": [
    "from geopy.geocoders import Nominatim\n",
    "from geopy.exc import GeocoderTimedOut\n",
    "import time\n",
    "\n",
    "geolocator = Nominatim(user_agent=\"my_geocoder\")\n",
    "\n",
    "def get_coordinates(address):\n",
    "    try:\n",
    "        location = geolocator.geocode(address, timeout=10)\n",
    "        if location:\n",
    "            return pd.Series([location.latitude, location.longitude])\n",
    "    except GeocoderTimedOut:\n",
    "        time.sleep(1)\n",
    "        return get_coordinates(address)\n",
    "    return pd.Series([None, None])\n",
    "\n",
    "df_subset[[\"latitude\", \"longitude\"]] = df_subset[\"full_address\"].apply(get_coordinates)\n",
    "\n",
    "df_subset.to_csv(\"subset_with_coordinates.csv\", index=False)\n",
    "\n",
    "print(df_subset)\n",
    "print(df_subset.shape)\n"
   ]
  },
  {
   "cell_type": "code",
   "execution_count": null,
   "metadata": {},
   "outputs": [
    {
     "name": "stdout",
     "output_type": "stream",
     "text": [
      "    latitude  longitude  address                  category  \\\n",
      "0   8.488227  76.947551      NaN                      NBFC   \n",
      "1   9.871099  76.278277      NaN                      NBFC   \n",
      "2  10.516140  76.208462      NaN                      NBFC   \n",
      "3  12.988157  77.622600      NaN  IT Services & Consulting   \n",
      "4  13.083694  80.270186      NaN                Automobile   \n",
      "\n",
      "                                         city  country  employees  founded  \\\n",
      "0  Trivandrum/Thiruvananthapuram Kerala India      NaN        NaN      NaN   \n",
      "1                   Kochi/Cochin Kerala India      NaN        NaN      NaN   \n",
      "2               Thrissur/Trichur Kerala India      NaN        NaN      NaN   \n",
      "3         Bangalore/Bengaluru Karnataka India      NaN        NaN      NaN   \n",
      "4                    Chennai Tamil Nadu India      NaN        NaN      NaN   \n",
      "\n",
      "       fundation_year  investors  ...  ownership  revenue satus stage  \\\n",
      "0  1887 (136 yrs old)        NaN  ...    Private      NaN   NaN   NaN   \n",
      "1   1939 (84 yrs old)        NaN  ...     Public      NaN   NaN   NaN   \n",
      "2   1949 (74 yrs old)        NaN  ...     Public      NaN   NaN   NaN   \n",
      "3   1945 (78 yrs old)        NaN  ...     Public      NaN   NaN   NaN   \n",
      "4   1948 (75 yrs old)        NaN  ...     Public      NaN   NaN   NaN   \n",
      "\n",
      "   telephone  total_raised  type  unnamed  valuation  \\\n",
      "0        NaN           NaN   NaN      NaN        NaN   \n",
      "1        NaN           NaN   NaN      NaN        NaN   \n",
      "2        NaN           NaN   NaN      NaN        NaN   \n",
      "3        NaN           NaN   NaN      NaN        NaN   \n",
      "4        NaN           NaN   NaN      NaN        NaN   \n",
      "\n",
      "                                 full_address  \n",
      "0  Trivandrum/Thiruvananthapuram Kerala India  \n",
      "1                   Kochi/Cochin Kerala India  \n",
      "2               Thrissur/Trichur Kerala India  \n",
      "3         Bangalore/Bengaluru Karnataka India  \n",
      "4                    Chennai Tamil Nadu India  \n",
      "\n",
      "[5 rows x 23 columns]\n"
     ]
    }
   ],
   "source": [
    "df = pd.read_csv('subset_with_coordinates.csv')\n",
    "\n",
    "df_linked = df.groupby(['latitude', 'longitude'], as_index=False).agg({\n",
    "    'address': 'first',\n",
    "    'category': 'first',\n",
    "    'city': 'first',\n",
    "    'country': 'first',\n",
    "    'employees': 'first',\n",
    "    'founded': 'first',\n",
    "    'fundation_year': 'first',\n",
    "    'investors': 'first',\n",
    "    'link': 'first',\n",
    "    'market_cap': 'first',\n",
    "    'name': 'first',\n",
    "    'ownership': 'first',\n",
    "    'revenue': 'first',\n",
    "    'satus': 'first',\n",
    "    'stage': 'first',\n",
    "    'telephone': 'first',\n",
    "    'total_raised': 'first',\n",
    "    'type': 'first',\n",
    "    'unnamed': 'first',\n",
    "    'valuation': 'first',\n",
    "    'full_address': 'first',\n",
    "})\n",
    "#sicuramente questo approccio di first non è il migliore, ma testing vabene\n",
    "#questa operazione di match viene affrontata bene nel record linkage\n",
    "\n",
    "df_linked.to_csv('linked_subset.csv', index=False)\n",
    "\n",
    "print(df_linked.head())\n",
    "\n",
    "#Ordina il csv generato nel precedente step per vedere se ci ha preso!\n"
   ]
  },
  {
   "cell_type": "code",
   "execution_count": null,
   "metadata": {},
   "outputs": [],
   "source": []
  }
 ],
 "metadata": {
  "kernelspec": {
   "display_name": "base",
   "language": "python",
   "name": "python3"
  },
  "language_info": {
   "codemirror_mode": {
    "name": "ipython",
    "version": 3
   },
   "file_extension": ".py",
   "mimetype": "text/x-python",
   "name": "python",
   "nbconvert_exporter": "python",
   "pygments_lexer": "ipython3",
   "version": "3.9.13"
  }
 },
 "nbformat": 4,
 "nbformat_minor": 2
}
