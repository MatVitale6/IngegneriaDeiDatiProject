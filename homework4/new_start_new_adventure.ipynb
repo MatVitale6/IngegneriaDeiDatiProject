{
 "cells": [
  {
   "cell_type": "markdown",
   "metadata": {},
   "source": [
    "1) https://arxiv.org/pdf/2407.18219\n",
    "2) https://arxiv.org/pdf/2407.18219\n",
    "3) https://arxiv.org/pdf/2304.04370\n",
    "4) https://arxiv.org/pdf/2309.11436 \n",
    "5) https://arxiv.org/pdf/2310.01218\n",
    "6) https://arxiv.org/pdf/2310.01444\n",
    "7) https://arxiv.org/pdf/2307.07924\n",
    "8) https://arxiv.org/pdf/2310.03903\n",
    "9) https://arxiv.org/pdf/2308.12519\n",
    "10)https://arxiv.org/pdf/2309.10062"
   ]
  },
  {
   "cell_type": "code",
   "execution_count": null,
   "metadata": {},
   "outputs": [],
   "source": [
    "# Extract claims from the provided table data from \n",
    "# 2309.11436\n",
    "table_data1 = {\n",
    "    \"caption\": \" Table 1: Dataset statistics.\",\n",
    "    \"table\": [\n",
    "        [\n",
    "            \"<td class=\\\"ltx_td ltx_align_left\\\" id=\\\"S4.T1.1.3.2.1\\\" style=\\\"padding-left:2.0pt;padding-right:2.0pt;\\\">\\n        Install\\n       </td>\\n       \",\n",
    "            \"<td class=\\\"ltx_td ltx_align_left\\\" id=\\\"S4.T1.1.3.2.2\\\" style=\\\"padding-left:2.0pt;padding-right:2.0pt;\\\">\\n        25,760\\n       </td>\\n       \",\n",
    "            \"<td class=\\\"ltx_td ltx_align_left\\\" id=\\\"S4.T1.1.3.2.3\\\" style=\\\"padding-left:2.0pt;padding-right:2.0pt;\\\">\\n        250,058\\n       </td>\\n       \",\n",
    "            \"<td class=\\\"ltx_td ltx_align_center\\\" id=\\\"S4.T1.1.3.2.4\\\" style=\\\"padding-left:2.0pt;padding-right:2.0pt;\\\">\\n        688\\n       </td>\\n      \"\n",
    "        ],\n",
    "        [\n",
    "            \"<td class=\\\"ltx_td ltx_align_left\\\" id=\\\"S4.T1.1.4.3.1\\\" style=\\\"padding-left:2.0pt;padding-right:2.0pt;\\\">\\n        GoogleApps\\n       </td>\\n       \",\n",
    "            \"<td class=\\\"ltx_td ltx_align_left\\\" id=\\\"S4.T1.1.4.3.2\\\" style=\\\"padding-left:2.0pt;padding-right:2.0pt;\\\">\\n        625,542\\n       </td>\\n       \",\n",
    "            \"<td class=\\\"ltx_td ltx_align_left\\\" id=\\\"S4.T1.1.4.3.3\\\" style=\\\"padding-left:2.0pt;padding-right:2.0pt;\\\">\\n        4,903,601\\n       </td>\\n       \",\n",
    "            \"<td class=\\\"ltx_td ltx_align_center\\\" id=\\\"S4.T1.1.4.3.4\\\" style=\\\"padding-left:2.0pt;padding-right:2.0pt;\\\">\\n        306\\n       </td>\\n      \"\n",
    "        ],\n",
    "        [\n",
    "            \"<td class=\\\"ltx_td ltx_align_left\\\" id=\\\"S4.T1.1.5.4.1\\\" style=\\\"padding-left:2.0pt;padding-right:2.0pt;\\\">\\n        Single\\n       </td>\\n       \",\n",
    "            \"<td class=\\\"ltx_td ltx_align_left\\\" id=\\\"S4.T1.1.5.4.2\\\" style=\\\"padding-left:2.0pt;padding-right:2.0pt;\\\">\\n        26,303\\n       </td>\\n       \",\n",
    "            \"<td class=\\\"ltx_td ltx_align_left\\\" id=\\\"S4.T1.1.5.4.3\\\" style=\\\"padding-left:2.0pt;padding-right:2.0pt;\\\">\\n        85,668\\n       </td>\\n       \",\n",
    "            \"<td class=\\\"ltx_td ltx_align_center\\\" id=\\\"S4.T1.1.5.4.4\\\" style=\\\"padding-left:2.0pt;padding-right:2.0pt;\\\">\\n        15,366\\n       </td>\\n      \"\n",
    "        ],\n",
    "        [\n",
    "            \"<td class=\\\"ltx_td ltx_align_left ltx_border_bb\\\" id=\\\"S4.T1.1.6.5.1\\\" style=\\\"padding-left:2.0pt;padding-right:2.0pt;\\\">\\n        WebShopping\\n       </td>\\n       \",\n",
    "            \"<td class=\\\"ltx_td ltx_align_left ltx_border_bb\\\" id=\\\"S4.T1.1.6.5.2\\\" style=\\\"padding-left:2.0pt;padding-right:2.0pt;\\\">\\n        28,061\\n       </td>\\n       \",\n",
    "            \"<td class=\\\"ltx_td ltx_align_left ltx_border_bb\\\" id=\\\"S4.T1.1.6.5.3\\\" style=\\\"padding-left:2.0pt;padding-right:2.0pt;\\\">\\n        365,253\\n       </td>\\n       \",\n",
    "            \"<td class=\\\"ltx_td ltx_align_center ltx_border_bb\\\" id=\\\"S4.T1.1.6.5.4\\\" style=\\\"padding-left:2.0pt;padding-right:2.0pt;\\\">\\n        13,473\\n       </td>\\n      \"\n",
    "        ]\n",
    "    ],\n",
    "    \"footnotes\": [],\n",
    "    \"references\": [\n",
    "        \"There are five subsets in the benchmark dataset, namely, General, Install, GoogleApps, Single, and WebShopping. Table                  1                presents the data statistics. Each subset is split episode-wise into a training, validation, and test set (80/10/10%).\"\n",
    "    ]\n",
    "}"
   ]
  },
  {
   "cell_type": "code",
   "execution_count": 1,
   "metadata": {},
   "outputs": [
    {
     "name": "stdout",
     "output_type": "stream",
     "text": [
      "{|Install|, |25,760|, |250,058|}, Count, 688\n",
      "{|GoogleApps|, |625,542|, |4,903,601|}, Count, 306\n",
      "{|Single|, |26,303|, |85,668|}, Count, 15,366\n",
      "{|WebShopping|, |28,061|, |365,253|}, Count, 13,473\n"
     ]
    }
   ],
   "source": [
    "def extract_claims(table_data1):\n",
    "    claims = []\n",
    "    for row in table_data['table']:\n",
    "        specification = []\n",
    "        for cell in row:\n",
    "            cell_content = cell.split('>')[1].split('<')[0].strip()\n",
    "            specification.append(cell_content)\n",
    "        measure = \"Count\"\n",
    "        outcome = specification[-1]\n",
    "        specification = specification[:-1]\n",
    "        specification_str = \", \".join([f\"|{spec}|\" for spec in specification])\n",
    "        claim = f\"{{{specification_str}}}, {measure}, {outcome}\"\n",
    "        claims.append(claim)\n",
    "    return claims\n",
    "    "
   ]
  },
  {
   "cell_type": "markdown",
   "metadata": {},
   "source": [
    "#porcodio nella tabella estratta da noi mancano dei pezzi, tipo il <thead>!"
   ]
  },
  {
   "cell_type": "code",
   "execution_count": 10,
   "metadata": {},
   "outputs": [],
   "source": [
    "# Extract claims from the provided table data from \n",
    "# 2310.03903\n",
    "table_data2 ={\n",
    "        \"caption\": \" Table 1: Comparison of game play between self-play baselines (PPO, and PBT) and LLM-Co Agents. LLM-Co agents outperform RL methods on 4 out of 5 layouts, demonstrating highly effective reasoning under sustained coordination.\",\n",
    "        \"table\": [\n",
    "            [\n",
    "                \"<td class=\\\"ltx_td ltx_align_center\\\" id=\\\"S5.T1.7.7.7.1\\\">\\n          <math alttext=\\\"216.9\\\\pm 1.31\\\" class=\\\"ltx_Math\\\" display=\\\"inline\\\" id=\\\"S5.T1.7.7.7.1.m1.1\\\">\\n           <semantics id=\\\"S5.T1.7.7.7.1.m1.1a\\\">\\n            <mrow id=\\\"S5.T1.7.7.7.1.m1.1.1\\\" xref=\\\"S5.T1.7.7.7.1.m1.1.1.cmml\\\">\\n             <mn id=\\\"S5.T1.7.7.7.1.m1.1.1.2\\\" xref=\\\"S5.T1.7.7.7.1.m1.1.1.2.cmml\\\">\\n              216.9\\n             </mn>\\n             <mo id=\\\"S5.T1.7.7.7.1.m1.1.1.1\\\" xref=\\\"S5.T1.7.7.7.1.m1.1.1.1.cmml\\\">\\n              ±\\n             </mo>\\n             <mn id=\\\"S5.T1.7.7.7.1.m1.1.1.3\\\" xref=\\\"S5.T1.7.7.7.1.m1.1.1.3.cmml\\\">\\n              1.31\\n             </mn>\\n            </mrow>\\n            <annotation-xml encoding=\\\"MathML-Content\\\" id=\\\"S5.T1.7.7.7.1.m1.1b\\\">\\n             <apply id=\\\"S5.T1.7.7.7.1.m1.1.1.cmml\\\" xref=\\\"S5.T1.7.7.7.1.m1.1.1\\\">\\n              <csymbol cd=\\\"latexml\\\" id=\\\"S5.T1.7.7.7.1.m1.1.1.1.cmml\\\" xref=\\\"S5.T1.7.7.7.1.m1.1.1.1\\\">\\n               plus-or-minus\\n              </csymbol>\\n              <cn id=\\\"S5.T1.7.7.7.1.m1.1.1.2.cmml\\\" type=\\\"float\\\" xref=\\\"S5.T1.7.7.7.1.m1.1.1.2\\\">\\n               216.9\\n              </cn>\\n              <cn id=\\\"S5.T1.7.7.7.1.m1.1.1.3.cmml\\\" type=\\\"float\\\" xref=\\\"S5.T1.7.7.7.1.m1.1.1.3\\\">\\n               1.31\\n              </cn>\\n             </apply>\\n            </annotation-xml>\\n            <annotation encoding=\\\"application/x-tex\\\" id=\\\"S5.T1.7.7.7.1.m1.1c\\\">\\n             216.9\\\\pm 1.31\\n            </annotation>\\n           </semantics>\\n          </math>\\n         </td>\\n         \",\n",
    "                \"<td class=\\\"ltx_td ltx_align_center\\\" id=\\\"S5.T1.8.8.8.2\\\">\\n          <math alttext=\\\"190.1\\\\pm 8.64\\\" class=\\\"ltx_Math\\\" display=\\\"inline\\\" id=\\\"S5.T1.8.8.8.2.m1.1\\\">\\n           <semantics id=\\\"S5.T1.8.8.8.2.m1.1a\\\">\\n            <mrow id=\\\"S5.T1.8.8.8.2.m1.1.1\\\" xref=\\\"S5.T1.8.8.8.2.m1.1.1.cmml\\\">\\n             <mn id=\\\"S5.T1.8.8.8.2.m1.1.1.2\\\" xref=\\\"S5.T1.8.8.8.2.m1.1.1.2.cmml\\\">\\n              190.1\\n             </mn>\\n             <mo id=\\\"S5.T1.8.8.8.2.m1.1.1.1\\\" xref=\\\"S5.T1.8.8.8.2.m1.1.1.1.cmml\\\">\\n              ±\\n             </mo>\\n             <mn id=\\\"S5.T1.8.8.8.2.m1.1.1.3\\\" xref=\\\"S5.T1.8.8.8.2.m1.1.1.3.cmml\\\">\\n              8.64\\n             </mn>\\n            </mrow>\\n            <annotation-xml encoding=\\\"MathML-Content\\\" id=\\\"S5.T1.8.8.8.2.m1.1b\\\">\\n             <apply id=\\\"S5.T1.8.8.8.2.m1.1.1.cmml\\\" xref=\\\"S5.T1.8.8.8.2.m1.1.1\\\">\\n              <csymbol cd=\\\"latexml\\\" id=\\\"S5.T1.8.8.8.2.m1.1.1.1.cmml\\\" xref=\\\"S5.T1.8.8.8.2.m1.1.1.1\\\">\\n               plus-or-minus\\n              </csymbol>\\n              <cn id=\\\"S5.T1.8.8.8.2.m1.1.1.2.cmml\\\" type=\\\"float\\\" xref=\\\"S5.T1.8.8.8.2.m1.1.1.2\\\">\\n               190.1\\n              </cn>\\n              <cn id=\\\"S5.T1.8.8.8.2.m1.1.1.3.cmml\\\" type=\\\"float\\\" xref=\\\"S5.T1.8.8.8.2.m1.1.1.3\\\">\\n               8.64\\n              </cn>\\n             </apply>\\n            </annotation-xml>\\n            <annotation encoding=\\\"application/x-tex\\\" id=\\\"S5.T1.8.8.8.2.m1.1c\\\">\\n             190.1\\\\pm 8.64\\n            </annotation>\\n           </semantics>\\n          </math>\\n         </td>\\n         \",\n",
    "                \"<td class=\\\"ltx_td ltx_align_center\\\" id=\\\"S5.T1.9.9.9.3\\\">\\n          <math alttext=\\\"173.8\\\\pm 18.27\\\" class=\\\"ltx_Math\\\" display=\\\"inline\\\" id=\\\"S5.T1.9.9.9.3.m1.1\\\">\\n           <semantics id=\\\"S5.T1.9.9.9.3.m1.1a\\\">\\n            <mrow id=\\\"S5.T1.9.9.9.3.m1.1.1\\\" xref=\\\"S5.T1.9.9.9.3.m1.1.1.cmml\\\">\\n             <mn id=\\\"S5.T1.9.9.9.3.m1.1.1.2\\\" xref=\\\"S5.T1.9.9.9.3.m1.1.1.2.cmml\\\">\\n              173.8\\n             </mn>\\n             <mo id=\\\"S5.T1.9.9.9.3.m1.1.1.1\\\" xref=\\\"S5.T1.9.9.9.3.m1.1.1.1.cmml\\\">\\n              ±\\n             </mo>\\n             <mn id=\\\"S5.T1.9.9.9.3.m1.1.1.3\\\" xref=\\\"S5.T1.9.9.9.3.m1.1.1.3.cmml\\\">\\n              18.27\\n             </mn>\\n            </mrow>\\n            <annotation-xml encoding=\\\"MathML-Content\\\" id=\\\"S5.T1.9.9.9.3.m1.1b\\\">\\n             <apply id=\\\"S5.T1.9.9.9.3.m1.1.1.cmml\\\" xref=\\\"S5.T1.9.9.9.3.m1.1.1\\\">\\n              <csymbol cd=\\\"latexml\\\" id=\\\"S5.T1.9.9.9.3.m1.1.1.1.cmml\\\" xref=\\\"S5.T1.9.9.9.3.m1.1.1.1\\\">\\n               plus-or-minus\\n              </csymbol>\\n              <cn id=\\\"S5.T1.9.9.9.3.m1.1.1.2.cmml\\\" type=\\\"float\\\" xref=\\\"S5.T1.9.9.9.3.m1.1.1.2\\\">\\n               173.8\\n              </cn>\\n              <cn id=\\\"S5.T1.9.9.9.3.m1.1.1.3.cmml\\\" type=\\\"float\\\" xref=\\\"S5.T1.9.9.9.3.m1.1.1.3\\\">\\n               18.27\\n              </cn>\\n             </apply>\\n            </annotation-xml>\\n            <annotation encoding=\\\"application/x-tex\\\" id=\\\"S5.T1.9.9.9.3.m1.1c\\\">\\n             173.8\\\\pm 18.27\\n            </annotation>\\n           </semantics>\\n          </math>\\n         </td>\\n         \",\n",
    "                \"<td class=\\\"ltx_td ltx_align_center\\\" id=\\\"S5.T1.10.10.10.4\\\">\\n          <math alttext=\\\"169.5\\\\pm 10.09\\\" class=\\\"ltx_Math\\\" display=\\\"inline\\\" id=\\\"S5.T1.10.10.10.4.m1.1\\\">\\n           <semantics id=\\\"S5.T1.10.10.10.4.m1.1a\\\">\\n            <mrow id=\\\"S5.T1.10.10.10.4.m1.1.1\\\" xref=\\\"S5.T1.10.10.10.4.m1.1.1.cmml\\\">\\n             <mn id=\\\"S5.T1.10.10.10.4.m1.1.1.2\\\" xref=\\\"S5.T1.10.10.10.4.m1.1.1.2.cmml\\\">\\n              169.5\\n             </mn>\\n             <mo id=\\\"S5.T1.10.10.10.4.m1.1.1.1\\\" xref=\\\"S5.T1.10.10.10.4.m1.1.1.1.cmml\\\">\\n              ±\\n             </mo>\\n             <mn id=\\\"S5.T1.10.10.10.4.m1.1.1.3\\\" xref=\\\"S5.T1.10.10.10.4.m1.1.1.3.cmml\\\">\\n              10.09\\n             </mn>\\n            </mrow>\\n            <annotation-xml encoding=\\\"MathML-Content\\\" id=\\\"S5.T1.10.10.10.4.m1.1b\\\">\\n             <apply id=\\\"S5.T1.10.10.10.4.m1.1.1.cmml\\\" xref=\\\"S5.T1.10.10.10.4.m1.1.1\\\">\\n              <csymbol cd=\\\"latexml\\\" id=\\\"S5.T1.10.10.10.4.m1.1.1.1.cmml\\\" xref=\\\"S5.T1.10.10.10.4.m1.1.1.1\\\">\\n               plus-or-minus\\n              </csymbol>\\n              <cn id=\\\"S5.T1.10.10.10.4.m1.1.1.2.cmml\\\" type=\\\"float\\\" xref=\\\"S5.T1.10.10.10.4.m1.1.1.2\\\">\\n               169.5\\n              </cn>\\n              <cn id=\\\"S5.T1.10.10.10.4.m1.1.1.3.cmml\\\" type=\\\"float\\\" xref=\\\"S5.T1.10.10.10.4.m1.1.1.3\\\">\\n               10.09\\n              </cn>\\n             </apply>\\n            </annotation-xml>\\n            <annotation encoding=\\\"application/x-tex\\\" id=\\\"S5.T1.10.10.10.4.m1.1c\\\">\\n             169.5\\\\pm 10.09\\n            </annotation>\\n           </semantics>\\n          </math>\\n         </td>\\n         \",\n",
    "                \"<td class=\\\"ltx_td ltx_align_center\\\" id=\\\"S5.T1.11.11.11.5\\\">\\n          <math alttext=\\\"140.1\\\\pm 13.86\\\" class=\\\"ltx_Math\\\" display=\\\"inline\\\" id=\\\"S5.T1.11.11.11.5.m1.1\\\">\\n           <semantics id=\\\"S5.T1.11.11.11.5.m1.1a\\\">\\n            <mrow id=\\\"S5.T1.11.11.11.5.m1.1.1\\\" xref=\\\"S5.T1.11.11.11.5.m1.1.1.cmml\\\">\\n             <mn id=\\\"S5.T1.11.11.11.5.m1.1.1.2\\\" xref=\\\"S5.T1.11.11.11.5.m1.1.1.2.cmml\\\">\\n              140.1\\n             </mn>\\n             <mo id=\\\"S5.T1.11.11.11.5.m1.1.1.1\\\" xref=\\\"S5.T1.11.11.11.5.m1.1.1.1.cmml\\\">\\n              ±\\n             </mo>\\n             <mn id=\\\"S5.T1.11.11.11.5.m1.1.1.3\\\" xref=\\\"S5.T1.11.11.11.5.m1.1.1.3.cmml\\\">\\n              13.86\\n             </mn>\\n            </mrow>\\n            <annotation-xml encoding=\\\"MathML-Content\\\" id=\\\"S5.T1.11.11.11.5.m1.1b\\\">\\n             <apply id=\\\"S5.T1.11.11.11.5.m1.1.1.cmml\\\" xref=\\\"S5.T1.11.11.11.5.m1.1.1\\\">\\n              <csymbol cd=\\\"latexml\\\" id=\\\"S5.T1.11.11.11.5.m1.1.1.1.cmml\\\" xref=\\\"S5.T1.11.11.11.5.m1.1.1.1\\\">\\n               plus-or-minus\\n              </csymbol>\\n              <cn id=\\\"S5.T1.11.11.11.5.m1.1.1.2.cmml\\\" type=\\\"float\\\" xref=\\\"S5.T1.11.11.11.5.m1.1.1.2\\\">\\n               140.1\\n              </cn>\\n              <cn id=\\\"S5.T1.11.11.11.5.m1.1.1.3.cmml\\\" type=\\\"float\\\" xref=\\\"S5.T1.11.11.11.5.m1.1.1.3\\\">\\n               13.86\\n              </cn>\\n             </apply>\\n            </annotation-xml>\\n            <annotation encoding=\\\"application/x-tex\\\" id=\\\"S5.T1.11.11.11.5.m1.1c\\\">\\n             140.1\\\\pm 13.86\\n            </annotation>\\n           </semantics>\\n          </math>\\n         </td>\\n        \"\n",
    "            ],\n",
    "            [\n",
    "                \"<td class=\\\"ltx_td ltx_align_center ltx_border_bb\\\" id=\\\"S5.T1.12.12.12.1\\\">\\n          <math alttext=\\\"\\\\mathbf{220}\\\\pm 0\\\" class=\\\"ltx_Math\\\" display=\\\"inline\\\" id=\\\"S5.T1.12.12.12.1.m1.1\\\">\\n           <semantics id=\\\"S5.T1.12.12.12.1.m1.1a\\\">\\n            <mrow id=\\\"S5.T1.12.12.12.1.m1.1.1\\\" xref=\\\"S5.T1.12.12.12.1.m1.1.1.cmml\\\">\\n             <mn id=\\\"S5.T1.12.12.12.1.m1.1.1.2\\\" xref=\\\"S5.T1.12.12.12.1.m1.1.1.2.cmml\\\">\\n              𝟐𝟐𝟎\\n             </mn>\\n             <mo id=\\\"S5.T1.12.12.12.1.m1.1.1.1\\\" xref=\\\"S5.T1.12.12.12.1.m1.1.1.1.cmml\\\">\\n              ±\\n             </mo>\\n             <mn id=\\\"S5.T1.12.12.12.1.m1.1.1.3\\\" xref=\\\"S5.T1.12.12.12.1.m1.1.1.3.cmml\\\">\\n              0\\n             </mn>\\n            </mrow>\\n            <annotation-xml encoding=\\\"MathML-Content\\\" id=\\\"S5.T1.12.12.12.1.m1.1b\\\">\\n             <apply id=\\\"S5.T1.12.12.12.1.m1.1.1.cmml\\\" xref=\\\"S5.T1.12.12.12.1.m1.1.1\\\">\\n              <csymbol cd=\\\"latexml\\\" id=\\\"S5.T1.12.12.12.1.m1.1.1.1.cmml\\\" xref=\\\"S5.T1.12.12.12.1.m1.1.1.1\\\">\\n               plus-or-minus\\n              </csymbol>\\n              <cn id=\\\"S5.T1.12.12.12.1.m1.1.1.2.cmml\\\" type=\\\"integer\\\" xref=\\\"S5.T1.12.12.12.1.m1.1.1.2\\\">\\n               220\\n              </cn>\\n              <cn id=\\\"S5.T1.12.12.12.1.m1.1.1.3.cmml\\\" type=\\\"integer\\\" xref=\\\"S5.T1.12.12.12.1.m1.1.1.3\\\">\\n               0\\n              </cn>\\n             </apply>\\n            </annotation-xml>\\n            <annotation encoding=\\\"application/x-tex\\\" id=\\\"S5.T1.12.12.12.1.m1.1c\\\">\\n             \\\\mathbf{220}\\\\pm 0\\n            </annotation>\\n           </semantics>\\n          </math>\\n         </td>\\n         \",\n",
    "                \"<td class=\\\"ltx_td ltx_align_center ltx_border_bb\\\" id=\\\"S5.T1.13.13.13.2\\\">\\n          <math alttext=\\\"\\\\mathbf{280}\\\\pm 0\\\" class=\\\"ltx_Math\\\" display=\\\"inline\\\" id=\\\"S5.T1.13.13.13.2.m1.1\\\">\\n           <semantics id=\\\"S5.T1.13.13.13.2.m1.1a\\\">\\n            <mrow id=\\\"S5.T1.13.13.13.2.m1.1.1\\\" xref=\\\"S5.T1.13.13.13.2.m1.1.1.cmml\\\">\\n             <mn id=\\\"S5.T1.13.13.13.2.m1.1.1.2\\\" xref=\\\"S5.T1.13.13.13.2.m1.1.1.2.cmml\\\">\\n              𝟐𝟖𝟎\\n             </mn>\\n             <mo id=\\\"S5.T1.13.13.13.2.m1.1.1.1\\\" xref=\\\"S5.T1.13.13.13.2.m1.1.1.1.cmml\\\">\\n              ±\\n             </mo>\\n             <mn id=\\\"S5.T1.13.13.13.2.m1.1.1.3\\\" xref=\\\"S5.T1.13.13.13.2.m1.1.1.3.cmml\\\">\\n              0\\n             </mn>\\n            </mrow>\\n            <annotation-xml encoding=\\\"MathML-Content\\\" id=\\\"S5.T1.13.13.13.2.m1.1b\\\">\\n             <apply id=\\\"S5.T1.13.13.13.2.m1.1.1.cmml\\\" xref=\\\"S5.T1.13.13.13.2.m1.1.1\\\">\\n              <csymbol cd=\\\"latexml\\\" id=\\\"S5.T1.13.13.13.2.m1.1.1.1.cmml\\\" xref=\\\"S5.T1.13.13.13.2.m1.1.1.1\\\">\\n               plus-or-minus\\n              </csymbol>\\n              <cn id=\\\"S5.T1.13.13.13.2.m1.1.1.2.cmml\\\" type=\\\"integer\\\" xref=\\\"S5.T1.13.13.13.2.m1.1.1.2\\\">\\n               280\\n              </cn>\\n              <cn id=\\\"S5.T1.13.13.13.2.m1.1.1.3.cmml\\\" type=\\\"integer\\\" xref=\\\"S5.T1.13.13.13.2.m1.1.1.3\\\">\\n               0\\n              </cn>\\n             </apply>\\n            </annotation-xml>\\n            <annotation encoding=\\\"application/x-tex\\\" id=\\\"S5.T1.13.13.13.2.m1.1c\\\">\\n             \\\\mathbf{280}\\\\pm 0\\n            </annotation>\\n           </semantics>\\n          </math>\\n         </td>\\n         \",\n",
    "                \"<td class=\\\"ltx_td ltx_align_center ltx_border_bb\\\" id=\\\"S5.T1.14.14.14.3\\\">\\n          <math alttext=\\\"180\\\\pm 0\\\" class=\\\"ltx_Math\\\" display=\\\"inline\\\" id=\\\"S5.T1.14.14.14.3.m1.1\\\">\\n           <semantics id=\\\"S5.T1.14.14.14.3.m1.1a\\\">\\n            <mrow id=\\\"S5.T1.14.14.14.3.m1.1.1\\\" xref=\\\"S5.T1.14.14.14.3.m1.1.1.cmml\\\">\\n             <mn id=\\\"S5.T1.14.14.14.3.m1.1.1.2\\\" xref=\\\"S5.T1.14.14.14.3.m1.1.1.2.cmml\\\">\\n              180\\n             </mn>\\n             <mo id=\\\"S5.T1.14.14.14.3.m1.1.1.1\\\" xref=\\\"S5.T1.14.14.14.3.m1.1.1.1.cmml\\\">\\n              ±\\n             </mo>\\n             <mn id=\\\"S5.T1.14.14.14.3.m1.1.1.3\\\" xref=\\\"S5.T1.14.14.14.3.m1.1.1.3.cmml\\\">\\n              0\\n             </mn>\\n            </mrow>\\n            <annotation-xml encoding=\\\"MathML-Content\\\" id=\\\"S5.T1.14.14.14.3.m1.1b\\\">\\n             <apply id=\\\"S5.T1.14.14.14.3.m1.1.1.cmml\\\" xref=\\\"S5.T1.14.14.14.3.m1.1.1\\\">\\n              <csymbol cd=\\\"latexml\\\" id=\\\"S5.T1.14.14.14.3.m1.1.1.1.cmml\\\" xref=\\\"S5.T1.14.14.14.3.m1.1.1.1\\\">\\n               plus-or-minus\\n              </csymbol>\\n              <cn id=\\\"S5.T1.14.14.14.3.m1.1.1.2.cmml\\\" type=\\\"integer\\\" xref=\\\"S5.T1.14.14.14.3.m1.1.1.2\\\">\\n               180\\n              </cn>\\n              <cn id=\\\"S5.T1.14.14.14.3.m1.1.1.3.cmml\\\" type=\\\"integer\\\" xref=\\\"S5.T1.14.14.14.3.m1.1.1.3\\\">\\n               0\\n              </cn>\\n             </apply>\\n            </annotation-xml>\\n            <annotation encoding=\\\"application/x-tex\\\" id=\\\"S5.T1.14.14.14.3.m1.1c\\\">\\n             180\\\\pm 0\\n            </annotation>\\n           </semantics>\\n          </math>\\n         </td>\\n         \",\n",
    "                \"<td class=\\\"ltx_td ltx_align_center ltx_border_bb\\\" id=\\\"S5.T1.15.15.15.4\\\">\\n          <math alttext=\\\"\\\\mathbf{200}\\\\pm 0\\\" class=\\\"ltx_Math\\\" display=\\\"inline\\\" id=\\\"S5.T1.15.15.15.4.m1.1\\\">\\n           <semantics id=\\\"S5.T1.15.15.15.4.m1.1a\\\">\\n            <mrow id=\\\"S5.T1.15.15.15.4.m1.1.1\\\" xref=\\\"S5.T1.15.15.15.4.m1.1.1.cmml\\\">\\n             <mn id=\\\"S5.T1.15.15.15.4.m1.1.1.2\\\" xref=\\\"S5.T1.15.15.15.4.m1.1.1.2.cmml\\\">\\n              𝟐𝟎𝟎\\n             </mn>\\n             <mo id=\\\"S5.T1.15.15.15.4.m1.1.1.1\\\" xref=\\\"S5.T1.15.15.15.4.m1.1.1.1.cmml\\\">\\n              ±\\n             </mo>\\n             <mn id=\\\"S5.T1.15.15.15.4.m1.1.1.3\\\" xref=\\\"S5.T1.15.15.15.4.m1.1.1.3.cmml\\\">\\n              0\\n             </mn>\\n            </mrow>\\n            <annotation-xml encoding=\\\"MathML-Content\\\" id=\\\"S5.T1.15.15.15.4.m1.1b\\\">\\n             <apply id=\\\"S5.T1.15.15.15.4.m1.1.1.cmml\\\" xref=\\\"S5.T1.15.15.15.4.m1.1.1\\\">\\n              <csymbol cd=\\\"latexml\\\" id=\\\"S5.T1.15.15.15.4.m1.1.1.1.cmml\\\" xref=\\\"S5.T1.15.15.15.4.m1.1.1.1\\\">\\n               plus-or-minus\\n              </csymbol>\\n              <cn id=\\\"S5.T1.15.15.15.4.m1.1.1.2.cmml\\\" type=\\\"integer\\\" xref=\\\"S5.T1.15.15.15.4.m1.1.1.2\\\">\\n               200\\n              </cn>\\n              <cn id=\\\"S5.T1.15.15.15.4.m1.1.1.3.cmml\\\" type=\\\"integer\\\" xref=\\\"S5.T1.15.15.15.4.m1.1.1.3\\\">\\n               0\\n              </cn>\\n             </apply>\\n            </annotation-xml>\\n            <annotation encoding=\\\"application/x-tex\\\" id=\\\"S5.T1.15.15.15.4.m1.1c\\\">\\n             \\\\mathbf{200}\\\\pm 0\\n            </annotation>\\n           </semantics>\\n          </math>\\n         </td>\\n         \",\n",
    "                \"<td class=\\\"ltx_td ltx_align_center ltx_border_bb\\\" id=\\\"S5.T1.16.16.16.5\\\">\\n          <math alttext=\\\"\\\\mathbf{160}\\\\pm 0\\\" class=\\\"ltx_Math\\\" display=\\\"inline\\\" id=\\\"S5.T1.16.16.16.5.m1.1\\\">\\n           <semantics id=\\\"S5.T1.16.16.16.5.m1.1a\\\">\\n            <mrow id=\\\"S5.T1.16.16.16.5.m1.1.1\\\" xref=\\\"S5.T1.16.16.16.5.m1.1.1.cmml\\\">\\n             <mn id=\\\"S5.T1.16.16.16.5.m1.1.1.2\\\" xref=\\\"S5.T1.16.16.16.5.m1.1.1.2.cmml\\\">\\n              𝟏𝟔𝟎\\n             </mn>\\n             <mo id=\\\"S5.T1.16.16.16.5.m1.1.1.1\\\" xref=\\\"S5.T1.16.16.16.5.m1.1.1.1.cmml\\\">\\n              ±\\n             </mo>\\n             <mn id=\\\"S5.T1.16.16.16.5.m1.1.1.3\\\" xref=\\\"S5.T1.16.16.16.5.m1.1.1.3.cmml\\\">\\n              0\\n             </mn>\\n            </mrow>\\n            <annotation-xml encoding=\\\"MathML-Content\\\" id=\\\"S5.T1.16.16.16.5.m1.1b\\\">\\n             <apply id=\\\"S5.T1.16.16.16.5.m1.1.1.cmml\\\" xref=\\\"S5.T1.16.16.16.5.m1.1.1\\\">\\n              <csymbol cd=\\\"latexml\\\" id=\\\"S5.T1.16.16.16.5.m1.1.1.1.cmml\\\" xref=\\\"S5.T1.16.16.16.5.m1.1.1.1\\\">\\n               plus-or-minus\\n              </csymbol>\\n              <cn id=\\\"S5.T1.16.16.16.5.m1.1.1.2.cmml\\\" type=\\\"integer\\\" xref=\\\"S5.T1.16.16.16.5.m1.1.1.2\\\">\\n               160\\n              </cn>\\n              <cn id=\\\"S5.T1.16.16.16.5.m1.1.1.3.cmml\\\" type=\\\"integer\\\" xref=\\\"S5.T1.16.16.16.5.m1.1.1.3\\\">\\n               0\\n              </cn>\\n             </apply>\\n            </annotation-xml>\\n            <annotation encoding=\\\"application/x-tex\\\" id=\\\"S5.T1.16.16.16.5.m1.1c\\\">\\n             \\\\mathbf{160}\\\\pm 0\\n            </annotation>\\n           </semantics>\\n          </math>\\n         </td>\\n        \"\n",
    "            ]\n",
    "        ],\n",
    "        \"footnotes\": [],\n",
    "        \"references\": [\n",
    "            \"We pair two LLM-Co agents together to jointly coordinate and complete the cooking and delivery task in Overcooked-AI. This is analogous to testing agents trained with self-play methods being asked to jointly perform the task. We observe through visualizations of the gameplay that LLM-Co agents make effective use of all resources available to them to complete multiple deliveries effectively. In fact, without being trained or fine-tuned for the task, LLM-Co agents outperform or nearly match Self-Play baselines trained using Proximal Policy Optimization             Schulman et al. (               2017              )            or Population-Based Training             Jaderberg et al. (               2017              )            which are the gold standard for Multi-Agent Tasks on. Table                     1                   shows a numerical summary of the scores obtained by agents. These scores represent averages obtained from 100 runs across with standard deviation across 5 seeds for MARL agents. For LLM-Co agents, the score obtained by agents for a fixed game description and directives remains the same as the agent always chooses to take the same medium-level action for a given state and history. This outcome is noteworthy because it demonstrates that Language Learning Models (LLMs), specifically GPT-4             OpenAI (               2023              )            in this case, can outperform RL agents at cooperative multi-agent tasks with minimal scaffolding. We observed that LLM Agents are capable of achieving sustained coordination, adjusting to their partners, and correcting their own actions consistently.\"\n",
    "        ]\n",
    "    }"
   ]
  },
  {
   "cell_type": "code",
   "execution_count": null,
   "metadata": {},
   "outputs": [
    {
     "name": "stdout",
     "output_type": "stream",
     "text": [
      "{|name, 216.9±1.31plus-or-minus216.91.31216.9\\pm 1.31|, |name, 190.1±8.64plus-or-minus190.18.64190.1\\pm 8.64|, |name, 173.8±18.27plus-or-minus173.818.27173.8\\pm 18.27|, |name, 169.5±10.09plus-or-minus169.510.09169.5\\pm 10.09|}, Count, 140.1±13.86plus-or-minus140.113.86140.1\\pm 13.86\n",
      "{|name, 𝟐𝟐𝟎±0plus-or-minus2200\\mathbf{220}\\pm 0|, |name, 𝟐𝟖𝟎±0plus-or-minus2800\\mathbf{280}\\pm 0|, |name, 180±0plus-or-minus1800180\\pm 0|, |name, 𝟐𝟎𝟎±0plus-or-minus2000\\mathbf{200}\\pm 0|}, Count, 𝟏𝟔𝟎±0plus-or-minus1600\\mathbf{160}\\pm 0\n"
     ]
    }
   ],
   "source": [
    "from bs4 import BeautifulSoup\n",
    "\n",
    "def extract_claims(table_data):\n",
    "    claims = []\n",
    "    for row in table_data['table']:\n",
    "        specification = []\n",
    "        for cell in row:\n",
    "            soup = BeautifulSoup(cell, 'html.parser')\n",
    "            cell_content = soup.get_text(strip=True)\n",
    "            specification.append(cell_content)\n",
    "        \n",
    "        #questo avrebbe senso se l'ultima colonna rappresentasse davvero un conteggio totale ma cosí non é\n",
    "        outcome = specification.pop() if specification else \"N/A\"\n",
    "        measure = \"Count\"  \n",
    "\n",
    "\n",
    "        # Questo va cambiato in funzione delle tabelle complete\n",
    "        specification_str = \", \".join([f\"|name, {spec}|\" for spec in specification])\n",
    "        \n",
    "        claim = f\"{{{specification_str}}}, {measure}, {outcome}\"\n",
    "        claims.append(claim)\n",
    "    \n",
    "    return claims\n",
    "\n",
    "claims = extract_claims(table_data)\n",
    "for claim in claims:\n",
    "    print(claim)"
   ]
  },
  {
   "cell_type": "markdown",
   "metadata": {},
   "source": [
    "cioé di questa tabella abbiamo estratto solo 2 righe... voglio piange\n"
   ]
  },
  {
   "cell_type": "markdown",
   "metadata": {},
   "source": [
    "SICURAMENTE IL CODICE VA MODIFICATO IN CONSIDERAZIONE DELLE TABELLE BUONE CON TUTTE LE RIGHE E COLONNE.\n",
    "Infatti la prima riga che dovrebbe essere <thead> anche se non sempre contiene i nomi che poi andranno inseriti all'interno di specification_str"
   ]
  }
 ],
 "metadata": {
  "kernelspec": {
   "display_name": "base",
   "language": "python",
   "name": "python3"
  },
  "language_info": {
   "codemirror_mode": {
    "name": "ipython",
    "version": 3
   },
   "file_extension": ".py",
   "mimetype": "text/x-python",
   "name": "python",
   "nbconvert_exporter": "python",
   "pygments_lexer": "ipython3",
   "version": "3.9.13"
  }
 },
 "nbformat": 4,
 "nbformat_minor": 2
}
