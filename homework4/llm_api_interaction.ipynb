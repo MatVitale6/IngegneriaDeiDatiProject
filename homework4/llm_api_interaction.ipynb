{
 "cells": [
  {
   "cell_type": "markdown",
   "metadata": {},
   "source": [
    "# API communication with the chosen LLM \n",
    "This notebook could be moved in the prompt generator"
   ]
  },
  {
   "cell_type": "code",
   "execution_count": 11,
   "metadata": {},
   "outputs": [],
   "source": [
    "import openai\n",
    "from openai import OpenAI\n",
    "import json\n",
    "import os\n",
    "\n",
    "client = OpenAI(\n",
    "    api_key = 'API-KEY'\n",
    ")"
   ]
  },
  {
   "cell_type": "code",
   "execution_count": 12,
   "metadata": {},
   "outputs": [],
   "source": [
    "def extract_claims_from_html(table_html, context):\n",
    "    prompt = f\"\"\"\n",
    "    Consider the claims being in the form <{{Specification, Specification, …}}, Measure, Outcome>\n",
    "\n",
    "    Claims must be extracted according to the following format:\n",
    "    <{{Specification, Specification, …}}, Measure, Outcome>\n",
    "\n",
    "    Specification: |name, value| pair describing the details of an experiment\n",
    "    E.g.: |dataset, Spider|, or |LLM, Llama27b|\n",
    "    Measure: metric or measure used to evaluate the experiment\n",
    "    E.g.: F1-measure\n",
    "    Outcome: outcome value related to metric\n",
    "    E.g.: 0.89\n",
    "\n",
    "    Extract all the claims, even with empty value for the measure in that exact form from the following html table:\n",
    "    {table_html}\n",
    "\n",
    "    Know that the context where the table was mentioned is the following:\n",
    "    {context}\n",
    "    \"\"\"\n",
    "\n",
    "    try:\n",
    "        # Nuovo metodo per chiamare il completamento\n",
    "        response = client.chat.completions.create(\n",
    "            model=\"gpt-4o-mini\",\n",
    "            messages=[\n",
    "                {\"role\": \"system\", \"content\": \"You are a helpful assistant.\"},\n",
    "                {\"role\": \"user\", \"content\": prompt}\n",
    "            ],\n",
    "        )\n",
    "        # Estrai il contenuto della risposta\n",
    "        return response[\"choices\"][0][\"message\"][\"content\"].strip()\n",
    "\n",
    "    except openai.APIConnectionError as e:\n",
    "        print(f\"Errore di connessione all'API: {e}\")\n",
    "    except Exception as e:\n",
    "        print(f\"Errore generico: {e}\")\n",
    "    return None"
   ]
  },
  {
   "cell_type": "code",
   "execution_count": 13,
   "metadata": {},
   "outputs": [],
   "source": [
    "def process_json_file(json_file):\n",
    "    # Leggi il file JSON\n",
    "    with open(json_file, 'r') as f:\n",
    "        data = json.load(f)\n",
    "\n",
    "    for table_id, table_info in data.items():\n",
    "        caption = table_info.get(\"caption\", \"\")\n",
    "        table_html = table_info.get(\"table\", \"\")\n",
    "        footnotes = table_info.get(\"footnotes\", [])\n",
    "        references = table_info.get(\"references\", [])\n",
    "\n",
    "        # Crea il contesto completo con la didascalia, le note e i riferimenti\n",
    "        context = f\"Caption: {caption}\\nFootnotes: {', '.join(footnotes)}\\nReferences: {', '.join(references)}\"\n",
    "\n",
    "        print(table_html)\n",
    "        print(context)\n",
    "        # Estrai i claim dalla tabella\n",
    "        claims = extract_claims_from_html(table_html, context)\n",
    "\n",
    "        # Stampa o salva i claim estratti\n",
    "        print(f\"Claims for table {table_id}:\")\n",
    "        print(claims)\n",
    "        print(\"\\n\" + \"=\"*50 + \"\\n\")"
   ]
  },
  {
   "cell_type": "code",
   "execution_count": null,
   "metadata": {},
   "outputs": [],
   "source": [
    "# Specifica il percorso del tuo file JSON nella cartella 'selected_tables'\n",
    "json_file = 'selected_tables/2308.12519.json'\n",
    "process_json_file(json_file)"
   ]
  }
 ],
 "metadata": {
  "kernelspec": {
   "display_name": ".venv",
   "language": "python",
   "name": "python3"
  },
  "language_info": {
   "codemirror_mode": {
    "name": "ipython",
    "version": 3
   },
   "file_extension": ".py",
   "mimetype": "text/x-python",
   "name": "python",
   "nbconvert_exporter": "python",
   "pygments_lexer": "ipython3",
   "version": "3.12.3"
  }
 },
 "nbformat": 4,
 "nbformat_minor": 2
}
