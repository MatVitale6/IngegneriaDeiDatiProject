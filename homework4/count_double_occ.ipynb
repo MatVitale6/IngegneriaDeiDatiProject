{
 "cells": [
  {
   "cell_type": "code",
   "execution_count": 5,
   "metadata": {},
   "outputs": [
    {
     "ename": "SyntaxError",
     "evalue": "EOL while scanning string literal (3023083234.py, line 5)",
     "output_type": "error",
     "traceback": [
      "\u001b[1;36m  File \u001b[1;32m\"C:\\Users\\matte\\AppData\\Local\\Temp\\ipykernel_21308\\3023083234.py\"\u001b[1;36m, line \u001b[1;32m5\u001b[0m\n\u001b[1;33m    input_file = \"consegna\\\\profilings\\\\GPT-4o\\\\VALUE_PROFILING.csv\"'\u001b[0m\n\u001b[1;37m                                                                     ^\u001b[0m\n\u001b[1;31mSyntaxError\u001b[0m\u001b[1;31m:\u001b[0m EOL while scanning string literal\n"
     ]
    }
   ],
   "source": [
    "import csv\n",
    "from collections import defaultdict\n",
    "\n",
    "# Percorso del file CSV\n",
    "input_file = \"consegna\\\\profilings\\\\GPT-4o\\\\VALUE_PROFILING.csv\"\n",
    "\n",
    "# Dizionario per raccogliere i valori e i rispettivi nomi\n",
    "value_to_names = defaultdict(set)\n",
    "\n",
    "# Lettura del file CSV e popolazione del dizionario\n",
    "with open(input_file, 'r') as csv_file:\n",
    "    reader = csv.DictReader(csv_file)\n",
    "    for row in reader:\n",
    "        name = row['Name']\n",
    "        value = row['Value']\n",
    "        value_to_names[value].add(name)\n",
    "\n",
    "# Lista per salvare le coppie (nome, valore)\n",
    "coppie_valori = []\n",
    "\n",
    "# Verifica dei valori associati a nomi diversi\n",
    "for value, names in value_to_names.items():\n",
    "    if len(names) > 1:\n",
    "        for name in names:\n",
    "            coppie_valori.append((name, value))\n",
    "\n",
    "# Stampa delle coppie trovate\n",
    "for name, value in coppie_valori:\n",
    "    print(f\"({name}, {value})\")\n",
    "\n",
    "# Output per verifica finale\n",
    "print(\"\\nCoppie trovate:\", coppie_valori)\n"
   ]
  }
 ],
 "metadata": {
  "kernelspec": {
   "display_name": "base",
   "language": "python",
   "name": "python3"
  },
  "language_info": {
   "codemirror_mode": {
    "name": "ipython",
    "version": 3
   },
   "file_extension": ".py",
   "mimetype": "text/x-python",
   "name": "python",
   "nbconvert_exporter": "python",
   "pygments_lexer": "ipython3",
   "version": "3.9.13"
  }
 },
 "nbformat": 4,
 "nbformat_minor": 2
}
