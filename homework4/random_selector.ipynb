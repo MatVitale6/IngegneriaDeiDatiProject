{
 "cells": [
  {
   "cell_type": "code",
   "execution_count": 3,
   "metadata": {},
   "outputs": [],
   "source": [
    "import os \n",
    "import random\n",
    "import json\n",
    "\n",
    "JSON_DIR = '../homework2/lucenehw/urls_htmls_tables/all_tables'"
   ]
  },
  {
   "cell_type": "code",
   "execution_count": 6,
   "metadata": {},
   "outputs": [
    {
     "name": "stdout",
     "output_type": "stream",
     "text": [
      "Error decoding file 2408.11926.json: Expecting value: line 100 column 14 (char 297784)\n"
     ]
    },
    {
     "data": {
      "text/plain": [
       "['2405.04246v1.json',\n",
       " '2409.05034.json',\n",
       " '2402.12741.json',\n",
       " '2402.04867.json',\n",
       " '2208.13266.json',\n",
       " '2408.08673.json',\n",
       " '2404.17870v1.json',\n",
       " '2410.07753.json',\n",
       " '2408.08214.json',\n",
       " '2409.00248.json']"
      ]
     },
     "execution_count": 6,
     "metadata": {},
     "output_type": "execute_result"
    }
   ],
   "source": [
    "def sample_files_with_tables(directory, sample_size=10, min_entries=3):\n",
    "    valid_files = []\n",
    "\n",
    "    for file in os.listdir(JSON_DIR):\n",
    "        file_path = os.path.join(directory, file)\n",
    "        try:\n",
    "            with open(file_path, 'r') as f:\n",
    "                data = json.load(f)\n",
    "\n",
    "                if isinstance(data, dict) and len(data) >= min_entries:\n",
    "                    valid_files.append(file)\n",
    "        except (json.JSONDecodeError, UnicodeDecodeError) as e:\n",
    "            print(f\"Error decoding file {file}: {e}\")\n",
    "    \n",
    "    sampled_files = random.sample(valid_files, min(sample_size, len(valid_files)))\n",
    "\n",
    "    return sampled_files\n",
    "\n",
    "sample_files_with_tables(JSON_DIR)"
   ]
  }
 ],
 "metadata": {
  "kernelspec": {
   "display_name": "Python 3",
   "language": "python",
   "name": "python3"
  },
  "language_info": {
   "codemirror_mode": {
    "name": "ipython",
    "version": 3
   },
   "file_extension": ".py",
   "mimetype": "text/x-python",
   "name": "python",
   "nbconvert_exporter": "python",
   "pygments_lexer": "ipython3",
   "version": "3.12.3"
  }
 },
 "nbformat": 4,
 "nbformat_minor": 2
}
