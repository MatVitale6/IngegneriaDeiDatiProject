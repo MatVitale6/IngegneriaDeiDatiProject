{
 "cells": [
  {
   "cell_type": "code",
   "execution_count": 2,
   "metadata": {},
   "outputs": [],
   "source": [
    "import os \n",
    "import random\n",
    "import json\n",
    "\n",
    "JSON_DIR = '../homework1/extraction'"
   ]
  },
  {
   "cell_type": "code",
   "execution_count": 4,
   "metadata": {},
   "outputs": [
    {
     "data": {
      "text/plain": [
       "['2406.07054.json',\n",
       " '2308.08155.json',\n",
       " '2310.03965.json',\n",
       " '2405.15145.json',\n",
       " '2401.06509.json',\n",
       " '2405.16854.json',\n",
       " '2407.00132.json',\n",
       " '2406.10819.json',\n",
       " '2406.19226.json',\n",
       " '2405.05955.json']"
      ]
     },
     "execution_count": 4,
     "metadata": {},
     "output_type": "execute_result"
    }
   ],
   "source": [
    "def sample_files_with_tables(directory, sample_size=10, min_entries=3):\n",
    "    valid_files = []\n",
    "\n",
    "    for file in os.listdir(JSON_DIR):\n",
    "        file_path = os.path.join(directory, file)\n",
    "        try:\n",
    "            with open(file_path, 'r') as f:\n",
    "                data = json.load(f)\n",
    "\n",
    "                if isinstance(data, dict) and len(data) >= min_entries:\n",
    "                    valid_files.append(file)\n",
    "        except (json.JSONDecodeError, UnicodeDecodeError) as e:\n",
    "            print(f\"Error decoding file {file}: {e}\")\n",
    "    \n",
    "    sampled_files = random.sample(valid_files, min(sample_size, len(valid_files)))\n",
    "\n",
    "    return sampled_files\n",
    "\n",
    "sample_files_with_tables(JSON_DIR)"
   ]
  }
 ],
 "metadata": {
  "kernelspec": {
   "display_name": "Python 3",
   "language": "python",
   "name": "python3"
  },
  "language_info": {
   "codemirror_mode": {
    "name": "ipython",
    "version": 3
   },
   "file_extension": ".py",
   "mimetype": "text/x-python",
   "name": "python",
   "nbconvert_exporter": "python",
   "pygments_lexer": "ipython3",
   "version": "3.12.3"
  }
 },
 "nbformat": 4,
 "nbformat_minor": 2
}
