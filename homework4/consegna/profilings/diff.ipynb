{
 "cells": [
  {
   "cell_type": "code",
   "execution_count": 37,
   "metadata": {},
   "outputs": [],
   "source": [
    "import pandas as pd\n",
    "\n",
    "file_path1 = 'GPT-4o/METRICS_PROFILING.csv'\n",
    "file_path2 = 'ground_truth/METRICS_PROFILING.csv'\n",
    "output_path = 'differences.csv'"
   ]
  },
  {
   "cell_type": "code",
   "execution_count": 38,
   "metadata": {},
   "outputs": [],
   "source": [
    "file1 = pd.read_csv(file_path1)\n",
    "file2 = pd.read_csv(file_path2)\n",
    "\n",
    "file1, file2 = file1.align(file2, join=\"outer\", axis=0, fill_value=None)\n",
    "\n",
    "# Confronta valori nelle righe comuni\n",
    "total_cells = 0\n",
    "matching_cells = 0\n",
    "differing_cells = 0"
   ]
  },
  {
   "cell_type": "code",
   "execution_count": null,
   "metadata": {},
   "outputs": [
    {
     "name": "stdout",
     "output_type": "stream",
     "text": [
      "total_cells: 672\n",
      "matching_cells: 47\n",
      "differing_cells: 455\n",
      "similarity_percentage: 6.9940476190476195\n",
      "difference_percentage: 67.70833333333334\n"
     ]
    }
   ],
   "source": [
    "for column in file1.columns:\n",
    "    if column in file2.columns:\n",
    "        total_cells += len(file1[column])\n",
    "        matches = (file1[column] == file2[column]) & ~(file1[column].isna() | file2[column].isna())\n",
    "        matching_cells += matches.sum()\n",
    "\n",
    "        differing_cells += (~matches & ~(file1[column].isna() | file2[column].isna())).sum()\n",
    "\n",
    "similarity_percentage = (matching_cells / total_cells) * 100 if total_cells > 0 else 0\n",
    "difference_percentage = (differing_cells / total_cells) * 100 if total_cells > 0 else 0\n",
    "\n",
    "results = {\n",
    "    \"total_cells\": total_cells,\n",
    "    \"matching_cells\": matching_cells,\n",
    "    \"differing_cells\": differing_cells,\n",
    "    \"similarity_percentage\": similarity_percentage,\n",
    "    \"difference_percentage\": difference_percentage,\n",
    "}\n",
    "\n",
    "for key, value in results.items():\n",
    "    print(f\"{key}: {value}\")"
   ]
  }
 ],
 "metadata": {
  "kernelspec": {
   "display_name": ".venv",
   "language": "python",
   "name": "python3"
  },
  "language_info": {
   "codemirror_mode": {
    "name": "ipython",
    "version": 3
   },
   "file_extension": ".py",
   "mimetype": "text/x-python",
   "name": "python",
   "nbconvert_exporter": "python",
   "pygments_lexer": "ipython3",
   "version": "3.12.3"
  }
 },
 "nbformat": 4,
 "nbformat_minor": 2
}
