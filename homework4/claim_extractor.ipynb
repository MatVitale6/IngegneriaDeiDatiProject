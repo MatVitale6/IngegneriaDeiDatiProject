{
 "cells": [
  {
   "cell_type": "code",
   "execution_count": 1,
   "metadata": {},
   "outputs": [],
   "source": [
    "import os\n",
    "import json\n",
    "from collections import defaultdict\n",
    "\n",
    "input_file = 'input_file.json'"
   ]
  },
  {
   "cell_type": "code",
   "execution_count": 3,
   "metadata": {},
   "outputs": [
    {
     "name": "stdout",
     "output_type": "stream",
     "text": [
      "dict_keys(['2304.04370_1', '2304.04370_2', '2304.04370_3', '2308.12519_1', '2308.12519_2', '2308.12519_3', '2310.014444_2', '2310.014444_4', '2310.03965_1', '2310.03965_2', '2402.10890_1', '2402.10890_2', '2402.10890_3', '2403.04783_1', '2403.04783_2', '2403.04783_4', '2405.17129_1', '2405.17129_4', '2405.17129_5', '2406.03075_2', '2406.03075_3', '2406.03075_4', '2406.12707_1', '2406.12707_2', '2406.12707_3', '2407.16667_1', '2407.16667_3', '2407.16667_4', '2407.17115_2', '2407.17115_4', '2407.17115_5'])\n"
     ]
    }
   ],
   "source": [
    "tables = defaultdict(dict)\n",
    "\n",
    "with open(input_file, 'r') as file:\n",
    "    data = json.load(file)\n",
    "    for key, value in data.items():\n",
    "        tables[key] = value\n",
    "print(tables.keys())"
   ]
  },
  {
   "cell_type": "code",
   "execution_count": 4,
   "metadata": {},
   "outputs": [],
   "source": [
    "def extract_claims(table_data1):\n",
    "    claims = []\n",
    "    for row in table_data1['table']:\n",
    "        specification = []\n",
    "        for cell in row:\n",
    "            cell_content = cell.split('>')[1].split('<')[0].strip()\n",
    "            specification.append(cell_content)\n",
    "        measure = \"Count\"\n",
    "        outcome = specification[-1]\n",
    "        specification = specification[:-1]\n",
    "        specification_str = \", \".join([f\"|{spec}|\" for spec in specification])\n",
    "        claim = f\"{{{specification_str}}}, {measure}, {outcome}\"\n",
    "        claims.append(claim)\n",
    "    return claims"
   ]
  },
  {
   "cell_type": "markdown",
   "metadata": {},
   "source": [
    "da vedere sta roba\n"
   ]
  },
  {
   "cell_type": "code",
   "execution_count": 6,
   "metadata": {},
   "outputs": [
    {
     "ename": "IndexError",
     "evalue": "list index out of range",
     "output_type": "error",
     "traceback": [
      "\u001b[0;31m---------------------------------------------------------------------------\u001b[0m",
      "\u001b[0;31mIndexError\u001b[0m                                Traceback (most recent call last)",
      "Cell \u001b[0;32mIn[6], line 1\u001b[0m\n\u001b[0;32m----> 1\u001b[0m \u001b[43mextract_claims\u001b[49m\u001b[43m(\u001b[49m\u001b[43mtables\u001b[49m\u001b[43m[\u001b[49m\u001b[38;5;124;43m'\u001b[39;49m\u001b[38;5;124;43m2304.04370_1\u001b[39;49m\u001b[38;5;124;43m'\u001b[39;49m\u001b[43m]\u001b[49m\u001b[43m)\u001b[49m\n",
      "Cell \u001b[0;32mIn[4], line 6\u001b[0m, in \u001b[0;36mextract_claims\u001b[0;34m(table_data1)\u001b[0m\n\u001b[1;32m      4\u001b[0m specification \u001b[38;5;241m=\u001b[39m []\n\u001b[1;32m      5\u001b[0m \u001b[38;5;28;01mfor\u001b[39;00m cell \u001b[38;5;129;01min\u001b[39;00m row:\n\u001b[0;32m----> 6\u001b[0m     cell_content \u001b[38;5;241m=\u001b[39m \u001b[43mcell\u001b[49m\u001b[38;5;241;43m.\u001b[39;49m\u001b[43msplit\u001b[49m\u001b[43m(\u001b[49m\u001b[38;5;124;43m'\u001b[39;49m\u001b[38;5;124;43m>\u001b[39;49m\u001b[38;5;124;43m'\u001b[39;49m\u001b[43m)\u001b[49m\u001b[43m[\u001b[49m\u001b[38;5;241;43m1\u001b[39;49m\u001b[43m]\u001b[49m\u001b[38;5;241m.\u001b[39msplit(\u001b[38;5;124m'\u001b[39m\u001b[38;5;124m<\u001b[39m\u001b[38;5;124m'\u001b[39m)[\u001b[38;5;241m0\u001b[39m]\u001b[38;5;241m.\u001b[39mstrip()\n\u001b[1;32m      7\u001b[0m     specification\u001b[38;5;241m.\u001b[39mappend(cell_content)\n\u001b[1;32m      8\u001b[0m measure \u001b[38;5;241m=\u001b[39m \u001b[38;5;124m\"\u001b[39m\u001b[38;5;124mCount\u001b[39m\u001b[38;5;124m\"\u001b[39m\n",
      "\u001b[0;31mIndexError\u001b[0m: list index out of range"
     ]
    }
   ],
   "source": [
    "extract_claims(tables['2304.04370_1'])"
   ]
  },
  {
   "cell_type": "markdown",
   "metadata": {},
   "source": [
    "#porcodio nella tabella estratta da noi mancano dei pezzi, tipo il <thead>!"
   ]
  },
  {
   "cell_type": "code",
   "execution_count": 5,
   "metadata": {},
   "outputs": [
    {
     "ename": "NameError",
     "evalue": "name 'table_data' is not defined",
     "output_type": "error",
     "traceback": [
      "\u001b[0;31m---------------------------------------------------------------------------\u001b[0m",
      "\u001b[0;31mNameError\u001b[0m                                 Traceback (most recent call last)",
      "Cell \u001b[0;32mIn[5], line 25\u001b[0m\n\u001b[1;32m     21\u001b[0m         claims\u001b[38;5;241m.\u001b[39mappend(claim)\n\u001b[1;32m     23\u001b[0m     \u001b[38;5;28;01mreturn\u001b[39;00m claims\n\u001b[0;32m---> 25\u001b[0m claims \u001b[38;5;241m=\u001b[39m extract_claims(\u001b[43mtable_data\u001b[49m)\n\u001b[1;32m     26\u001b[0m \u001b[38;5;28;01mfor\u001b[39;00m claim \u001b[38;5;129;01min\u001b[39;00m claims:\n\u001b[1;32m     27\u001b[0m     \u001b[38;5;28mprint\u001b[39m(claim)\n",
      "\u001b[0;31mNameError\u001b[0m: name 'table_data' is not defined"
     ]
    }
   ],
   "source": [
    "from bs4 import BeautifulSoup\n",
    "\n",
    "def extract_claims(table_data):\n",
    "    claims = []\n",
    "    for row in table_data['table']:\n",
    "        specification = []\n",
    "        for cell in row:\n",
    "            soup = BeautifulSoup(cell, 'html.parser')\n",
    "            cell_content = soup.get_text(strip=True)\n",
    "            specification.append(cell_content)\n",
    "        \n",
    "        #questo avrebbe senso se l'ultima colonna rappresentasse davvero un conteggio totale ma cosí non é\n",
    "        outcome = specification.pop() if specification else \"N/A\"\n",
    "        measure = \"Count\"  \n",
    "\n",
    "\n",
    "        # Questo va cambiato in funzione delle tabelle complete\n",
    "        specification_str = \", \".join([f\"|name, {spec}|\" for spec in specification])\n",
    "        \n",
    "        claim = f\"{{{specification_str}}}, {measure}, {outcome}\"\n",
    "        claims.append(claim)\n",
    "    \n",
    "    return claims\n",
    "\n",
    "claims = extract_claims(table_data)\n",
    "for claim in claims:\n",
    "    print(claim)"
   ]
  },
  {
   "cell_type": "markdown",
   "metadata": {},
   "source": [
    "cioé di questa tabella abbiamo estratto solo 2 righe... voglio piange\n"
   ]
  },
  {
   "cell_type": "markdown",
   "metadata": {},
   "source": [
    "SICURAMENTE IL CODICE VA MODIFICATO IN CONSIDERAZIONE DELLE TABELLE BUONE CON TUTTE LE RIGHE E COLONNE.\n",
    "Infatti la prima riga che dovrebbe essere <thead> anche se non sempre contiene i nomi che poi andranno inseriti all'interno di specification_str"
   ]
  }
 ],
 "metadata": {
  "kernelspec": {
   "display_name": "Python 3",
   "language": "python",
   "name": "python3"
  },
  "language_info": {
   "codemirror_mode": {
    "name": "ipython",
    "version": 3
   },
   "file_extension": ".py",
   "mimetype": "text/x-python",
   "name": "python",
   "nbconvert_exporter": "python",
   "pygments_lexer": "ipython3",
   "version": "3.12.3"
  }
 },
 "nbformat": 4,
 "nbformat_minor": 2
}
