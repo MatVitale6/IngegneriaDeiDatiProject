{
 "cells": [
  {
   "cell_type": "code",
   "execution_count": 1,
   "metadata": {},
   "outputs": [],
   "source": [
    "import json\n",
    "from collections import defaultdict\n",
    "from bs4 import BeautifulSoup\n",
    "import pandas as pd\n",
    "\n",
    "input_file = 'input_file.json'"
   ]
  },
  {
   "cell_type": "code",
   "execution_count": 2,
   "metadata": {},
   "outputs": [
    {
     "name": "stdout",
     "output_type": "stream",
     "text": [
      "dict_keys(['2304.04370_1', '2304.04370_2', '2304.04370_3', '2308.12519_1', '2308.12519_2', '2308.12519_3', '2310.01444_2', '2310.01444_4', '2310.03965_1', '2310.03965_2', '2402.10890_1', '2402.10890_2', '2402.10890_3', '2403.04783_1', '2403.04783_2', '2403.04783_4', '2405.17129_1', '2405.17129_4', '2405.17129_5', '2406.03075_2', '2406.03075_3', '2406.03075_4', '2406.12707_1', '2406.12707_2', '2406.12707_3', '2407.16667_1', '2407.16667_3', '2407.16667_4', '2407.17115_2', '2407.17115_4', '2407.17115_5'])\n"
     ]
    }
   ],
   "source": [
    "# Salva tutte le tabelle del JSON di input in un dizionario 'tables'\n",
    "tables = defaultdict(dict)\n",
    "\n",
    "with open(input_file, 'r') as file:\n",
    "    data = json.load(file)\n",
    "    for key, value in data.items():\n",
    "        tables[key] = value\n",
    "print(tables.keys())"
   ]
  },
  {
   "cell_type": "code",
   "execution_count": null,
   "metadata": {},
   "outputs": [],
   "source": [
    "def extract_claims_from_table(html):\n",
    "    # Parsing del contenuto HTML\n",
    "    soup = BeautifulSoup(html, 'html.parser')\n",
    "    \n",
    "    # Trova la tabella\n",
    "    table = soup.find('table')\n",
    "    \n",
    "    # Trova tutte le righe della tabella\n",
    "    rows = table.find_all('tr')\n",
    "    \n",
    "    # Estrai il valore della cella in alto a sinistra (prima riga, prima colonna)\n",
    "    table_specification_name = rows[0].find_all('td')[0].get_text(strip=True)\n",
    "    \n",
    "    # Estrai i nomi delle colonne dalla prima riga (escludendo la prima cella)\n",
    "    headers = [header.get_text(strip=True) for header in rows[0].find_all('td')[1:]]\n",
    "    \n",
    "    claims = []\n",
    "    claim_counter = 0\n",
    "    \n",
    "    # Itera sulle righe, a partire dalla seconda riga (escludi la riga di intestazione)\n",
    "    for row in rows[1:]:\n",
    "        cells = row.find_all('td')\n",
    "        if len(cells) < 2:  # Salta le righe con meno di due celle\n",
    "            continue\n",
    "        \n",
    "        # Estrai il valore della prima cella della riga corrente\n",
    "        row_specification = cells[0].get_text(strip=True)\n",
    "        \n",
    "        # Crea una claim per ogni misura\n",
    "        for i, value_cell in enumerate(cells[1:]):  # Escludi la prima cella\n",
    "            measure_name = headers[i]  # Nome della misura dalla prima riga\n",
    "            value = value_cell.get_text(strip=True)\n",
    "            claims.append(f\"Claim {claim_counter}: |{{|{table_specification_name}, {row_specification}|}} {measure_name}, {value}|\")\n",
    "            claim_counter += 1\n",
    "\n",
    "    return claims\n",
    "\n",
    "#|{Specification, Specification, …}, Measure, Outcome|\n",
    "\n",
    "# HTML di esempio\n",
    "table_html = tables['2405.17129_1']['table']  # Inserisci qui il tuo HTML completo\n",
    "\n",
    "claims = extract_claims_from_table(table_html)\n",
    "\n",
    "# Stampa le claims\n",
    "for claim in claims:\n",
    "    print(claim)\n"
   ]
  },
  {
   "cell_type": "code",
   "execution_count": 10,
   "metadata": {},
   "outputs": [
    {
     "name": "stdout",
     "output_type": "stream",
     "text": [
      "Index(['Metrics', 'GPT-3.5-turbo Zero', 'GPT-3.5-turbo Few', 'Claude-2 Zero',\n",
      "       'Claude-2 Few', 'GPT-4 Zero', 'GPT-4 Few'],\n",
      "      dtype='object')\n"
     ]
    }
   ],
   "source": [
    "html_table = tables['2304.04370_1']['table']\n",
    "soup = BeautifulSoup(html_table, 'html.parser')\n",
    "rows = soup.find_all('tr')\n",
    "\n",
    "headers_cell = rows[0].find_all(['th', 'td'])\n",
    "\n",
    "# Intestazioni\n",
    "headers = []\n",
    "for cell in headers_cell:\n",
    "    if 'colspan' in cell.attrs:\n",
    "        for subheader in rows[1].find_all(['th','td'])[:int(cell['colspan'])]:\n",
    "            headers.append(f\"{cell.text.strip()} {subheader.text.strip()}\")\n",
    "    else:\n",
    "        headers.append(cell.text.strip())\n",
    "\n",
    "# Dati\n",
    "data = []\n",
    "for row in rows[2:]:\n",
    "    data.append([cell.text.strip() for cell in row.find_all('td')])\n",
    "\n",
    "# Creazione DataFrame\n",
    "df = pd.DataFrame(data, columns=headers)\n",
    "\n",
    "# Stampa il DataFrame\n",
    "print(df.columns)\n"
   ]
  },
  {
   "cell_type": "code",
   "execution_count": 12,
   "metadata": {},
   "outputs": [
    {
     "name": "stdout",
     "output_type": "stream",
     "text": [
      "Claim 0: |{|Metrics, CLIP Score|} GPT-3.5-turbo Zero, 0.0|\n",
      "Claim 1: |{|Metrics, CLIP Score|} GPT-3.5-turbo Few, 0.0|\n",
      "Claim 2: |{|Metrics, CLIP Score|} Claude-2 Zero, 0.0|\n",
      "Claim 3: |{|Metrics, CLIP Score|} Claude-2 Few, 0.2543|\n",
      "Claim 4: |{|Metrics, CLIP Score|} GPT-4 Zero, 0.0|\n",
      "Claim 5: |{|Metrics, CLIP Score|} GPT-4 Few, 0.3055|\n",
      "Claim 6: |{|Metrics, BERT Score|} GPT-3.5-turbo Zero, 0.1914|\n",
      "Claim 7: |{|Metrics, BERT Score|} GPT-3.5-turbo Few, 0.3820|\n",
      "Claim 8: |{|Metrics, BERT Score|} Claude-2 Zero, 0.2111|\n",
      "Claim 9: |{|Metrics, BERT Score|} Claude-2 Few, 0.5038|\n",
      "Claim 10: |{|Metrics, BERT Score|} GPT-4 Zero, 0.2076|\n",
      "Claim 11: |{|Metrics, BERT Score|} GPT-4 Few, 0.6307|\n",
      "Claim 12: |{|Metrics, ViT Score|} GPT-3.5-turbo Zero, 0.2437|\n",
      "Claim 13: |{|Metrics, ViT Score|} GPT-3.5-turbo Few, 0.7497|\n",
      "Claim 14: |{|Metrics, ViT Score|} Claude-2 Zero, 0.4082|\n",
      "Claim 15: |{|Metrics, ViT Score|} Claude-2 Few, 0.5416|\n",
      "Claim 16: |{|Metrics, ViT Score|} GPT-4 Zero, 0.5058|\n",
      "Claim 17: |{|Metrics, ViT Score|} GPT-4 Few, 0.6480|\n",
      "Claim 18: |{|Metrics, Overall|} GPT-3.5-turbo Zero, 0.1450|\n",
      "Claim 19: |{|Metrics, Overall|} GPT-3.5-turbo Few, 0.3772|\n",
      "Claim 20: |{|Metrics, Overall|} Claude-2 Zero, 0.2064|\n",
      "Claim 21: |{|Metrics, Overall|} Claude-2 Few, 0.4332|\n",
      "Claim 22: |{|Metrics, Overall|} GPT-4 Zero, 0.2378|\n",
      "Claim 23: |{|Metrics, Overall|} GPT-4 Few, 0.5281|\n"
     ]
    },
    {
     "name": "stderr",
     "output_type": "stream",
     "text": [
      "/tmp/ipykernel_328676/2437892923.py:10: FutureWarning: Series.__getitem__ treating keys as positions is deprecated. In a future version, integer keys will always be treated as labels (consistent with DataFrame behavior). To access a value by position, use `ser.iloc[pos]`\n",
      "  row_specification = row[0]  # La prima colonna è la Specification per ogni riga\n"
     ]
    }
   ],
   "source": [
    "def extract_claims_from_dataframe(df):\n",
    "    claims = []\n",
    "    claim_counter = 0\n",
    "    \n",
    "    # Assumiamo che la prima colonna contenga la Specification\n",
    "    # e le colonne successive contengano le misure\n",
    "    table_specification_name = df.columns[0]  # Il nome della prima colonna\n",
    "    \n",
    "    for idx, row in df.iterrows():\n",
    "        row_specification = row[0]  # La prima colonna è la Specification per ogni riga\n",
    "        \n",
    "        # Per ogni misura nella riga, creiamo una claim\n",
    "        for i, measure_value in enumerate(row[1:]):  # Escludiamo la prima colonna (Specification)\n",
    "            measure_name = df.columns[i + 1]  # Il nome della misura (dalla colonna del DataFrame)\n",
    "            value = measure_value\n",
    "            claims.append(f\"Claim {claim_counter}: |{{|{table_specification_name}, {row_specification}|}} {measure_name}, {value}|\")\n",
    "            claim_counter += 1\n",
    "    \n",
    "    return claims\n",
    "\n",
    "\n",
    "# Estrai le claims dal DataFrame\n",
    "claims = extract_claims_from_dataframe(df)\n",
    "\n",
    "# Stampa le claims\n",
    "for claim in claims:\n",
    "    print(claim)"
   ]
  }
 ],
 "metadata": {
  "kernelspec": {
   "display_name": ".venv",
   "language": "python",
   "name": "python3"
  },
  "language_info": {
   "codemirror_mode": {
    "name": "ipython",
    "version": 3
   },
   "file_extension": ".py",
   "mimetype": "text/x-python",
   "name": "python",
   "nbconvert_exporter": "python",
   "pygments_lexer": "ipython3",
   "version": "3.12.3"
  }
 },
 "nbformat": 4,
 "nbformat_minor": 2
}
