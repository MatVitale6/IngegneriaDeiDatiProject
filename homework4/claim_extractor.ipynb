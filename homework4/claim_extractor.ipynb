{
 "cells": [
  {
   "cell_type": "code",
   "execution_count": 18,
   "metadata": {},
   "outputs": [],
   "source": [
    "import os\n",
    "import json\n",
    "from collections import defaultdict\n",
    "\n",
    "JSON_DIR = 'selected_tables/'"
   ]
  },
  {
   "cell_type": "code",
   "execution_count": 25,
   "metadata": {},
   "outputs": [
    {
     "name": "stdout",
     "output_type": "stream",
     "text": [
      "data for 2406.07054 -> S3.T1: {'caption': 'Results of different instruction-tuned models on MT-Bench and AlpacaEval based on the GPT-4 automatic evaluation. We also show the data source, data construction method, data size, and model alignment method for training. The best result is bolded, while the second-best result is underlined.: results extracted from the official rank list;: results reproduced by ourselves.', 'table': [['<td class=\"ltx_td ltx_align_left ltx_border_tt\" id=\"S3.T1.10.6.7.1\">\\n         <span class=\"ltx_text ltx_font_bold\" id=\"S3.T1.10.6.7.1.1\">\\n          Model\\n         </span>\\n        </td>\\n        \\n', '<td class=\"ltx_td ltx_align_center ltx_border_tt\" id=\"S3.T1.10.6.7.2\">\\n         <span class=\"ltx_text ltx_font_bold\" id=\"S3.T1.10.6.7.2.1\">\\n          Data Source\\n         </span>\\n        </td>\\n        \\n', '<td class=\"ltx_td ltx_align_center ltx_border_tt\" id=\"S3.T1.10.6.7.3\">\\n         <span class=\"ltx_text ltx_font_bold\" id=\"S3.T1.10.6.7.3.1\">\\n          Data Construction / Size\\n         </span>\\n        </td>\\n        \\n', '<td class=\"ltx_td ltx_align_center ltx_border_tt\" id=\"S3.T1.10.6.7.4\">\\n         <span class=\"ltx_text ltx_font_bold\" id=\"S3.T1.10.6.7.4.1\">\\n          Alignment\\n         </span>\\n        </td>\\n        \\n', '<td class=\"ltx_td ltx_align_center ltx_border_tt\" id=\"S3.T1.10.6.7.5\">\\n         <span class=\"ltx_text ltx_font_bold\" id=\"S3.T1.10.6.7.5.1\">\\n          MT-Bench\\n         </span>\\n        </td>\\n        \\n', '<td class=\"ltx_td ltx_align_center ltx_border_tt\" id=\"S3.T1.10.6.7.6\">\\n         <span class=\"ltx_text ltx_font_bold\" id=\"S3.T1.10.6.7.6.1\">\\n          AlpacaEval (%)\\n         </span>\\n        </td>\\n       \\n'], ['<td class=\"ltx_td ltx_align_left ltx_border_t\" id=\"S3.T1.5.1.1.1\">\\n         LLaMA2-7B-Chat\\n         <sup class=\"ltx_sup\" id=\"S3.T1.5.1.1.1.1\">\\n          <span class=\"ltx_text ltx_font_italic\" id=\"S3.T1.5.1.1.1.1.1\">\\n           ♢\\n          </span>\\n         </sup>\\n        </td>\\n        \\n', '<td class=\"ltx_td ltx_align_center ltx_border_t\" id=\"S3.T1.5.1.1.2\">\\n         -\\n        </td>\\n        \\n', '<td class=\"ltx_td ltx_align_center ltx_border_t\" id=\"S3.T1.5.1.1.3\">\\n         - / &gt;100K + 1M\\n        </td>\\n        \\n', '<td class=\"ltx_td ltx_align_center ltx_border_t\" id=\"S3.T1.5.1.1.4\">\\n         SFT + RLHF\\n        </td>\\n        \\n', '<td class=\"ltx_td ltx_align_center ltx_border_t\" id=\"S3.T1.5.1.1.5\">\\n         <span class=\"ltx_text ltx_font_bold\" id=\"S3.T1.5.1.1.5.1\">\\n          6.27\\n         </span>\\n        </td>\\n        \\n', '<td class=\"ltx_td ltx_align_center ltx_border_t\" id=\"S3.T1.5.1.1.6\">\\n         <span class=\"ltx_text ltx_font_bold\" id=\"S3.T1.5.1.1.6.1\">\\n          71.4\\n         </span>\\n        </td>\\n       \\n'], ['<td class=\"ltx_td ltx_align_left ltx_border_t\" id=\"S3.T1.6.2.2.1\">\\n         Alpaca2-7B\\n         <sup class=\"ltx_sup\" id=\"S3.T1.6.2.2.1.1\">\\n          <span class=\"ltx_text ltx_font_italic\" id=\"S3.T1.6.2.2.1.1.1\">\\n           ♡\\n          </span>\\n         </sup>\\n        </td>\\n        \\n', '<td class=\"ltx_td ltx_align_center ltx_border_bb ltx_border_t\" id=\"S3.T1.7.3.3.2\" rowspan=\"4\">\\n         <span class=\"ltx_text\" id=\"S3.T1.7.3.3.2.1\">\\n          <math alttext=\"D_{alpaca}\" class=\"ltx_Math\" display=\"inline\" id=\"S3.T1.7.3.3.2.1.m1.1\">\\n           <semantics id=\"S3.T1.7.3.3.2.1.m1.1a\">\\n            <msub id=\"S3.T1.7.3.3.2.1.m1.1.1\" xref=\"S3.T1.7.3.3.2.1.m1.1.1.cmml\">\\n             <mi id=\"S3.T1.7.3.3.2.1.m1.1.1.2\" xref=\"S3.T1.7.3.3.2.1.m1.1.1.2.cmml\">\\n              D\\n             </mi>\\n             <mrow id=\"S3.T1.7.3.3.2.1.m1.1.1.3\" xref=\"S3.T1.7.3.3.2.1.m1.1.1.3.cmml\">\\n              <mi id=\"S3.T1.7.3.3.2.1.m1.1.1.3.2\" xref=\"S3.T1.7.3.3.2.1.m1.1.1.3.2.cmml\">\\n               a\\n              </mi>\\n              <mo id=\"S3.T1.7.3.3.2.1.m1.1.1.3.1\" lspace=\"0em\" rspace=\"0em\" xref=\"S3.T1.7.3.3.2.1.m1.1.1.3.1.cmml\">\\n               \\u200b\\n              </mo>\\n              <mi id=\"S3.T1.7.3.3.2.1.m1.1.1.3.3\" xref=\"S3.T1.7.3.3.2.1.m1.1.1.3.3.cmml\">\\n               l\\n              </mi>\\n              <mo id=\"S3.T1.7.3.3.2.1.m1.1.1.3.1a\" lspace=\"0em\" rspace=\"0em\" xref=\"S3.T1.7.3.3.2.1.m1.1.1.3.1.cmml\">\\n               \\u200b\\n              </mo>\\n              <mi id=\"S3.T1.7.3.3.2.1.m1.1.1.3.4\" xref=\"S3.T1.7.3.3.2.1.m1.1.1.3.4.cmml\">\\n               p\\n              </mi>\\n              <mo id=\"S3.T1.7.3.3.2.1.m1.1.1.3.1b\" lspace=\"0em\" rspace=\"0em\" xref=\"S3.T1.7.3.3.2.1.m1.1.1.3.1.cmml\">\\n               \\u200b\\n              </mo>\\n              <mi id=\"S3.T1.7.3.3.2.1.m1.1.1.3.5\" xref=\"S3.T1.7.3.3.2.1.m1.1.1.3.5.cmml\">\\n               a\\n              </mi>\\n              <mo id=\"S3.T1.7.3.3.2.1.m1.1.1.3.1c\" lspace=\"0em\" rspace=\"0em\" xref=\"S3.T1.7.3.3.2.1.m1.1.1.3.1.cmml\">\\n               \\u200b\\n              </mo>\\n              <mi id=\"S3.T1.7.3.3.2.1.m1.1.1.3.6\" xref=\"S3.T1.7.3.3.2.1.m1.1.1.3.6.cmml\">\\n               c\\n              </mi>\\n              <mo id=\"S3.T1.7.3.3.2.1.m1.1.1.3.1d\" lspace=\"0em\" rspace=\"0em\" xref=\"S3.T1.7.3.3.2.1.m1.1.1.3.1.cmml\">\\n               \\u200b\\n              </mo>\\n              <mi id=\"S3.T1.7.3.3.2.1.m1.1.1.3.7\" xref=\"S3.T1.7.3.3.2.1.m1.1.1.3.7.cmml\">\\n               a\\n              </mi>\\n             </mrow>\\n            </msub>\\n            <annotation-xml encoding=\"MathML-Content\" id=\"S3.T1.7.3.3.2.1.m1.1b\">\\n             <apply id=\"S3.T1.7.3.3.2.1.m1.1.1.cmml\" xref=\"S3.T1.7.3.3.2.1.m1.1.1\">\\n              <csymbol cd=\"ambiguous\" id=\"S3.T1.7.3.3.2.1.m1.1.1.1.cmml\" xref=\"S3.T1.7.3.3.2.1.m1.1.1\">\\n               subscript\\n              </csymbol>\\n              <ci id=\"S3.T1.7.3.3.2.1.m1.1.1.2.cmml\" xref=\"S3.T1.7.3.3.2.1.m1.1.1.2\">\\n               𝐷\\n              </ci>\\n              <apply id=\"S3.T1.7.3.3.2.1.m1.1.1.3.cmml\" xref=\"S3.T1.7.3.3.2.1.m1.1.1.3\">\\n               <times id=\"S3.T1.7.3.3.2.1.m1.1.1.3.1.cmml\" xref=\"S3.T1.7.3.3.2.1.m1.1.1.3.1\">\\n               </times>\\n               <ci id=\"S3.T1.7.3.3.2.1.m1.1.1.3.2.cmml\" xref=\"S3.T1.7.3.3.2.1.m1.1.1.3.2\">\\n                𝑎\\n               </ci>\\n               <ci id=\"S3.T1.7.3.3.2.1.m1.1.1.3.3.cmml\" xref=\"S3.T1.7.3.3.2.1.m1.1.1.3.3\">\\n                𝑙\\n               </ci>\\n               <ci id=\"S3.T1.7.3.3.2.1.m1.1.1.3.4.cmml\" xref=\"S3.T1.7.3.3.2.1.m1.1.1.3.4\">\\n                𝑝\\n               </ci>\\n               <ci id=\"S3.T1.7.3.3.2.1.m1.1.1.3.5.cmml\" xref=\"S3.T1.7.3.3.2.1.m1.1.1.3.5\">\\n                𝑎\\n               </ci>\\n               <ci id=\"S3.T1.7.3.3.2.1.m1.1.1.3.6.cmml\" xref=\"S3.T1.7.3.3.2.1.m1.1.1.3.6\">\\n                𝑐\\n               </ci>\\n               <ci id=\"S3.T1.7.3.3.2.1.m1.1.1.3.7.cmml\" xref=\"S3.T1.7.3.3.2.1.m1.1.1.3.7\">\\n                𝑎\\n               </ci>\\n              </apply>\\n             </apply>\\n            </annotation-xml>\\n            <annotation encoding=\"application/x-tex\" id=\"S3.T1.7.3.3.2.1.m1.1c\">\\n             D_{alpaca}\\n            </annotation>\\n           </semantics>\\n          </math>\\n         </span>\\n        </td>\\n        \\n', '<td class=\"ltx_td ltx_align_center ltx_border_t\" id=\"S3.T1.7.3.3.3\">\\n         Full / 52K\\n        </td>\\n        \\n', '<td class=\"ltx_td ltx_align_center ltx_border_t\" id=\"S3.T1.7.3.3.4\">\\n         SFT\\n        </td>\\n        \\n', '<td class=\"ltx_td ltx_align_center ltx_border_t\" id=\"S3.T1.7.3.3.5\">\\n         3.94\\n        </td>\\n        \\n', '<td class=\"ltx_td ltx_align_center ltx_border_t\" id=\"S3.T1.7.3.3.6\">\\n         20.15\\n        </td>\\n       \\n'], ['<td class=\"ltx_td ltx_align_left\" id=\"S3.T1.8.4.4.1\">\\n         AlpaGasus2-7B\\n         <sup class=\"ltx_sup\" id=\"S3.T1.8.4.4.1.1\">\\n          <span class=\"ltx_text ltx_font_italic\" id=\"S3.T1.8.4.4.1.1.1\">\\n           ♡\\n          </span>\\n         </sup>\\n        </td>\\n        \\n', '<td class=\"ltx_td ltx_align_center\" id=\"S3.T1.8.4.4.2\">\\n         Select / 9K\\n        </td>\\n        \\n', '<td class=\"ltx_td ltx_align_center\" id=\"S3.T1.8.4.4.3\">\\n         SFT\\n        </td>\\n        \\n', '<td class=\"ltx_td ltx_align_center\" id=\"S3.T1.8.4.4.4\">\\n         2.86\\n        </td>\\n        \\n', '<td class=\"ltx_td ltx_align_center\" id=\"S3.T1.8.4.4.5\">\\n         8.38\\n        </td>\\n       \\n'], ['<td class=\"ltx_td ltx_align_left\" id=\"S3.T1.9.5.5.1\">\\n         LLaMA2-7B-SFT\\n         <sub class=\"ltx_sub\" id=\"S3.T1.9.5.5.1.1\">\\n          <span class=\"ltx_text ltx_font_italic\" id=\"S3.T1.9.5.5.1.1.1\">\\n           random\\n          </span>\\n         </sub>\\n        </td>\\n        \\n', '<td class=\"ltx_td ltx_align_center\" id=\"S3.T1.9.5.5.2\">\\n         Random / 9K\\n        </td>\\n        \\n', '<td class=\"ltx_td ltx_align_center\" id=\"S3.T1.9.5.5.3\">\\n         SFT\\n        </td>\\n        \\n', '<td class=\"ltx_td ltx_align_center\" id=\"S3.T1.9.5.5.4\">\\n         2.28\\n        </td>\\n        \\n', '<td class=\"ltx_td ltx_align_center\" id=\"S3.T1.9.5.5.5\">\\n         8.31\\n        </td>\\n       \\n'], ['<td class=\"ltx_td ltx_align_left ltx_border_bb\" id=\"S3.T1.10.6.6.1\">\\n         CoEvol-LLaMA2-7B\\n         <math alttext=\"{}_{\\\\textsc{ChatGPT}}\" class=\"ltx_Math\" display=\"inline\" id=\"S3.T1.10.6.6.1.m1.1\">\\n          <semantics id=\"S3.T1.10.6.6.1.m1.1a\">\\n           <msub id=\"S3.T1.10.6.6.1.m1.1.1\" xref=\"S3.T1.10.6.6.1.m1.1.1.cmml\">\\n            <mi id=\"S3.T1.10.6.6.1.m1.1.1a\" xref=\"S3.T1.10.6.6.1.m1.1.1.cmml\">\\n            </mi>\\n            <mtext class=\"ltx_font_smallcaps\" id=\"S3.T1.10.6.6.1.m1.1.1.1\" xref=\"S3.T1.10.6.6.1.m1.1.1.1a.cmml\">\\n             ChatGPT\\n            </mtext>\\n           </msub>\\n           <annotation-xml encoding=\"MathML-Content\" id=\"S3.T1.10.6.6.1.m1.1b\">\\n            <apply id=\"S3.T1.10.6.6.1.m1.1.1.cmml\" xref=\"S3.T1.10.6.6.1.m1.1.1\">\\n             <ci id=\"S3.T1.10.6.6.1.m1.1.1.1a.cmml\" xref=\"S3.T1.10.6.6.1.m1.1.1.1\">\\n              <mtext class=\"ltx_font_smallcaps\" id=\"S3.T1.10.6.6.1.m1.1.1.1.cmml\" mathsize=\"70%\" xref=\"S3.T1.10.6.6.1.m1.1.1.1\">\\n               ChatGPT\\n              </mtext>\\n             </ci>\\n            </apply>\\n           </annotation-xml>\\n           <annotation encoding=\"application/x-tex\" id=\"S3.T1.10.6.6.1.m1.1c\">\\n            {}_{\\\\textsc{ChatGPT}}\\n           </annotation>\\n          </semantics>\\n         </math>\\n        </td>\\n        \\n', '<td class=\"ltx_td ltx_align_center ltx_border_bb\" id=\"S3.T1.10.6.6.2\">\\n         Random + Evol / 9K\\n        </td>\\n        \\n', '<td class=\"ltx_td ltx_align_center ltx_border_bb\" id=\"S3.T1.10.6.6.3\">\\n         SFT\\n        </td>\\n        \\n', '<td class=\"ltx_td ltx_align_center ltx_border_bb\" id=\"S3.T1.10.6.6.4\">\\n         <span class=\"ltx_text ltx_framed ltx_framed_underline\" id=\"S3.T1.10.6.6.4.1\">\\n          4.32\\n         </span>\\n        </td>\\n        \\n', '<td class=\"ltx_td ltx_align_center ltx_border_bb\" id=\"S3.T1.10.6.6.5\">\\n         <span class=\"ltx_text ltx_framed ltx_framed_underline\" id=\"S3.T1.10.6.6.5.1\">\\n          43.55\\n         </span>\\n        </td>\\n       \\n']], 'footnotes': [], 'references': ['Table                     1                   illustrates evaluation results of different LLaMA2-7B-based instruction-tuned models on MT-Bench and AlpacaEval. Since AlpaGasus’s data is not officially disclosed, we reproduce AlpaGasus2-7B on 9K filtered data released by an unofficial implementation.                     2                                         2                            2                            https://github.com/gpt4life/alpagasus                                    Among all these models, LLaMA2-7B-Chat performs the best, leveraging SFT and RLHF on massive data. In models fine-tuned with less data, the model trained on data evolved by CoEvol performs better. As shown in the results, CoEvol significantly improves the quality of 9K randomly sampled data, leading to a superior model for instruction following. It also outperforms models fine-tuned on full 52K data and 9K data selected by LLM-based scoring, This serves as compelling evidence of the efficacy of CoEvol in enhancing the quality of IFT data.']}\n"
     ]
    }
   ],
   "source": [
    "tables = defaultdict(dict)\n",
    "\n",
    "for filename in os.listdir(JSON_DIR):\n",
    "    with open(os.path.join(JSON_DIR, filename), 'r') as file:\n",
    "        data = json.load(file)\n",
    "        base_name = os.path.splitext(filename)[0]\n",
    "        for key, value in data.items():\n",
    "            tables[base_name][key] = value"
   ]
  },
  {
   "cell_type": "code",
   "execution_count": 7,
   "metadata": {},
   "outputs": [
    {
     "data": {
      "text/plain": [
       "['{|Install|, |25,760|, |250,058|}, Count, 688',\n",
       " '{|GoogleApps|, |625,542|, |4,903,601|}, Count, 306',\n",
       " '{|Single|, |26,303|, |85,668|}, Count, 15,366',\n",
       " '{|WebShopping|, |28,061|, |365,253|}, Count, 13,473']"
      ]
     },
     "execution_count": 7,
     "metadata": {},
     "output_type": "execute_result"
    }
   ],
   "source": [
    "def extract_claims(table_data1):\n",
    "    claims = []\n",
    "    for row in table_data1['table']:\n",
    "        specification = []\n",
    "        for cell in row:\n",
    "            cell_content = cell.split('>')[1].split('<')[0].strip()\n",
    "            specification.append(cell_content)\n",
    "        measure = \"Count\"\n",
    "        outcome = specification[-1]\n",
    "        specification = specification[:-1]\n",
    "        specification_str = \", \".join([f\"|{spec}|\" for spec in specification])\n",
    "        claim = f\"{{{specification_str}}}, {measure}, {outcome}\"\n",
    "        claims.append(claim)\n",
    "    return claims"
   ]
  },
  {
   "cell_type": "code",
   "execution_count": 27,
   "metadata": {},
   "outputs": [
    {
     "data": {
      "text/plain": [
       "['{|Metric|, |Coherent Score|}, Count, User Study',\n",
       " '{|LLM-Backend|, |GPT-3.5|, |GPT-4|, |GPT-3.5|}, Count, GPT-4',\n",
       " '{|IO|, |6.087|, |6.193|, |14%|}, Count, 7%',\n",
       " '{|CoT|, |6.654|, |6.927|, |21%|}, Count, 15%',\n",
       " '{|ToT|, |6.856|, |7.684|, |26%|}, Count, 33%',\n",
       " '{||, ||, ||, ||}, Count, ']"
      ]
     },
     "execution_count": 27,
     "metadata": {},
     "output_type": "execute_result"
    }
   ],
   "source": [
    "extract_claims(tables['2310.03965']['S5.T2'])"
   ]
  },
  {
   "cell_type": "markdown",
   "metadata": {},
   "source": [
    "#porcodio nella tabella estratta da noi mancano dei pezzi, tipo il <thead>!"
   ]
  },
  {
   "cell_type": "code",
   "execution_count": 6,
   "metadata": {},
   "outputs": [],
   "source": [
    "# Extract claims from the provided table data from \n",
    "# 2310.03903\n",
    "table_data2 ={\n",
    "        \"caption\": \" Table 1: Comparison of game play between self-play baselines (PPO, and PBT) and LLM-Co Agents. LLM-Co agents outperform RL methods on 4 out of 5 layouts, demonstrating highly effective reasoning under sustained coordination.\",\n",
    "        \"table\": [\n",
    "            [\n",
    "                \"<td class=\\\"ltx_td ltx_align_center\\\" id=\\\"S5.T1.7.7.7.1\\\">\\n          <math alttext=\\\"216.9\\\\pm 1.31\\\" class=\\\"ltx_Math\\\" display=\\\"inline\\\" id=\\\"S5.T1.7.7.7.1.m1.1\\\">\\n           <semantics id=\\\"S5.T1.7.7.7.1.m1.1a\\\">\\n            <mrow id=\\\"S5.T1.7.7.7.1.m1.1.1\\\" xref=\\\"S5.T1.7.7.7.1.m1.1.1.cmml\\\">\\n             <mn id=\\\"S5.T1.7.7.7.1.m1.1.1.2\\\" xref=\\\"S5.T1.7.7.7.1.m1.1.1.2.cmml\\\">\\n              216.9\\n             </mn>\\n             <mo id=\\\"S5.T1.7.7.7.1.m1.1.1.1\\\" xref=\\\"S5.T1.7.7.7.1.m1.1.1.1.cmml\\\">\\n              ±\\n             </mo>\\n             <mn id=\\\"S5.T1.7.7.7.1.m1.1.1.3\\\" xref=\\\"S5.T1.7.7.7.1.m1.1.1.3.cmml\\\">\\n              1.31\\n             </mn>\\n            </mrow>\\n            <annotation-xml encoding=\\\"MathML-Content\\\" id=\\\"S5.T1.7.7.7.1.m1.1b\\\">\\n             <apply id=\\\"S5.T1.7.7.7.1.m1.1.1.cmml\\\" xref=\\\"S5.T1.7.7.7.1.m1.1.1\\\">\\n              <csymbol cd=\\\"latexml\\\" id=\\\"S5.T1.7.7.7.1.m1.1.1.1.cmml\\\" xref=\\\"S5.T1.7.7.7.1.m1.1.1.1\\\">\\n               plus-or-minus\\n              </csymbol>\\n              <cn id=\\\"S5.T1.7.7.7.1.m1.1.1.2.cmml\\\" type=\\\"float\\\" xref=\\\"S5.T1.7.7.7.1.m1.1.1.2\\\">\\n               216.9\\n              </cn>\\n              <cn id=\\\"S5.T1.7.7.7.1.m1.1.1.3.cmml\\\" type=\\\"float\\\" xref=\\\"S5.T1.7.7.7.1.m1.1.1.3\\\">\\n               1.31\\n              </cn>\\n             </apply>\\n            </annotation-xml>\\n            <annotation encoding=\\\"application/x-tex\\\" id=\\\"S5.T1.7.7.7.1.m1.1c\\\">\\n             216.9\\\\pm 1.31\\n            </annotation>\\n           </semantics>\\n          </math>\\n         </td>\\n         \",\n",
    "                \"<td class=\\\"ltx_td ltx_align_center\\\" id=\\\"S5.T1.8.8.8.2\\\">\\n          <math alttext=\\\"190.1\\\\pm 8.64\\\" class=\\\"ltx_Math\\\" display=\\\"inline\\\" id=\\\"S5.T1.8.8.8.2.m1.1\\\">\\n           <semantics id=\\\"S5.T1.8.8.8.2.m1.1a\\\">\\n            <mrow id=\\\"S5.T1.8.8.8.2.m1.1.1\\\" xref=\\\"S5.T1.8.8.8.2.m1.1.1.cmml\\\">\\n             <mn id=\\\"S5.T1.8.8.8.2.m1.1.1.2\\\" xref=\\\"S5.T1.8.8.8.2.m1.1.1.2.cmml\\\">\\n              190.1\\n             </mn>\\n             <mo id=\\\"S5.T1.8.8.8.2.m1.1.1.1\\\" xref=\\\"S5.T1.8.8.8.2.m1.1.1.1.cmml\\\">\\n              ±\\n             </mo>\\n             <mn id=\\\"S5.T1.8.8.8.2.m1.1.1.3\\\" xref=\\\"S5.T1.8.8.8.2.m1.1.1.3.cmml\\\">\\n              8.64\\n             </mn>\\n            </mrow>\\n            <annotation-xml encoding=\\\"MathML-Content\\\" id=\\\"S5.T1.8.8.8.2.m1.1b\\\">\\n             <apply id=\\\"S5.T1.8.8.8.2.m1.1.1.cmml\\\" xref=\\\"S5.T1.8.8.8.2.m1.1.1\\\">\\n              <csymbol cd=\\\"latexml\\\" id=\\\"S5.T1.8.8.8.2.m1.1.1.1.cmml\\\" xref=\\\"S5.T1.8.8.8.2.m1.1.1.1\\\">\\n               plus-or-minus\\n              </csymbol>\\n              <cn id=\\\"S5.T1.8.8.8.2.m1.1.1.2.cmml\\\" type=\\\"float\\\" xref=\\\"S5.T1.8.8.8.2.m1.1.1.2\\\">\\n               190.1\\n              </cn>\\n              <cn id=\\\"S5.T1.8.8.8.2.m1.1.1.3.cmml\\\" type=\\\"float\\\" xref=\\\"S5.T1.8.8.8.2.m1.1.1.3\\\">\\n               8.64\\n              </cn>\\n             </apply>\\n            </annotation-xml>\\n            <annotation encoding=\\\"application/x-tex\\\" id=\\\"S5.T1.8.8.8.2.m1.1c\\\">\\n             190.1\\\\pm 8.64\\n            </annotation>\\n           </semantics>\\n          </math>\\n         </td>\\n         \",\n",
    "                \"<td class=\\\"ltx_td ltx_align_center\\\" id=\\\"S5.T1.9.9.9.3\\\">\\n          <math alttext=\\\"173.8\\\\pm 18.27\\\" class=\\\"ltx_Math\\\" display=\\\"inline\\\" id=\\\"S5.T1.9.9.9.3.m1.1\\\">\\n           <semantics id=\\\"S5.T1.9.9.9.3.m1.1a\\\">\\n            <mrow id=\\\"S5.T1.9.9.9.3.m1.1.1\\\" xref=\\\"S5.T1.9.9.9.3.m1.1.1.cmml\\\">\\n             <mn id=\\\"S5.T1.9.9.9.3.m1.1.1.2\\\" xref=\\\"S5.T1.9.9.9.3.m1.1.1.2.cmml\\\">\\n              173.8\\n             </mn>\\n             <mo id=\\\"S5.T1.9.9.9.3.m1.1.1.1\\\" xref=\\\"S5.T1.9.9.9.3.m1.1.1.1.cmml\\\">\\n              ±\\n             </mo>\\n             <mn id=\\\"S5.T1.9.9.9.3.m1.1.1.3\\\" xref=\\\"S5.T1.9.9.9.3.m1.1.1.3.cmml\\\">\\n              18.27\\n             </mn>\\n            </mrow>\\n            <annotation-xml encoding=\\\"MathML-Content\\\" id=\\\"S5.T1.9.9.9.3.m1.1b\\\">\\n             <apply id=\\\"S5.T1.9.9.9.3.m1.1.1.cmml\\\" xref=\\\"S5.T1.9.9.9.3.m1.1.1\\\">\\n              <csymbol cd=\\\"latexml\\\" id=\\\"S5.T1.9.9.9.3.m1.1.1.1.cmml\\\" xref=\\\"S5.T1.9.9.9.3.m1.1.1.1\\\">\\n               plus-or-minus\\n              </csymbol>\\n              <cn id=\\\"S5.T1.9.9.9.3.m1.1.1.2.cmml\\\" type=\\\"float\\\" xref=\\\"S5.T1.9.9.9.3.m1.1.1.2\\\">\\n               173.8\\n              </cn>\\n              <cn id=\\\"S5.T1.9.9.9.3.m1.1.1.3.cmml\\\" type=\\\"float\\\" xref=\\\"S5.T1.9.9.9.3.m1.1.1.3\\\">\\n               18.27\\n              </cn>\\n             </apply>\\n            </annotation-xml>\\n            <annotation encoding=\\\"application/x-tex\\\" id=\\\"S5.T1.9.9.9.3.m1.1c\\\">\\n             173.8\\\\pm 18.27\\n            </annotation>\\n           </semantics>\\n          </math>\\n         </td>\\n         \",\n",
    "                \"<td class=\\\"ltx_td ltx_align_center\\\" id=\\\"S5.T1.10.10.10.4\\\">\\n          <math alttext=\\\"169.5\\\\pm 10.09\\\" class=\\\"ltx_Math\\\" display=\\\"inline\\\" id=\\\"S5.T1.10.10.10.4.m1.1\\\">\\n           <semantics id=\\\"S5.T1.10.10.10.4.m1.1a\\\">\\n            <mrow id=\\\"S5.T1.10.10.10.4.m1.1.1\\\" xref=\\\"S5.T1.10.10.10.4.m1.1.1.cmml\\\">\\n             <mn id=\\\"S5.T1.10.10.10.4.m1.1.1.2\\\" xref=\\\"S5.T1.10.10.10.4.m1.1.1.2.cmml\\\">\\n              169.5\\n             </mn>\\n             <mo id=\\\"S5.T1.10.10.10.4.m1.1.1.1\\\" xref=\\\"S5.T1.10.10.10.4.m1.1.1.1.cmml\\\">\\n              ±\\n             </mo>\\n             <mn id=\\\"S5.T1.10.10.10.4.m1.1.1.3\\\" xref=\\\"S5.T1.10.10.10.4.m1.1.1.3.cmml\\\">\\n              10.09\\n             </mn>\\n            </mrow>\\n            <annotation-xml encoding=\\\"MathML-Content\\\" id=\\\"S5.T1.10.10.10.4.m1.1b\\\">\\n             <apply id=\\\"S5.T1.10.10.10.4.m1.1.1.cmml\\\" xref=\\\"S5.T1.10.10.10.4.m1.1.1\\\">\\n              <csymbol cd=\\\"latexml\\\" id=\\\"S5.T1.10.10.10.4.m1.1.1.1.cmml\\\" xref=\\\"S5.T1.10.10.10.4.m1.1.1.1\\\">\\n               plus-or-minus\\n              </csymbol>\\n              <cn id=\\\"S5.T1.10.10.10.4.m1.1.1.2.cmml\\\" type=\\\"float\\\" xref=\\\"S5.T1.10.10.10.4.m1.1.1.2\\\">\\n               169.5\\n              </cn>\\n              <cn id=\\\"S5.T1.10.10.10.4.m1.1.1.3.cmml\\\" type=\\\"float\\\" xref=\\\"S5.T1.10.10.10.4.m1.1.1.3\\\">\\n               10.09\\n              </cn>\\n             </apply>\\n            </annotation-xml>\\n            <annotation encoding=\\\"application/x-tex\\\" id=\\\"S5.T1.10.10.10.4.m1.1c\\\">\\n             169.5\\\\pm 10.09\\n            </annotation>\\n           </semantics>\\n          </math>\\n         </td>\\n         \",\n",
    "                \"<td class=\\\"ltx_td ltx_align_center\\\" id=\\\"S5.T1.11.11.11.5\\\">\\n          <math alttext=\\\"140.1\\\\pm 13.86\\\" class=\\\"ltx_Math\\\" display=\\\"inline\\\" id=\\\"S5.T1.11.11.11.5.m1.1\\\">\\n           <semantics id=\\\"S5.T1.11.11.11.5.m1.1a\\\">\\n            <mrow id=\\\"S5.T1.11.11.11.5.m1.1.1\\\" xref=\\\"S5.T1.11.11.11.5.m1.1.1.cmml\\\">\\n             <mn id=\\\"S5.T1.11.11.11.5.m1.1.1.2\\\" xref=\\\"S5.T1.11.11.11.5.m1.1.1.2.cmml\\\">\\n              140.1\\n             </mn>\\n             <mo id=\\\"S5.T1.11.11.11.5.m1.1.1.1\\\" xref=\\\"S5.T1.11.11.11.5.m1.1.1.1.cmml\\\">\\n              ±\\n             </mo>\\n             <mn id=\\\"S5.T1.11.11.11.5.m1.1.1.3\\\" xref=\\\"S5.T1.11.11.11.5.m1.1.1.3.cmml\\\">\\n              13.86\\n             </mn>\\n            </mrow>\\n            <annotation-xml encoding=\\\"MathML-Content\\\" id=\\\"S5.T1.11.11.11.5.m1.1b\\\">\\n             <apply id=\\\"S5.T1.11.11.11.5.m1.1.1.cmml\\\" xref=\\\"S5.T1.11.11.11.5.m1.1.1\\\">\\n              <csymbol cd=\\\"latexml\\\" id=\\\"S5.T1.11.11.11.5.m1.1.1.1.cmml\\\" xref=\\\"S5.T1.11.11.11.5.m1.1.1.1\\\">\\n               plus-or-minus\\n              </csymbol>\\n              <cn id=\\\"S5.T1.11.11.11.5.m1.1.1.2.cmml\\\" type=\\\"float\\\" xref=\\\"S5.T1.11.11.11.5.m1.1.1.2\\\">\\n               140.1\\n              </cn>\\n              <cn id=\\\"S5.T1.11.11.11.5.m1.1.1.3.cmml\\\" type=\\\"float\\\" xref=\\\"S5.T1.11.11.11.5.m1.1.1.3\\\">\\n               13.86\\n              </cn>\\n             </apply>\\n            </annotation-xml>\\n            <annotation encoding=\\\"application/x-tex\\\" id=\\\"S5.T1.11.11.11.5.m1.1c\\\">\\n             140.1\\\\pm 13.86\\n            </annotation>\\n           </semantics>\\n          </math>\\n         </td>\\n        \"\n",
    "            ],\n",
    "            [\n",
    "                \"<td class=\\\"ltx_td ltx_align_center ltx_border_bb\\\" id=\\\"S5.T1.12.12.12.1\\\">\\n          <math alttext=\\\"\\\\mathbf{220}\\\\pm 0\\\" class=\\\"ltx_Math\\\" display=\\\"inline\\\" id=\\\"S5.T1.12.12.12.1.m1.1\\\">\\n           <semantics id=\\\"S5.T1.12.12.12.1.m1.1a\\\">\\n            <mrow id=\\\"S5.T1.12.12.12.1.m1.1.1\\\" xref=\\\"S5.T1.12.12.12.1.m1.1.1.cmml\\\">\\n             <mn id=\\\"S5.T1.12.12.12.1.m1.1.1.2\\\" xref=\\\"S5.T1.12.12.12.1.m1.1.1.2.cmml\\\">\\n              𝟐𝟐𝟎\\n             </mn>\\n             <mo id=\\\"S5.T1.12.12.12.1.m1.1.1.1\\\" xref=\\\"S5.T1.12.12.12.1.m1.1.1.1.cmml\\\">\\n              ±\\n             </mo>\\n             <mn id=\\\"S5.T1.12.12.12.1.m1.1.1.3\\\" xref=\\\"S5.T1.12.12.12.1.m1.1.1.3.cmml\\\">\\n              0\\n             </mn>\\n            </mrow>\\n            <annotation-xml encoding=\\\"MathML-Content\\\" id=\\\"S5.T1.12.12.12.1.m1.1b\\\">\\n             <apply id=\\\"S5.T1.12.12.12.1.m1.1.1.cmml\\\" xref=\\\"S5.T1.12.12.12.1.m1.1.1\\\">\\n              <csymbol cd=\\\"latexml\\\" id=\\\"S5.T1.12.12.12.1.m1.1.1.1.cmml\\\" xref=\\\"S5.T1.12.12.12.1.m1.1.1.1\\\">\\n               plus-or-minus\\n              </csymbol>\\n              <cn id=\\\"S5.T1.12.12.12.1.m1.1.1.2.cmml\\\" type=\\\"integer\\\" xref=\\\"S5.T1.12.12.12.1.m1.1.1.2\\\">\\n               220\\n              </cn>\\n              <cn id=\\\"S5.T1.12.12.12.1.m1.1.1.3.cmml\\\" type=\\\"integer\\\" xref=\\\"S5.T1.12.12.12.1.m1.1.1.3\\\">\\n               0\\n              </cn>\\n             </apply>\\n            </annotation-xml>\\n            <annotation encoding=\\\"application/x-tex\\\" id=\\\"S5.T1.12.12.12.1.m1.1c\\\">\\n             \\\\mathbf{220}\\\\pm 0\\n            </annotation>\\n           </semantics>\\n          </math>\\n         </td>\\n         \",\n",
    "                \"<td class=\\\"ltx_td ltx_align_center ltx_border_bb\\\" id=\\\"S5.T1.13.13.13.2\\\">\\n          <math alttext=\\\"\\\\mathbf{280}\\\\pm 0\\\" class=\\\"ltx_Math\\\" display=\\\"inline\\\" id=\\\"S5.T1.13.13.13.2.m1.1\\\">\\n           <semantics id=\\\"S5.T1.13.13.13.2.m1.1a\\\">\\n            <mrow id=\\\"S5.T1.13.13.13.2.m1.1.1\\\" xref=\\\"S5.T1.13.13.13.2.m1.1.1.cmml\\\">\\n             <mn id=\\\"S5.T1.13.13.13.2.m1.1.1.2\\\" xref=\\\"S5.T1.13.13.13.2.m1.1.1.2.cmml\\\">\\n              𝟐𝟖𝟎\\n             </mn>\\n             <mo id=\\\"S5.T1.13.13.13.2.m1.1.1.1\\\" xref=\\\"S5.T1.13.13.13.2.m1.1.1.1.cmml\\\">\\n              ±\\n             </mo>\\n             <mn id=\\\"S5.T1.13.13.13.2.m1.1.1.3\\\" xref=\\\"S5.T1.13.13.13.2.m1.1.1.3.cmml\\\">\\n              0\\n             </mn>\\n            </mrow>\\n            <annotation-xml encoding=\\\"MathML-Content\\\" id=\\\"S5.T1.13.13.13.2.m1.1b\\\">\\n             <apply id=\\\"S5.T1.13.13.13.2.m1.1.1.cmml\\\" xref=\\\"S5.T1.13.13.13.2.m1.1.1\\\">\\n              <csymbol cd=\\\"latexml\\\" id=\\\"S5.T1.13.13.13.2.m1.1.1.1.cmml\\\" xref=\\\"S5.T1.13.13.13.2.m1.1.1.1\\\">\\n               plus-or-minus\\n              </csymbol>\\n              <cn id=\\\"S5.T1.13.13.13.2.m1.1.1.2.cmml\\\" type=\\\"integer\\\" xref=\\\"S5.T1.13.13.13.2.m1.1.1.2\\\">\\n               280\\n              </cn>\\n              <cn id=\\\"S5.T1.13.13.13.2.m1.1.1.3.cmml\\\" type=\\\"integer\\\" xref=\\\"S5.T1.13.13.13.2.m1.1.1.3\\\">\\n               0\\n              </cn>\\n             </apply>\\n            </annotation-xml>\\n            <annotation encoding=\\\"application/x-tex\\\" id=\\\"S5.T1.13.13.13.2.m1.1c\\\">\\n             \\\\mathbf{280}\\\\pm 0\\n            </annotation>\\n           </semantics>\\n          </math>\\n         </td>\\n         \",\n",
    "                \"<td class=\\\"ltx_td ltx_align_center ltx_border_bb\\\" id=\\\"S5.T1.14.14.14.3\\\">\\n          <math alttext=\\\"180\\\\pm 0\\\" class=\\\"ltx_Math\\\" display=\\\"inline\\\" id=\\\"S5.T1.14.14.14.3.m1.1\\\">\\n           <semantics id=\\\"S5.T1.14.14.14.3.m1.1a\\\">\\n            <mrow id=\\\"S5.T1.14.14.14.3.m1.1.1\\\" xref=\\\"S5.T1.14.14.14.3.m1.1.1.cmml\\\">\\n             <mn id=\\\"S5.T1.14.14.14.3.m1.1.1.2\\\" xref=\\\"S5.T1.14.14.14.3.m1.1.1.2.cmml\\\">\\n              180\\n             </mn>\\n             <mo id=\\\"S5.T1.14.14.14.3.m1.1.1.1\\\" xref=\\\"S5.T1.14.14.14.3.m1.1.1.1.cmml\\\">\\n              ±\\n             </mo>\\n             <mn id=\\\"S5.T1.14.14.14.3.m1.1.1.3\\\" xref=\\\"S5.T1.14.14.14.3.m1.1.1.3.cmml\\\">\\n              0\\n             </mn>\\n            </mrow>\\n            <annotation-xml encoding=\\\"MathML-Content\\\" id=\\\"S5.T1.14.14.14.3.m1.1b\\\">\\n             <apply id=\\\"S5.T1.14.14.14.3.m1.1.1.cmml\\\" xref=\\\"S5.T1.14.14.14.3.m1.1.1\\\">\\n              <csymbol cd=\\\"latexml\\\" id=\\\"S5.T1.14.14.14.3.m1.1.1.1.cmml\\\" xref=\\\"S5.T1.14.14.14.3.m1.1.1.1\\\">\\n               plus-or-minus\\n              </csymbol>\\n              <cn id=\\\"S5.T1.14.14.14.3.m1.1.1.2.cmml\\\" type=\\\"integer\\\" xref=\\\"S5.T1.14.14.14.3.m1.1.1.2\\\">\\n               180\\n              </cn>\\n              <cn id=\\\"S5.T1.14.14.14.3.m1.1.1.3.cmml\\\" type=\\\"integer\\\" xref=\\\"S5.T1.14.14.14.3.m1.1.1.3\\\">\\n               0\\n              </cn>\\n             </apply>\\n            </annotation-xml>\\n            <annotation encoding=\\\"application/x-tex\\\" id=\\\"S5.T1.14.14.14.3.m1.1c\\\">\\n             180\\\\pm 0\\n            </annotation>\\n           </semantics>\\n          </math>\\n         </td>\\n         \",\n",
    "                \"<td class=\\\"ltx_td ltx_align_center ltx_border_bb\\\" id=\\\"S5.T1.15.15.15.4\\\">\\n          <math alttext=\\\"\\\\mathbf{200}\\\\pm 0\\\" class=\\\"ltx_Math\\\" display=\\\"inline\\\" id=\\\"S5.T1.15.15.15.4.m1.1\\\">\\n           <semantics id=\\\"S5.T1.15.15.15.4.m1.1a\\\">\\n            <mrow id=\\\"S5.T1.15.15.15.4.m1.1.1\\\" xref=\\\"S5.T1.15.15.15.4.m1.1.1.cmml\\\">\\n             <mn id=\\\"S5.T1.15.15.15.4.m1.1.1.2\\\" xref=\\\"S5.T1.15.15.15.4.m1.1.1.2.cmml\\\">\\n              𝟐𝟎𝟎\\n             </mn>\\n             <mo id=\\\"S5.T1.15.15.15.4.m1.1.1.1\\\" xref=\\\"S5.T1.15.15.15.4.m1.1.1.1.cmml\\\">\\n              ±\\n             </mo>\\n             <mn id=\\\"S5.T1.15.15.15.4.m1.1.1.3\\\" xref=\\\"S5.T1.15.15.15.4.m1.1.1.3.cmml\\\">\\n              0\\n             </mn>\\n            </mrow>\\n            <annotation-xml encoding=\\\"MathML-Content\\\" id=\\\"S5.T1.15.15.15.4.m1.1b\\\">\\n             <apply id=\\\"S5.T1.15.15.15.4.m1.1.1.cmml\\\" xref=\\\"S5.T1.15.15.15.4.m1.1.1\\\">\\n              <csymbol cd=\\\"latexml\\\" id=\\\"S5.T1.15.15.15.4.m1.1.1.1.cmml\\\" xref=\\\"S5.T1.15.15.15.4.m1.1.1.1\\\">\\n               plus-or-minus\\n              </csymbol>\\n              <cn id=\\\"S5.T1.15.15.15.4.m1.1.1.2.cmml\\\" type=\\\"integer\\\" xref=\\\"S5.T1.15.15.15.4.m1.1.1.2\\\">\\n               200\\n              </cn>\\n              <cn id=\\\"S5.T1.15.15.15.4.m1.1.1.3.cmml\\\" type=\\\"integer\\\" xref=\\\"S5.T1.15.15.15.4.m1.1.1.3\\\">\\n               0\\n              </cn>\\n             </apply>\\n            </annotation-xml>\\n            <annotation encoding=\\\"application/x-tex\\\" id=\\\"S5.T1.15.15.15.4.m1.1c\\\">\\n             \\\\mathbf{200}\\\\pm 0\\n            </annotation>\\n           </semantics>\\n          </math>\\n         </td>\\n         \",\n",
    "                \"<td class=\\\"ltx_td ltx_align_center ltx_border_bb\\\" id=\\\"S5.T1.16.16.16.5\\\">\\n          <math alttext=\\\"\\\\mathbf{160}\\\\pm 0\\\" class=\\\"ltx_Math\\\" display=\\\"inline\\\" id=\\\"S5.T1.16.16.16.5.m1.1\\\">\\n           <semantics id=\\\"S5.T1.16.16.16.5.m1.1a\\\">\\n            <mrow id=\\\"S5.T1.16.16.16.5.m1.1.1\\\" xref=\\\"S5.T1.16.16.16.5.m1.1.1.cmml\\\">\\n             <mn id=\\\"S5.T1.16.16.16.5.m1.1.1.2\\\" xref=\\\"S5.T1.16.16.16.5.m1.1.1.2.cmml\\\">\\n              𝟏𝟔𝟎\\n             </mn>\\n             <mo id=\\\"S5.T1.16.16.16.5.m1.1.1.1\\\" xref=\\\"S5.T1.16.16.16.5.m1.1.1.1.cmml\\\">\\n              ±\\n             </mo>\\n             <mn id=\\\"S5.T1.16.16.16.5.m1.1.1.3\\\" xref=\\\"S5.T1.16.16.16.5.m1.1.1.3.cmml\\\">\\n              0\\n             </mn>\\n            </mrow>\\n            <annotation-xml encoding=\\\"MathML-Content\\\" id=\\\"S5.T1.16.16.16.5.m1.1b\\\">\\n             <apply id=\\\"S5.T1.16.16.16.5.m1.1.1.cmml\\\" xref=\\\"S5.T1.16.16.16.5.m1.1.1\\\">\\n              <csymbol cd=\\\"latexml\\\" id=\\\"S5.T1.16.16.16.5.m1.1.1.1.cmml\\\" xref=\\\"S5.T1.16.16.16.5.m1.1.1.1\\\">\\n               plus-or-minus\\n              </csymbol>\\n              <cn id=\\\"S5.T1.16.16.16.5.m1.1.1.2.cmml\\\" type=\\\"integer\\\" xref=\\\"S5.T1.16.16.16.5.m1.1.1.2\\\">\\n               160\\n              </cn>\\n              <cn id=\\\"S5.T1.16.16.16.5.m1.1.1.3.cmml\\\" type=\\\"integer\\\" xref=\\\"S5.T1.16.16.16.5.m1.1.1.3\\\">\\n               0\\n              </cn>\\n             </apply>\\n            </annotation-xml>\\n            <annotation encoding=\\\"application/x-tex\\\" id=\\\"S5.T1.16.16.16.5.m1.1c\\\">\\n             \\\\mathbf{160}\\\\pm 0\\n            </annotation>\\n           </semantics>\\n          </math>\\n         </td>\\n        \"\n",
    "            ]\n",
    "        ],\n",
    "        \"footnotes\": [],\n",
    "        \"references\": [\n",
    "            \"We pair two LLM-Co agents together to jointly coordinate and complete the cooking and delivery task in Overcooked-AI. This is analogous to testing agents trained with self-play methods being asked to jointly perform the task. We observe through visualizations of the gameplay that LLM-Co agents make effective use of all resources available to them to complete multiple deliveries effectively. In fact, without being trained or fine-tuned for the task, LLM-Co agents outperform or nearly match Self-Play baselines trained using Proximal Policy Optimization             Schulman et al. (               2017              )            or Population-Based Training             Jaderberg et al. (               2017              )            which are the gold standard for Multi-Agent Tasks on. Table                     1                   shows a numerical summary of the scores obtained by agents. These scores represent averages obtained from 100 runs across with standard deviation across 5 seeds for MARL agents. For LLM-Co agents, the score obtained by agents for a fixed game description and directives remains the same as the agent always chooses to take the same medium-level action for a given state and history. This outcome is noteworthy because it demonstrates that Language Learning Models (LLMs), specifically GPT-4             OpenAI (               2023              )            in this case, can outperform RL agents at cooperative multi-agent tasks with minimal scaffolding. We observed that LLM Agents are capable of achieving sustained coordination, adjusting to their partners, and correcting their own actions consistently.\"\n",
    "        ]\n",
    "    }"
   ]
  },
  {
   "cell_type": "code",
   "execution_count": 5,
   "metadata": {},
   "outputs": [
    {
     "ename": "NameError",
     "evalue": "name 'table_data' is not defined",
     "output_type": "error",
     "traceback": [
      "\u001b[0;31m---------------------------------------------------------------------------\u001b[0m",
      "\u001b[0;31mNameError\u001b[0m                                 Traceback (most recent call last)",
      "Cell \u001b[0;32mIn[5], line 25\u001b[0m\n\u001b[1;32m     21\u001b[0m         claims\u001b[38;5;241m.\u001b[39mappend(claim)\n\u001b[1;32m     23\u001b[0m     \u001b[38;5;28;01mreturn\u001b[39;00m claims\n\u001b[0;32m---> 25\u001b[0m claims \u001b[38;5;241m=\u001b[39m extract_claims(\u001b[43mtable_data\u001b[49m)\n\u001b[1;32m     26\u001b[0m \u001b[38;5;28;01mfor\u001b[39;00m claim \u001b[38;5;129;01min\u001b[39;00m claims:\n\u001b[1;32m     27\u001b[0m     \u001b[38;5;28mprint\u001b[39m(claim)\n",
      "\u001b[0;31mNameError\u001b[0m: name 'table_data' is not defined"
     ]
    }
   ],
   "source": [
    "from bs4 import BeautifulSoup\n",
    "\n",
    "def extract_claims(table_data):\n",
    "    claims = []\n",
    "    for row in table_data['table']:\n",
    "        specification = []\n",
    "        for cell in row:\n",
    "            soup = BeautifulSoup(cell, 'html.parser')\n",
    "            cell_content = soup.get_text(strip=True)\n",
    "            specification.append(cell_content)\n",
    "        \n",
    "        #questo avrebbe senso se l'ultima colonna rappresentasse davvero un conteggio totale ma cosí non é\n",
    "        outcome = specification.pop() if specification else \"N/A\"\n",
    "        measure = \"Count\"  \n",
    "\n",
    "\n",
    "        # Questo va cambiato in funzione delle tabelle complete\n",
    "        specification_str = \", \".join([f\"|name, {spec}|\" for spec in specification])\n",
    "        \n",
    "        claim = f\"{{{specification_str}}}, {measure}, {outcome}\"\n",
    "        claims.append(claim)\n",
    "    \n",
    "    return claims\n",
    "\n",
    "claims = extract_claims(table_data)\n",
    "for claim in claims:\n",
    "    print(claim)"
   ]
  },
  {
   "cell_type": "markdown",
   "metadata": {},
   "source": [
    "cioé di questa tabella abbiamo estratto solo 2 righe... voglio piange\n"
   ]
  },
  {
   "cell_type": "markdown",
   "metadata": {},
   "source": [
    "SICURAMENTE IL CODICE VA MODIFICATO IN CONSIDERAZIONE DELLE TABELLE BUONE CON TUTTE LE RIGHE E COLONNE.\n",
    "Infatti la prima riga che dovrebbe essere <thead> anche se non sempre contiene i nomi che poi andranno inseriti all'interno di specification_str"
   ]
  }
 ],
 "metadata": {
  "kernelspec": {
   "display_name": "Python 3",
   "language": "python",
   "name": "python3"
  },
  "language_info": {
   "codemirror_mode": {
    "name": "ipython",
    "version": 3
   },
   "file_extension": ".py",
   "mimetype": "text/x-python",
   "name": "python",
   "nbconvert_exporter": "python",
   "pygments_lexer": "ipython3",
   "version": "3.12.3"
  }
 },
 "nbformat": 4,
 "nbformat_minor": 2
}
