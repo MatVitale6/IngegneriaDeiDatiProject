{
 "cells": [
  {
   "cell_type": "code",
   "execution_count": null,
   "metadata": {},
   "outputs": [],
   "source": [
    "selected_files = [\n",
    "    '2405.04246v1.json',\n",
    "    '2409.05034.json',\n",
    "    '2402.12741.json',\n",
    "    '2402.04867.json',\n",
    "    '2208.13266.json',\n",
    "    '2408.08673.json',\n",
    "    '2404.17870v1.json',\n",
    "    '2410.07753.json',\n",
    "    '2408.08214.json',\n",
    "    '2409.00248.json']"
   ]
  }
 ],
 "metadata": {
  "kernelspec": {
   "display_name": "Python 3",
   "language": "python",
   "name": "python3"
  },
  "language_info": {
   "name": "python",
   "version": "3.12.3"
  }
 },
 "nbformat": 4,
 "nbformat_minor": 2
}
